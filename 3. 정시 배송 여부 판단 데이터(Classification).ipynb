{
 "cells": [
  {
   "cell_type": "markdown",
   "metadata": {},
   "source": [
    "# 작업 2유형\n",
    "- https://www.datamanim.com/dataset/03_dataq/typetwo.html#id5"
   ]
  },
  {
   "cell_type": "markdown",
   "metadata": {},
   "source": [
    "# 3. 정시 배송 여부 판단 데이터(Classification)\n",
    "\n",
    "> Attention\n",
    "- 데이터 설명 : e-commerce 배송의 정시 도착여부 (1: 정시배송 0 : 정시미배송)\n",
    "- 데이터 출처 :https://www.kaggle.com/datasets/prachi13/customer-analytics (참고, 데이터 수정)    \n",
    "- X_train : https://raw.githubusercontent.com/Datamanim/datarepo/main/shipping/X_train.csv\n",
    "- y_train : https://raw.githubusercontent.com/Datamanim/datarepo/main/shipping/y_train.csv\n",
    "- X_test : https://raw.githubusercontent.com/Datamanim/datarepo/main/shipping/X_test.csv\n",
    "- y_test(평가용) : https://raw.githubusercontent.com/Datamanim/datarepo/main/shipping/y_test.csv"
   ]
  },
  {
   "cell_type": "markdown",
   "metadata": {},
   "source": [
    "#### 0. 시험 환경 세팅"
   ]
  },
  {
   "cell_type": "code",
   "execution_count": 1,
   "metadata": {},
   "outputs": [
    {
     "data": {
      "text/plain": [
       "((6598, 11), (6598, 2), (4401, 11), (4401, 2))"
      ]
     },
     "execution_count": 1,
     "metadata": {},
     "output_type": "execute_result"
    }
   ],
   "source": [
    "import pandas as pd\n",
    "\n",
    "X_train = pd.read_csv(\"https://raw.githubusercontent.com/Datamanim/datarepo/main/shipping/X_train.csv\")\n",
    "y_train = pd.read_csv(\"https://raw.githubusercontent.com/Datamanim/datarepo/main/shipping/y_train.csv\")\n",
    "X_test= pd.read_csv(\"https://raw.githubusercontent.com/Datamanim/datarepo/main/shipping/X_test.csv\")\n",
    "y_test = pd.read_csv(\"https://raw.githubusercontent.com/Datamanim/datarepo/main/shipping/y_test.csv\")\n",
    "\n",
    "X_train.shape, y_train.shape, X_test.shape, y_test.shape"
   ]
  },
  {
   "cell_type": "markdown",
   "metadata": {},
   "source": [
    "#### 1. 라이브러리 및 데이터 호출"
   ]
  },
  {
   "cell_type": "code",
   "execution_count": 2,
   "metadata": {},
   "outputs": [],
   "source": [
    "import numpy as np\n",
    "import pandas as pd"
   ]
  },
  {
   "cell_type": "code",
   "execution_count": 3,
   "metadata": {},
   "outputs": [
    {
     "data": {
      "text/plain": [
       "((6598, 10), (4401, 10), (6598,))"
      ]
     },
     "execution_count": 3,
     "metadata": {},
     "output_type": "execute_result"
    }
   ],
   "source": [
    "X_train.drop('ID', axis=1, inplace=True)\n",
    "ID = X_test.pop('ID')\n",
    "\n",
    "y = y_train['Reached.on.Time_Y.N']\n",
    "\n",
    "X_train.shape, X_test.shape, y.shape"
   ]
  },
  {
   "cell_type": "markdown",
   "metadata": {},
   "source": [
    "#### 2. EDA"
   ]
  },
  {
   "cell_type": "code",
   "execution_count": 4,
   "metadata": {},
   "outputs": [
    {
     "name": "stdout",
     "output_type": "stream",
     "text": [
      "<class 'pandas.core.frame.DataFrame'>\n",
      "RangeIndex: 6598 entries, 0 to 6597\n",
      "Data columns (total 10 columns):\n",
      " #   Column               Non-Null Count  Dtype \n",
      "---  ------               --------------  ----- \n",
      " 0   Warehouse_block      6598 non-null   object\n",
      " 1   Mode_of_Shipment     6598 non-null   object\n",
      " 2   Customer_care_calls  6598 non-null   object\n",
      " 3   Customer_rating      6598 non-null   int64 \n",
      " 4   Cost_of_the_Product  6598 non-null   int64 \n",
      " 5   Prior_purchases      6598 non-null   int64 \n",
      " 6   Product_importance   6598 non-null   object\n",
      " 7   Gender               6598 non-null   object\n",
      " 8   Discount_offered     6598 non-null   int64 \n",
      " 9   Weight_in_gms        6598 non-null   int64 \n",
      "dtypes: int64(5), object(5)\n",
      "memory usage: 515.6+ KB\n",
      "None\n",
      "====================================================================================================\n",
      "Warehouse_block        0\n",
      "Mode_of_Shipment       0\n",
      "Customer_care_calls    0\n",
      "Customer_rating        0\n",
      "Cost_of_the_Product    0\n",
      "Prior_purchases        0\n",
      "Product_importance     0\n",
      "Gender                 0\n",
      "Discount_offered       0\n",
      "Weight_in_gms          0\n",
      "dtype: int64\n"
     ]
    }
   ],
   "source": [
    "print(X_train.info())\n",
    "print('='*100)\n",
    "print(X_train.isnull().sum())"
   ]
  },
  {
   "cell_type": "code",
   "execution_count": 5,
   "metadata": {},
   "outputs": [
    {
     "name": "stdout",
     "output_type": "stream",
     "text": [
      "<class 'pandas.core.frame.DataFrame'>\n",
      "RangeIndex: 4401 entries, 0 to 4400\n",
      "Data columns (total 10 columns):\n",
      " #   Column               Non-Null Count  Dtype \n",
      "---  ------               --------------  ----- \n",
      " 0   Warehouse_block      4401 non-null   object\n",
      " 1   Mode_of_Shipment     4401 non-null   object\n",
      " 2   Customer_care_calls  4401 non-null   object\n",
      " 3   Customer_rating      4401 non-null   int64 \n",
      " 4   Cost_of_the_Product  4401 non-null   int64 \n",
      " 5   Prior_purchases      4401 non-null   int64 \n",
      " 6   Product_importance   4401 non-null   object\n",
      " 7   Gender               4401 non-null   object\n",
      " 8   Discount_offered     4401 non-null   int64 \n",
      " 9   Weight_in_gms        4401 non-null   int64 \n",
      "dtypes: int64(5), object(5)\n",
      "memory usage: 344.0+ KB\n",
      "None\n",
      "====================================================================================================\n",
      "Warehouse_block        0\n",
      "Mode_of_Shipment       0\n",
      "Customer_care_calls    0\n",
      "Customer_rating        0\n",
      "Cost_of_the_Product    0\n",
      "Prior_purchases        0\n",
      "Product_importance     0\n",
      "Gender                 0\n",
      "Discount_offered       0\n",
      "Weight_in_gms          0\n",
      "dtype: int64\n"
     ]
    }
   ],
   "source": [
    "print(X_test.info())\n",
    "print('='*100)\n",
    "print(X_test.isnull().sum())"
   ]
  },
  {
   "cell_type": "code",
   "execution_count": 6,
   "metadata": {
    "scrolled": false
   },
   "outputs": [
    {
     "name": "stdout",
     "output_type": "stream",
     "text": [
      "Warehouse_block 고유값 개수 : 5 || 결측치 개수 : 0\n",
      "['A' 'F' 'C' 'B' 'D']\n",
      "F    2262\n",
      "B    1116\n",
      "A    1090\n",
      "D    1069\n",
      "C    1061\n",
      "Name: Warehouse_block, dtype: int64\n",
      "====================================================================================================\n",
      "Mode_of_Shipment 고유값 개수 : 3 || 결측치 개수 : 0\n",
      "['Flight' 'Ship' 'Road']\n",
      "Ship      4512\n",
      "Flight    1066\n",
      "Road      1020\n",
      "Name: Mode_of_Shipment, dtype: int64\n",
      "====================================================================================================\n",
      "Customer_care_calls 고유값 개수 : 6 || 결측치 개수 : 0\n",
      "['4' '3' '5' '6' '2' '$7']\n",
      "4     2115\n",
      "3     1919\n",
      "5     1403\n",
      "6      604\n",
      "2      404\n",
      "$7     153\n",
      "Name: Customer_care_calls, dtype: int64\n",
      "====================================================================================================\n",
      "Customer_rating 고유값 개수 : 5 || 결측치 개수 : 0\n",
      "[3 1 2 5 4]\n",
      "3    1367\n",
      "1    1341\n",
      "4    1330\n",
      "5    1285\n",
      "2    1275\n",
      "Name: Customer_rating, dtype: int64\n",
      "====================================================================================================\n",
      "Cost_of_the_Product 고유값 개수 : 215 || 결측치 개수 : 0\n",
      "[266 174 154 158 175 139 220 160 145 155 226 256 204 207 274 251 267 166\n",
      " 201 303 176 270 258 133 190 277 143 273 285 209 189 167 261 216 254 246\n",
      " 295 229 219 245 247 215 223 164 249 217 173 149 232 181 235 150 198 144\n",
      " 234 141 222 135 179 263 188 260 243 156 187 287 244 100 196 265 259 255\n",
      " 151 199 257 233 224 182 252 205 248 241 162 221 184  98 211 269 183 147\n",
      " 206 116 282 140 153 208 230 227 170 168 293 191 239 228 146  99 157 253\n",
      " 238 280 218 152 137 214 161 305 250 115 210 242 291 225 193 202 200 275\n",
      " 105 236 142 231 262 264 276 203 185 172 237 192 163 171 180 159 186 178\n",
      " 240 268 213 310 290 302 134 132 195 272 169 138 102 194 296 112 197 117\n",
      " 294 165 129 103 292 281 278 148 128 301 212 271 306 123 118 108 136 279\n",
      " 121 177  96 110 286 283 308 299 101 126 289 284  97 114 106 122 297 111\n",
      " 113 298 104 307 288 130 125 124 127 304 300 119 109 309 131 120 107]\n",
      "243    69\n",
      "245    66\n",
      "260    63\n",
      "246    63\n",
      "261    62\n",
      "       ..\n",
      "99      3\n",
      "118     3\n",
      "96      3\n",
      "107     2\n",
      "120     1\n",
      "Name: Cost_of_the_Product, Length: 215, dtype: int64\n",
      "====================================================================================================\n",
      "Prior_purchases 고유값 개수 : 8 || 결측치 개수 : 0\n",
      "[ 5  2 10  3  4  6  7  8]\n",
      "3     2361\n",
      "2     1523\n",
      "4     1337\n",
      "5      778\n",
      "6      339\n",
      "10     104\n",
      "7       83\n",
      "8       73\n",
      "Name: Prior_purchases, dtype: int64\n",
      "====================================================================================================\n",
      "Product_importance 고유값 개수 : 3 || 결측치 개수 : 0\n",
      "['high' 'low' 'medium']\n",
      "low       3162\n",
      "medium    2866\n",
      "high       570\n",
      "Name: Product_importance, dtype: int64\n",
      "====================================================================================================\n",
      "Gender 고유값 개수 : 2 || 결측치 개수 : 0\n",
      "['F' 'M']\n",
      "F    3311\n",
      "M    3287\n",
      "Name: Gender, dtype: int64\n",
      "====================================================================================================\n",
      "Discount_offered 고유값 개수 : 65 || 결측치 개수 : 0\n",
      "[ 5 44 10 27  7 17  4  9  3  6 20  8 48 37 12 49  1 32  2 22 45 16 13 43\n",
      " 63 18 58 47 14 42 50 23 33 61 29 51 21 25 35 65 36 55 40 60 59 38 54 39\n",
      " 46 57 56 34 19 64 62 31 53 52 15 41 11 24 30 28 26]\n",
      "10    523\n",
      "2     517\n",
      "7     515\n",
      "3     513\n",
      "9     506\n",
      "     ... \n",
      "24     23\n",
      "16     22\n",
      "42     21\n",
      "26     19\n",
      "30     16\n",
      "Name: Discount_offered, Length: 65, dtype: int64\n",
      "====================================================================================================\n",
      "Weight_in_gms 고유값 개수 : 3365 || 결측치 개수 : 0\n",
      "[1590 1556 5674 ... 4684 2148 1513]\n",
      "4883    9\n",
      "4410    9\n",
      "4562    8\n",
      "4887    8\n",
      "1150    8\n",
      "       ..\n",
      "4508    1\n",
      "2467    1\n",
      "4516    1\n",
      "2471    1\n",
      "2049    1\n",
      "Name: Weight_in_gms, Length: 3365, dtype: int64\n",
      "====================================================================================================\n"
     ]
    }
   ],
   "source": [
    "for c in X_train.columns:\n",
    "    print(c, '고유값 개수 :', X_train[c].nunique(), '|| 결측치 개수 :', X_train[c].isnull().sum())\n",
    "    print(X_train[c].unique())\n",
    "    print(X_train[c].value_counts())\n",
    "    print('='*100)"
   ]
  },
  {
   "cell_type": "code",
   "execution_count": 7,
   "metadata": {},
   "outputs": [
    {
     "name": "stdout",
     "output_type": "stream",
     "text": [
      "Customer_rating\n",
      "고유값 개수 : 5\n",
      "3    1367\n",
      "1    1341\n",
      "4    1330\n",
      "5    1285\n",
      "2    1275\n",
      "Name: Customer_rating, dtype: int64\n",
      "====================================================================================================\n",
      "Cost_of_the_Product\n",
      "고유값 개수 : 215\n",
      "243    69\n",
      "245    66\n",
      "260    63\n",
      "246    63\n",
      "261    62\n",
      "       ..\n",
      "99      3\n",
      "118     3\n",
      "96      3\n",
      "107     2\n",
      "120     1\n",
      "Name: Cost_of_the_Product, Length: 215, dtype: int64\n",
      "====================================================================================================\n",
      "Prior_purchases\n",
      "고유값 개수 : 8\n",
      "3     2361\n",
      "2     1523\n",
      "4     1337\n",
      "5      778\n",
      "6      339\n",
      "10     104\n",
      "7       83\n",
      "8       73\n",
      "Name: Prior_purchases, dtype: int64\n",
      "====================================================================================================\n",
      "Discount_offered\n",
      "고유값 개수 : 65\n",
      "10    523\n",
      "2     517\n",
      "7     515\n",
      "3     513\n",
      "9     506\n",
      "     ... \n",
      "24     23\n",
      "16     22\n",
      "42     21\n",
      "26     19\n",
      "30     16\n",
      "Name: Discount_offered, Length: 65, dtype: int64\n",
      "====================================================================================================\n",
      "Weight_in_gms\n",
      "고유값 개수 : 3365\n",
      "4883    9\n",
      "4410    9\n",
      "4562    8\n",
      "4887    8\n",
      "1150    8\n",
      "       ..\n",
      "4508    1\n",
      "2467    1\n",
      "4516    1\n",
      "2471    1\n",
      "2049    1\n",
      "Name: Weight_in_gms, Length: 3365, dtype: int64\n",
      "====================================================================================================\n"
     ]
    }
   ],
   "source": [
    "int_col = X_train.select_dtypes(exclude='object').columns\n",
    "\n",
    "for c in int_col:\n",
    "    print(c)\n",
    "    print('고유값 개수 :', X_train[c].nunique())\n",
    "    print(X_train[c].value_counts())\n",
    "    print('='*100)"
   ]
  },
  {
   "cell_type": "code",
   "execution_count": 8,
   "metadata": {},
   "outputs": [
    {
     "name": "stdout",
     "output_type": "stream",
     "text": [
      "Warehouse_block\n",
      "고유값 개수 : 5\n",
      "F    2262\n",
      "B    1116\n",
      "A    1090\n",
      "D    1069\n",
      "C    1061\n",
      "Name: Warehouse_block, dtype: int64\n",
      "====================================================================================================\n",
      "Mode_of_Shipment\n",
      "고유값 개수 : 3\n",
      "Ship      4512\n",
      "Flight    1066\n",
      "Road      1020\n",
      "Name: Mode_of_Shipment, dtype: int64\n",
      "====================================================================================================\n",
      "Customer_care_calls\n",
      "고유값 개수 : 6\n",
      "4     2115\n",
      "3     1919\n",
      "5     1403\n",
      "6      604\n",
      "2      404\n",
      "$7     153\n",
      "Name: Customer_care_calls, dtype: int64\n",
      "====================================================================================================\n",
      "Product_importance\n",
      "고유값 개수 : 3\n",
      "low       3162\n",
      "medium    2866\n",
      "high       570\n",
      "Name: Product_importance, dtype: int64\n",
      "====================================================================================================\n",
      "Gender\n",
      "고유값 개수 : 2\n",
      "F    3311\n",
      "M    3287\n",
      "Name: Gender, dtype: int64\n",
      "====================================================================================================\n"
     ]
    }
   ],
   "source": [
    "obj_col = X_train.select_dtypes(include='object').columns\n",
    "\n",
    "for c in obj_col:\n",
    "    print(c)\n",
    "    print('고유값 개수 :', X_train[c].nunique())\n",
    "    print(X_train[c].value_counts())\n",
    "    print('='*100)"
   ]
  },
  {
   "cell_type": "markdown",
   "metadata": {},
   "source": [
    "#### 3. Preprocessing"
   ]
  },
  {
   "cell_type": "markdown",
   "metadata": {},
   "source": [
    "> 수치형 컬럼\n",
    "- RobustScaler"
   ]
  },
  {
   "cell_type": "code",
   "execution_count": 9,
   "metadata": {},
   "outputs": [],
   "source": [
    "#from sklearn.preprocessing import MinMaxScaler\n",
    "#from sklearn.preprocessing import StandardScaler\n",
    "from sklearn.preprocessing import RobustScaler\n",
    "#from sklearn.preprocessing import MaxAbsScaler\n",
    "\n",
    "#scaler = MinMaxScaler()\n",
    "#scaler = StandardScaler()\n",
    "scaler = RobustScaler()\n",
    "#scaler = MaxAbsScaler()\n",
    "\n",
    "X_train[int_col] = scaler.fit_transform(X_train[int_col])\n",
    "X_test[int_col] = scaler.transform(X_test[int_col])"
   ]
  },
  {
   "cell_type": "markdown",
   "metadata": {},
   "source": [
    "> 범주형 컬럼\n",
    "- 인코딩 : pd.get_dummies"
   ]
  },
  {
   "cell_type": "code",
   "execution_count": 10,
   "metadata": {},
   "outputs": [],
   "source": [
    "X_train = pd.get_dummies(X_train)\n",
    "X_test = pd.get_dummies(X_test)"
   ]
  },
  {
   "cell_type": "markdown",
   "metadata": {},
   "source": [
    "#### 4. Modeling"
   ]
  },
  {
   "cell_type": "code",
   "execution_count": 11,
   "metadata": {},
   "outputs": [],
   "source": [
    "from sklearn.model_selection import train_test_split, GridSearchCV\n",
    "from sklearn.ensemble import RandomForestClassifier, GradientBoostingClassifier\n",
    "from xgboost import XGBClassifier, XGBRFClassifier\n",
    "from sklearn.metrics import accuracy_score, roc_auc_score"
   ]
  },
  {
   "cell_type": "code",
   "execution_count": 12,
   "metadata": {},
   "outputs": [],
   "source": [
    "X_tr, X_val, y_tr, y_val = train_test_split(X_train, y, test_size=0.15, shuffle=True, stratify=y, random_state=156)"
   ]
  },
  {
   "cell_type": "code",
   "execution_count": 13,
   "metadata": {},
   "outputs": [],
   "source": [
    "rf = RandomForestClassifier(random_state=156)\n",
    "gb = GradientBoostingClassifier(random_state=156)\n",
    "xgb = XGBClassifier(random_state=156)\n",
    "xgbrf = XGBRFClassifier(random_state=156)\n",
    "\n",
    "models = [rf, gb, xgb, xgbrf]"
   ]
  },
  {
   "cell_type": "code",
   "execution_count": 14,
   "metadata": {},
   "outputs": [
    {
     "name": "stdout",
     "output_type": "stream",
     "text": [
      "RandomForestClassifier\n",
      "accuracy : 0.6474747474747474\n",
      "auc : 0.7297304174140937\n",
      "==========\n",
      "GradientBoostingClassifier\n",
      "accuracy : 0.6707070707070707\n",
      "auc : 0.7439771170735638\n",
      "==========\n",
      "XGBClassifier\n",
      "accuracy : 0.6585858585858586\n",
      "auc : 0.746782353514921\n",
      "==========\n",
      "XGBRFClassifier\n",
      "accuracy : 0.6787878787878788\n",
      "auc : 0.7556178941431413\n",
      "==========\n"
     ]
    }
   ],
   "source": [
    "for model in models:\n",
    "    model.fit(X_tr, y_tr)\n",
    "    pred = model.predict(X_val)\n",
    "    pred_proba = model.predict_proba(X_val)[:, 1]\n",
    "    \n",
    "    name = str(model).split('(')[0]\n",
    "    print(name)\n",
    "    print('accuracy :', accuracy_score(y_val, pred))\n",
    "    print('auc :', roc_auc_score(y_val, pred_proba))\n",
    "    print('='*10)"
   ]
  },
  {
   "cell_type": "markdown",
   "metadata": {},
   "source": [
    "> GridSearchCV"
   ]
  },
  {
   "cell_type": "code",
   "execution_count": 15,
   "metadata": {},
   "outputs": [],
   "source": [
    "params = {'n_estimators':[100, 500], 'max_depth':[1,2,3,4,5]}"
   ]
  },
  {
   "cell_type": "code",
   "execution_count": 16,
   "metadata": {},
   "outputs": [
    {
     "name": "stdout",
     "output_type": "stream",
     "text": [
      "RandomForestClassifier\n",
      "params : {'max_depth': 3, 'n_estimators': 100}\n",
      "score : 0.7533707849300786\n",
      "==========\n",
      "GradientBoostingClassifier\n",
      "params : {'max_depth': 1, 'n_estimators': 100}\n",
      "score : 0.7515002836468639\n",
      "==========\n",
      "XGBClassifier\n",
      "params : {'max_depth': 1, 'n_estimators': 100}\n",
      "score : 0.7493003904349096\n",
      "==========\n",
      "XGBRFClassifier\n",
      "params : {'max_depth': 3, 'n_estimators': 500}\n",
      "score : 0.75432330803427\n",
      "==========\n"
     ]
    }
   ],
   "source": [
    "for model in models:\n",
    "    gscv = GridSearchCV(model, params, cv=3, scoring='roc_auc')\n",
    "    gscv.fit(X_tr, y_tr)\n",
    "    \n",
    "    print(str(model).split('(')[0])\n",
    "    print('params :', gscv.best_params_)\n",
    "    print('score :', gscv.best_score_)\n",
    "    print('='*10)"
   ]
  },
  {
   "cell_type": "code",
   "execution_count": 17,
   "metadata": {},
   "outputs": [],
   "source": [
    "xgbrf = XGBRFClassifier(random_state=156, max_depth=3, n_estimators=500)\n",
    "\n",
    "xgbrf.fit(X_train, y)\n",
    "pred = xgbrf.predict(X_test)\n",
    "pred_proba = xgbrf.predict_proba(X_test)[:,1]"
   ]
  },
  {
   "cell_type": "code",
   "execution_count": 18,
   "metadata": {},
   "outputs": [
    {
     "data": {
      "text/html": [
       "<div>\n",
       "<style scoped>\n",
       "    .dataframe tbody tr th:only-of-type {\n",
       "        vertical-align: middle;\n",
       "    }\n",
       "\n",
       "    .dataframe tbody tr th {\n",
       "        vertical-align: top;\n",
       "    }\n",
       "\n",
       "    .dataframe thead th {\n",
       "        text-align: right;\n",
       "    }\n",
       "</style>\n",
       "<table border=\"1\" class=\"dataframe\">\n",
       "  <thead>\n",
       "    <tr style=\"text-align: right;\">\n",
       "      <th></th>\n",
       "      <th>ID</th>\n",
       "      <th>Reached.on.Time_Y.N</th>\n",
       "    </tr>\n",
       "  </thead>\n",
       "  <tbody>\n",
       "    <tr>\n",
       "      <th>0</th>\n",
       "      <td>6811</td>\n",
       "      <td>0</td>\n",
       "    </tr>\n",
       "    <tr>\n",
       "      <th>1</th>\n",
       "      <td>4320</td>\n",
       "      <td>0</td>\n",
       "    </tr>\n",
       "    <tr>\n",
       "      <th>2</th>\n",
       "      <td>5732</td>\n",
       "      <td>0</td>\n",
       "    </tr>\n",
       "    <tr>\n",
       "      <th>3</th>\n",
       "      <td>7429</td>\n",
       "      <td>0</td>\n",
       "    </tr>\n",
       "    <tr>\n",
       "      <th>4</th>\n",
       "      <td>2191</td>\n",
       "      <td>1</td>\n",
       "    </tr>\n",
       "    <tr>\n",
       "      <th>...</th>\n",
       "      <td>...</td>\n",
       "      <td>...</td>\n",
       "    </tr>\n",
       "    <tr>\n",
       "      <th>4396</th>\n",
       "      <td>2610</td>\n",
       "      <td>1</td>\n",
       "    </tr>\n",
       "    <tr>\n",
       "      <th>4397</th>\n",
       "      <td>3406</td>\n",
       "      <td>0</td>\n",
       "    </tr>\n",
       "    <tr>\n",
       "      <th>4398</th>\n",
       "      <td>10395</td>\n",
       "      <td>0</td>\n",
       "    </tr>\n",
       "    <tr>\n",
       "      <th>4399</th>\n",
       "      <td>3646</td>\n",
       "      <td>0</td>\n",
       "    </tr>\n",
       "    <tr>\n",
       "      <th>4400</th>\n",
       "      <td>573</td>\n",
       "      <td>1</td>\n",
       "    </tr>\n",
       "  </tbody>\n",
       "</table>\n",
       "<p>4401 rows × 2 columns</p>\n",
       "</div>"
      ],
      "text/plain": [
       "         ID  Reached.on.Time_Y.N\n",
       "0      6811                    0\n",
       "1      4320                    0\n",
       "2      5732                    0\n",
       "3      7429                    0\n",
       "4      2191                    1\n",
       "...     ...                  ...\n",
       "4396   2610                    1\n",
       "4397   3406                    0\n",
       "4398  10395                    0\n",
       "4399   3646                    0\n",
       "4400    573                    1\n",
       "\n",
       "[4401 rows x 2 columns]"
      ]
     },
     "execution_count": 18,
     "metadata": {},
     "output_type": "execute_result"
    }
   ],
   "source": [
    "out_data = pd.DataFrame({'ID' : ID, 'Reached.on.Time_Y.N' : pred})\n",
    "out_data"
   ]
  },
  {
   "cell_type": "code",
   "execution_count": 19,
   "metadata": {},
   "outputs": [],
   "source": [
    "# out_data.to_csv('123456.csv', index_False)"
   ]
  },
  {
   "cell_type": "code",
   "execution_count": 20,
   "metadata": {
    "scrolled": true
   },
   "outputs": [
    {
     "name": "stdout",
     "output_type": "stream",
     "text": [
      "accuracy : 0.6693933197000682\n",
      "auc : 0.7339681194554991\n"
     ]
    }
   ],
   "source": [
    "# 가채점\n",
    "print('accuracy :', accuracy_score(y_test['Reached.on.Time_Y.N'], pred))\n",
    "print('auc :', roc_auc_score(y_test['Reached.on.Time_Y.N'], pred_proba))"
   ]
  },
  {
   "cell_type": "markdown",
   "metadata": {},
   "source": [
    "#### 5. 다른 모델 평가"
   ]
  },
  {
   "cell_type": "markdown",
   "metadata": {},
   "source": [
    "> GridSearchCV 전"
   ]
  },
  {
   "cell_type": "code",
   "execution_count": 21,
   "metadata": {},
   "outputs": [],
   "source": [
    "rf = RandomForestClassifier(random_state=156)\n",
    "gb = GradientBoostingClassifier(random_state=156)\n",
    "xgb = XGBClassifier(random_state=156)\n",
    "xgbrf = XGBRFClassifier(random_state=156)\n",
    "\n",
    "models = [rf, gb, xgb, xgbrf]"
   ]
  },
  {
   "cell_type": "code",
   "execution_count": 22,
   "metadata": {},
   "outputs": [
    {
     "name": "stdout",
     "output_type": "stream",
     "text": [
      "RandomForestClassifier\n",
      "accuracy : 0.6518972960690752\n",
      "auc : 0.7289902706413653\n",
      "==========\n",
      "GradientBoostingClassifier\n",
      "accuracy : 0.6778004998863895\n",
      "auc : 0.7373651352134131\n",
      "==========\n",
      "XGBClassifier\n",
      "accuracy : 0.6528061804135423\n",
      "auc : 0.7304137390987202\n",
      "==========\n",
      "XGBRFClassifier\n",
      "accuracy : 0.6753010679391047\n",
      "auc : 0.7330727395599799\n",
      "==========\n"
     ]
    }
   ],
   "source": [
    "for model in models:\n",
    "    model.fit(X_train, y)\n",
    "    pred = model.predict(X_test)\n",
    "    pred_proba = model.predict_proba(X_test)[:, 1]\n",
    "    \n",
    "    name = str(model).split('(')[0]\n",
    "    print(name)\n",
    "    print('accuracy :', accuracy_score(y_test['Reached.on.Time_Y.N'], pred))\n",
    "    print('auc :', roc_auc_score(y_test['Reached.on.Time_Y.N'], pred_proba))\n",
    "    print('='*10)"
   ]
  },
  {
   "cell_type": "markdown",
   "metadata": {},
   "source": [
    "> GridSearchCV 후"
   ]
  },
  {
   "cell_type": "code",
   "execution_count": 23,
   "metadata": {},
   "outputs": [],
   "source": [
    "rf = RandomForestClassifier(random_state=156, max_depth=3, n_estimators=100)\n",
    "gb = GradientBoostingClassifier(random_state=156, max_depth=1, n_estimators=100)\n",
    "xgb = XGBClassifier(random_state=156, max_depth=1, n_estimators=100)\n",
    "xgbrf = XGBRFClassifier(random_state=156, max_depth=3, n_estimators=500)\n",
    "\n",
    "models = [rf, gb, xgb, xgbrf]"
   ]
  },
  {
   "cell_type": "code",
   "execution_count": 24,
   "metadata": {
    "scrolled": true
   },
   "outputs": [
    {
     "name": "stdout",
     "output_type": "stream",
     "text": [
      "RandomForestClassifier\n",
      "accuracy : 0.6578050443081118\n",
      "auc : 0.7358325735065381\n",
      "==========\n",
      "GradientBoostingClassifier\n",
      "accuracy : 0.6643944558054987\n",
      "auc : 0.7351648198405971\n",
      "==========\n",
      "XGBClassifier\n",
      "accuracy : 0.667348329925017\n",
      "auc : 0.7348506269911932\n",
      "==========\n",
      "XGBRFClassifier\n",
      "accuracy : 0.6693933197000682\n",
      "auc : 0.7339681194554991\n",
      "==========\n"
     ]
    }
   ],
   "source": [
    "for model in models:\n",
    "    model.fit(X_train, y)\n",
    "    pred = model.predict(X_test)\n",
    "    pred_proba = model.predict_proba(X_test)[:, 1]\n",
    "    \n",
    "    name = str(model).split('(')[0]\n",
    "    print(name)\n",
    "    print('accuracy :', accuracy_score(y_test['Reached.on.Time_Y.N'], pred))\n",
    "    print('auc :', roc_auc_score(y_test['Reached.on.Time_Y.N'], pred_proba))\n",
    "    print('='*10)"
   ]
  },
  {
   "cell_type": "code",
   "execution_count": null,
   "metadata": {},
   "outputs": [],
   "source": []
  }
 ],
 "metadata": {
  "kernelspec": {
   "display_name": "ml",
   "language": "python",
   "name": "ml"
  },
  "language_info": {
   "codemirror_mode": {
    "name": "ipython",
    "version": 3
   },
   "file_extension": ".py",
   "mimetype": "text/x-python",
   "name": "python",
   "nbconvert_exporter": "python",
   "pygments_lexer": "ipython3",
   "version": "3.7.0"
  }
 },
 "nbformat": 4,
 "nbformat_minor": 2
}
