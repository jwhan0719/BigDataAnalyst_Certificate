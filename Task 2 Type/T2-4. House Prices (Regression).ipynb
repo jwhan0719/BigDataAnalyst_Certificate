{
 "cells": [
  {
   "cell_type": "markdown",
   "metadata": {},
   "source": [
    "# 빅데이터 분석기사 실기 준비 놀이터\n",
    "- https://www.kaggle.com/datasets/agileteam/bigdatacertificationkr"
   ]
  },
  {
   "cell_type": "markdown",
   "metadata": {},
   "source": [
    "## T2-4. House Prices (Regression) / 집값 예측 / RMSE\n",
    "\n",
    "### 2. 집값 예측\n",
    "- 데이터셋 : House Prices - Advanced Regression Techniques_train.csv\n",
    "- 이상치 처리 : Glucose, BloodPressure, SkinThickness, Insulin, BMI가 0인 값\n",
    "- https://www.kaggle.com/code/agileteam/house-prices-starter-xgb"
   ]
  },
  {
   "cell_type": "markdown",
   "metadata": {},
   "source": [
    "#### 0. 시험 환경 세팅"
   ]
  },
  {
   "cell_type": "code",
   "execution_count": 1,
   "metadata": {},
   "outputs": [
    {
     "data": {
      "text/plain": [
       "((1168, 80), (292, 80), (1168, 2), (292, 2))"
      ]
     },
     "execution_count": 1,
     "metadata": {},
     "output_type": "execute_result"
    }
   ],
   "source": [
    "import pandas as pd\n",
    "import numpy as np\n",
    "from sklearn.model_selection import train_test_split\n",
    "\n",
    "def exam_data_load(df, target, id_name=\"\", null_name=\"\"):\n",
    "    if id_name == \"\":\n",
    "        df = df.reset_index().rename(columns={\"index\": \"id\"})\n",
    "        id_name = 'id'\n",
    "    else:\n",
    "        id_name = id_name\n",
    "    \n",
    "    if null_name != \"\":\n",
    "        df[df == null_name] = np.nan\n",
    "    \n",
    "    X_train, X_test = train_test_split(df, test_size=0.2, random_state=2021)\n",
    "    \n",
    "    y_train = X_train[[id_name, target]]\n",
    "    X_train = X_train.drop(columns=[target])\n",
    "\n",
    "    \n",
    "    y_test = X_test[[id_name, target]]\n",
    "    X_test = X_test.drop(columns=[target])\n",
    "    return X_train, X_test, y_train, y_test \n",
    "    \n",
    "df = pd.read_csv(\"./data/House Prices - Advanced Regression Techniques_train.csv\")\n",
    "X_train, X_test, y_train, y_test = exam_data_load(df, target='SalePrice', id_name='Id')\n",
    "\n",
    "X_train.shape, X_test.shape, y_train.shape, y_test.shape"
   ]
  },
  {
   "cell_type": "markdown",
   "metadata": {},
   "source": [
    "#### 1. 라이브러리 및 데이터 호출"
   ]
  },
  {
   "cell_type": "code",
   "execution_count": 2,
   "metadata": {},
   "outputs": [
    {
     "data": {
      "text/plain": [
       "((1168, 80), (292, 80), (1168, 2))"
      ]
     },
     "execution_count": 2,
     "metadata": {},
     "output_type": "execute_result"
    }
   ],
   "source": [
    "import pandas as pd\n",
    "import numpy as np\n",
    "\n",
    "X_train.shape, X_test.shape, y_train.shape"
   ]
  },
  {
   "cell_type": "code",
   "execution_count": 3,
   "metadata": {},
   "outputs": [],
   "source": [
    "X_train.drop('Id', axis=1, inplace=True)\n",
    "Id = X_test.pop('Id')\n",
    "\n",
    "y = y_train['SalePrice']"
   ]
  },
  {
   "cell_type": "markdown",
   "metadata": {},
   "source": [
    "#### 2. EDA"
   ]
  },
  {
   "cell_type": "code",
   "execution_count": 4,
   "metadata": {
    "scrolled": true
   },
   "outputs": [
    {
     "name": "stdout",
     "output_type": "stream",
     "text": [
      "<class 'pandas.core.frame.DataFrame'>\n",
      "Int64Index: 1168 entries, 81 to 1140\n",
      "Data columns (total 79 columns):\n",
      " #   Column         Non-Null Count  Dtype  \n",
      "---  ------         --------------  -----  \n",
      " 0   MSSubClass     1168 non-null   int64  \n",
      " 1   MSZoning       1168 non-null   object \n",
      " 2   LotFrontage    956 non-null    float64\n",
      " 3   LotArea        1168 non-null   int64  \n",
      " 4   Street         1168 non-null   object \n",
      " 5   Alley          70 non-null     object \n",
      " 6   LotShape       1168 non-null   object \n",
      " 7   LandContour    1168 non-null   object \n",
      " 8   Utilities      1168 non-null   object \n",
      " 9   LotConfig      1168 non-null   object \n",
      " 10  LandSlope      1168 non-null   object \n",
      " 11  Neighborhood   1168 non-null   object \n",
      " 12  Condition1     1168 non-null   object \n",
      " 13  Condition2     1168 non-null   object \n",
      " 14  BldgType       1168 non-null   object \n",
      " 15  HouseStyle     1168 non-null   object \n",
      " 16  OverallQual    1168 non-null   int64  \n",
      " 17  OverallCond    1168 non-null   int64  \n",
      " 18  YearBuilt      1168 non-null   int64  \n",
      " 19  YearRemodAdd   1168 non-null   int64  \n",
      " 20  RoofStyle      1168 non-null   object \n",
      " 21  RoofMatl       1168 non-null   object \n",
      " 22  Exterior1st    1168 non-null   object \n",
      " 23  Exterior2nd    1168 non-null   object \n",
      " 24  MasVnrType     1162 non-null   object \n",
      " 25  MasVnrArea     1162 non-null   float64\n",
      " 26  ExterQual      1168 non-null   object \n",
      " 27  ExterCond      1168 non-null   object \n",
      " 28  Foundation     1168 non-null   object \n",
      " 29  BsmtQual       1139 non-null   object \n",
      " 30  BsmtCond       1139 non-null   object \n",
      " 31  BsmtExposure   1138 non-null   object \n",
      " 32  BsmtFinType1   1139 non-null   object \n",
      " 33  BsmtFinSF1     1168 non-null   int64  \n",
      " 34  BsmtFinType2   1139 non-null   object \n",
      " 35  BsmtFinSF2     1168 non-null   int64  \n",
      " 36  BsmtUnfSF      1168 non-null   int64  \n",
      " 37  TotalBsmtSF    1168 non-null   int64  \n",
      " 38  Heating        1168 non-null   object \n",
      " 39  HeatingQC      1168 non-null   object \n",
      " 40  CentralAir     1168 non-null   object \n",
      " 41  Electrical     1167 non-null   object \n",
      " 42  1stFlrSF       1168 non-null   int64  \n",
      " 43  2ndFlrSF       1168 non-null   int64  \n",
      " 44  LowQualFinSF   1168 non-null   int64  \n",
      " 45  GrLivArea      1168 non-null   int64  \n",
      " 46  BsmtFullBath   1168 non-null   int64  \n",
      " 47  BsmtHalfBath   1168 non-null   int64  \n",
      " 48  FullBath       1168 non-null   int64  \n",
      " 49  HalfBath       1168 non-null   int64  \n",
      " 50  BedroomAbvGr   1168 non-null   int64  \n",
      " 51  KitchenAbvGr   1168 non-null   int64  \n",
      " 52  KitchenQual    1168 non-null   object \n",
      " 53  TotRmsAbvGrd   1168 non-null   int64  \n",
      " 54  Functional     1168 non-null   object \n",
      " 55  Fireplaces     1168 non-null   int64  \n",
      " 56  FireplaceQu    615 non-null    object \n",
      " 57  GarageType     1107 non-null   object \n",
      " 58  GarageYrBlt    1107 non-null   float64\n",
      " 59  GarageFinish   1107 non-null   object \n",
      " 60  GarageCars     1168 non-null   int64  \n",
      " 61  GarageArea     1168 non-null   int64  \n",
      " 62  GarageQual     1107 non-null   object \n",
      " 63  GarageCond     1107 non-null   object \n",
      " 64  PavedDrive     1168 non-null   object \n",
      " 65  WoodDeckSF     1168 non-null   int64  \n",
      " 66  OpenPorchSF    1168 non-null   int64  \n",
      " 67  EnclosedPorch  1168 non-null   int64  \n",
      " 68  3SsnPorch      1168 non-null   int64  \n",
      " 69  ScreenPorch    1168 non-null   int64  \n",
      " 70  PoolArea       1168 non-null   int64  \n",
      " 71  PoolQC         5 non-null      object \n",
      " 72  Fence          231 non-null    object \n",
      " 73  MiscFeature    44 non-null     object \n",
      " 74  MiscVal        1168 non-null   int64  \n",
      " 75  MoSold         1168 non-null   int64  \n",
      " 76  YrSold         1168 non-null   int64  \n",
      " 77  SaleType       1168 non-null   object \n",
      " 78  SaleCondition  1168 non-null   object \n",
      "dtypes: float64(3), int64(33), object(43)\n",
      "memory usage: 730.0+ KB\n"
     ]
    },
    {
     "data": {
      "text/plain": [
       "None"
      ]
     },
     "metadata": {},
     "output_type": "display_data"
    },
    {
     "data": {
      "text/html": [
       "<div>\n",
       "<style scoped>\n",
       "    .dataframe tbody tr th:only-of-type {\n",
       "        vertical-align: middle;\n",
       "    }\n",
       "\n",
       "    .dataframe tbody tr th {\n",
       "        vertical-align: top;\n",
       "    }\n",
       "\n",
       "    .dataframe thead th {\n",
       "        text-align: right;\n",
       "    }\n",
       "</style>\n",
       "<table border=\"1\" class=\"dataframe\">\n",
       "  <thead>\n",
       "    <tr style=\"text-align: right;\">\n",
       "      <th></th>\n",
       "      <th>MSSubClass</th>\n",
       "      <th>MSZoning</th>\n",
       "      <th>LotFrontage</th>\n",
       "      <th>LotArea</th>\n",
       "      <th>Street</th>\n",
       "      <th>Alley</th>\n",
       "      <th>LotShape</th>\n",
       "      <th>LandContour</th>\n",
       "      <th>Utilities</th>\n",
       "      <th>LotConfig</th>\n",
       "      <th>...</th>\n",
       "      <th>ScreenPorch</th>\n",
       "      <th>PoolArea</th>\n",
       "      <th>PoolQC</th>\n",
       "      <th>Fence</th>\n",
       "      <th>MiscFeature</th>\n",
       "      <th>MiscVal</th>\n",
       "      <th>MoSold</th>\n",
       "      <th>YrSold</th>\n",
       "      <th>SaleType</th>\n",
       "      <th>SaleCondition</th>\n",
       "    </tr>\n",
       "  </thead>\n",
       "  <tbody>\n",
       "    <tr>\n",
       "      <th>81</th>\n",
       "      <td>120</td>\n",
       "      <td>RM</td>\n",
       "      <td>32.0</td>\n",
       "      <td>4500</td>\n",
       "      <td>Pave</td>\n",
       "      <td>NaN</td>\n",
       "      <td>Reg</td>\n",
       "      <td>Lvl</td>\n",
       "      <td>AllPub</td>\n",
       "      <td>FR2</td>\n",
       "      <td>...</td>\n",
       "      <td>0</td>\n",
       "      <td>0</td>\n",
       "      <td>NaN</td>\n",
       "      <td>NaN</td>\n",
       "      <td>NaN</td>\n",
       "      <td>0</td>\n",
       "      <td>3</td>\n",
       "      <td>2006</td>\n",
       "      <td>WD</td>\n",
       "      <td>Normal</td>\n",
       "    </tr>\n",
       "    <tr>\n",
       "      <th>1418</th>\n",
       "      <td>20</td>\n",
       "      <td>RL</td>\n",
       "      <td>71.0</td>\n",
       "      <td>9204</td>\n",
       "      <td>Pave</td>\n",
       "      <td>NaN</td>\n",
       "      <td>Reg</td>\n",
       "      <td>Lvl</td>\n",
       "      <td>AllPub</td>\n",
       "      <td>Inside</td>\n",
       "      <td>...</td>\n",
       "      <td>0</td>\n",
       "      <td>0</td>\n",
       "      <td>NaN</td>\n",
       "      <td>NaN</td>\n",
       "      <td>NaN</td>\n",
       "      <td>0</td>\n",
       "      <td>8</td>\n",
       "      <td>2008</td>\n",
       "      <td>COD</td>\n",
       "      <td>Normal</td>\n",
       "    </tr>\n",
       "    <tr>\n",
       "      <th>1212</th>\n",
       "      <td>30</td>\n",
       "      <td>RL</td>\n",
       "      <td>50.0</td>\n",
       "      <td>9340</td>\n",
       "      <td>Pave</td>\n",
       "      <td>NaN</td>\n",
       "      <td>Reg</td>\n",
       "      <td>Lvl</td>\n",
       "      <td>AllPub</td>\n",
       "      <td>Inside</td>\n",
       "      <td>...</td>\n",
       "      <td>0</td>\n",
       "      <td>0</td>\n",
       "      <td>NaN</td>\n",
       "      <td>NaN</td>\n",
       "      <td>NaN</td>\n",
       "      <td>0</td>\n",
       "      <td>8</td>\n",
       "      <td>2009</td>\n",
       "      <td>WD</td>\n",
       "      <td>Normal</td>\n",
       "    </tr>\n",
       "    <tr>\n",
       "      <th>588</th>\n",
       "      <td>20</td>\n",
       "      <td>RL</td>\n",
       "      <td>65.0</td>\n",
       "      <td>25095</td>\n",
       "      <td>Pave</td>\n",
       "      <td>NaN</td>\n",
       "      <td>IR1</td>\n",
       "      <td>Low</td>\n",
       "      <td>AllPub</td>\n",
       "      <td>Inside</td>\n",
       "      <td>...</td>\n",
       "      <td>60</td>\n",
       "      <td>0</td>\n",
       "      <td>NaN</td>\n",
       "      <td>NaN</td>\n",
       "      <td>NaN</td>\n",
       "      <td>0</td>\n",
       "      <td>6</td>\n",
       "      <td>2009</td>\n",
       "      <td>WD</td>\n",
       "      <td>Partial</td>\n",
       "    </tr>\n",
       "    <tr>\n",
       "      <th>251</th>\n",
       "      <td>120</td>\n",
       "      <td>RM</td>\n",
       "      <td>44.0</td>\n",
       "      <td>4750</td>\n",
       "      <td>Pave</td>\n",
       "      <td>NaN</td>\n",
       "      <td>IR1</td>\n",
       "      <td>HLS</td>\n",
       "      <td>AllPub</td>\n",
       "      <td>Inside</td>\n",
       "      <td>...</td>\n",
       "      <td>153</td>\n",
       "      <td>0</td>\n",
       "      <td>NaN</td>\n",
       "      <td>NaN</td>\n",
       "      <td>NaN</td>\n",
       "      <td>0</td>\n",
       "      <td>12</td>\n",
       "      <td>2007</td>\n",
       "      <td>WD</td>\n",
       "      <td>Family</td>\n",
       "    </tr>\n",
       "  </tbody>\n",
       "</table>\n",
       "<p>5 rows × 79 columns</p>\n",
       "</div>"
      ],
      "text/plain": [
       "      MSSubClass MSZoning  LotFrontage  LotArea Street Alley LotShape  \\\n",
       "81           120       RM         32.0     4500   Pave   NaN      Reg   \n",
       "1418          20       RL         71.0     9204   Pave   NaN      Reg   \n",
       "1212          30       RL         50.0     9340   Pave   NaN      Reg   \n",
       "588           20       RL         65.0    25095   Pave   NaN      IR1   \n",
       "251          120       RM         44.0     4750   Pave   NaN      IR1   \n",
       "\n",
       "     LandContour Utilities LotConfig  ... ScreenPorch PoolArea PoolQC Fence  \\\n",
       "81           Lvl    AllPub       FR2  ...           0        0    NaN   NaN   \n",
       "1418         Lvl    AllPub    Inside  ...           0        0    NaN   NaN   \n",
       "1212         Lvl    AllPub    Inside  ...           0        0    NaN   NaN   \n",
       "588          Low    AllPub    Inside  ...          60        0    NaN   NaN   \n",
       "251          HLS    AllPub    Inside  ...         153        0    NaN   NaN   \n",
       "\n",
       "     MiscFeature MiscVal  MoSold  YrSold  SaleType  SaleCondition  \n",
       "81           NaN       0       3    2006        WD         Normal  \n",
       "1418         NaN       0       8    2008       COD         Normal  \n",
       "1212         NaN       0       8    2009        WD         Normal  \n",
       "588          NaN       0       6    2009        WD        Partial  \n",
       "251          NaN       0      12    2007        WD         Family  \n",
       "\n",
       "[5 rows x 79 columns]"
      ]
     },
     "metadata": {},
     "output_type": "display_data"
    },
    {
     "data": {
      "text/plain": [
       "MSSubClass         0\n",
       "MSZoning           0\n",
       "LotFrontage      212\n",
       "LotArea            0\n",
       "Street             0\n",
       "                ... \n",
       "MiscVal            0\n",
       "MoSold             0\n",
       "YrSold             0\n",
       "SaleType           0\n",
       "SaleCondition      0\n",
       "Length: 79, dtype: int64"
      ]
     },
     "metadata": {},
     "output_type": "display_data"
    }
   ],
   "source": [
    "display(X_train.info(), X_train.head(), X_train.isnull().sum())"
   ]
  },
  {
   "cell_type": "code",
   "execution_count": 5,
   "metadata": {},
   "outputs": [
    {
     "name": "stdout",
     "output_type": "stream",
     "text": [
      "<class 'pandas.core.frame.DataFrame'>\n",
      "Int64Index: 292 entries, 1380 to 906\n",
      "Data columns (total 79 columns):\n",
      " #   Column         Non-Null Count  Dtype  \n",
      "---  ------         --------------  -----  \n",
      " 0   MSSubClass     292 non-null    int64  \n",
      " 1   MSZoning       292 non-null    object \n",
      " 2   LotFrontage    245 non-null    float64\n",
      " 3   LotArea        292 non-null    int64  \n",
      " 4   Street         292 non-null    object \n",
      " 5   Alley          21 non-null     object \n",
      " 6   LotShape       292 non-null    object \n",
      " 7   LandContour    292 non-null    object \n",
      " 8   Utilities      292 non-null    object \n",
      " 9   LotConfig      292 non-null    object \n",
      " 10  LandSlope      292 non-null    object \n",
      " 11  Neighborhood   292 non-null    object \n",
      " 12  Condition1     292 non-null    object \n",
      " 13  Condition2     292 non-null    object \n",
      " 14  BldgType       292 non-null    object \n",
      " 15  HouseStyle     292 non-null    object \n",
      " 16  OverallQual    292 non-null    int64  \n",
      " 17  OverallCond    292 non-null    int64  \n",
      " 18  YearBuilt      292 non-null    int64  \n",
      " 19  YearRemodAdd   292 non-null    int64  \n",
      " 20  RoofStyle      292 non-null    object \n",
      " 21  RoofMatl       292 non-null    object \n",
      " 22  Exterior1st    292 non-null    object \n",
      " 23  Exterior2nd    292 non-null    object \n",
      " 24  MasVnrType     290 non-null    object \n",
      " 25  MasVnrArea     290 non-null    float64\n",
      " 26  ExterQual      292 non-null    object \n",
      " 27  ExterCond      292 non-null    object \n",
      " 28  Foundation     292 non-null    object \n",
      " 29  BsmtQual       284 non-null    object \n",
      " 30  BsmtCond       284 non-null    object \n",
      " 31  BsmtExposure   284 non-null    object \n",
      " 32  BsmtFinType1   284 non-null    object \n",
      " 33  BsmtFinSF1     292 non-null    int64  \n",
      " 34  BsmtFinType2   283 non-null    object \n",
      " 35  BsmtFinSF2     292 non-null    int64  \n",
      " 36  BsmtUnfSF      292 non-null    int64  \n",
      " 37  TotalBsmtSF    292 non-null    int64  \n",
      " 38  Heating        292 non-null    object \n",
      " 39  HeatingQC      292 non-null    object \n",
      " 40  CentralAir     292 non-null    object \n",
      " 41  Electrical     292 non-null    object \n",
      " 42  1stFlrSF       292 non-null    int64  \n",
      " 43  2ndFlrSF       292 non-null    int64  \n",
      " 44  LowQualFinSF   292 non-null    int64  \n",
      " 45  GrLivArea      292 non-null    int64  \n",
      " 46  BsmtFullBath   292 non-null    int64  \n",
      " 47  BsmtHalfBath   292 non-null    int64  \n",
      " 48  FullBath       292 non-null    int64  \n",
      " 49  HalfBath       292 non-null    int64  \n",
      " 50  BedroomAbvGr   292 non-null    int64  \n",
      " 51  KitchenAbvGr   292 non-null    int64  \n",
      " 52  KitchenQual    292 non-null    object \n",
      " 53  TotRmsAbvGrd   292 non-null    int64  \n",
      " 54  Functional     292 non-null    object \n",
      " 55  Fireplaces     292 non-null    int64  \n",
      " 56  FireplaceQu    155 non-null    object \n",
      " 57  GarageType     272 non-null    object \n",
      " 58  GarageYrBlt    272 non-null    float64\n",
      " 59  GarageFinish   272 non-null    object \n",
      " 60  GarageCars     292 non-null    int64  \n",
      " 61  GarageArea     292 non-null    int64  \n",
      " 62  GarageQual     272 non-null    object \n",
      " 63  GarageCond     272 non-null    object \n",
      " 64  PavedDrive     292 non-null    object \n",
      " 65  WoodDeckSF     292 non-null    int64  \n",
      " 66  OpenPorchSF    292 non-null    int64  \n",
      " 67  EnclosedPorch  292 non-null    int64  \n",
      " 68  3SsnPorch      292 non-null    int64  \n",
      " 69  ScreenPorch    292 non-null    int64  \n",
      " 70  PoolArea       292 non-null    int64  \n",
      " 71  PoolQC         2 non-null      object \n",
      " 72  Fence          50 non-null     object \n",
      " 73  MiscFeature    10 non-null     object \n",
      " 74  MiscVal        292 non-null    int64  \n",
      " 75  MoSold         292 non-null    int64  \n",
      " 76  YrSold         292 non-null    int64  \n",
      " 77  SaleType       292 non-null    object \n",
      " 78  SaleCondition  292 non-null    object \n",
      "dtypes: float64(3), int64(33), object(43)\n",
      "memory usage: 182.5+ KB\n"
     ]
    },
    {
     "data": {
      "text/plain": [
       "None"
      ]
     },
     "metadata": {},
     "output_type": "display_data"
    },
    {
     "data": {
      "text/html": [
       "<div>\n",
       "<style scoped>\n",
       "    .dataframe tbody tr th:only-of-type {\n",
       "        vertical-align: middle;\n",
       "    }\n",
       "\n",
       "    .dataframe tbody tr th {\n",
       "        vertical-align: top;\n",
       "    }\n",
       "\n",
       "    .dataframe thead th {\n",
       "        text-align: right;\n",
       "    }\n",
       "</style>\n",
       "<table border=\"1\" class=\"dataframe\">\n",
       "  <thead>\n",
       "    <tr style=\"text-align: right;\">\n",
       "      <th></th>\n",
       "      <th>MSSubClass</th>\n",
       "      <th>MSZoning</th>\n",
       "      <th>LotFrontage</th>\n",
       "      <th>LotArea</th>\n",
       "      <th>Street</th>\n",
       "      <th>Alley</th>\n",
       "      <th>LotShape</th>\n",
       "      <th>LandContour</th>\n",
       "      <th>Utilities</th>\n",
       "      <th>LotConfig</th>\n",
       "      <th>...</th>\n",
       "      <th>ScreenPorch</th>\n",
       "      <th>PoolArea</th>\n",
       "      <th>PoolQC</th>\n",
       "      <th>Fence</th>\n",
       "      <th>MiscFeature</th>\n",
       "      <th>MiscVal</th>\n",
       "      <th>MoSold</th>\n",
       "      <th>YrSold</th>\n",
       "      <th>SaleType</th>\n",
       "      <th>SaleCondition</th>\n",
       "    </tr>\n",
       "  </thead>\n",
       "  <tbody>\n",
       "    <tr>\n",
       "      <th>1380</th>\n",
       "      <td>30</td>\n",
       "      <td>RL</td>\n",
       "      <td>45.0</td>\n",
       "      <td>8212</td>\n",
       "      <td>Pave</td>\n",
       "      <td>Grvl</td>\n",
       "      <td>Reg</td>\n",
       "      <td>Lvl</td>\n",
       "      <td>AllPub</td>\n",
       "      <td>Inside</td>\n",
       "      <td>...</td>\n",
       "      <td>0</td>\n",
       "      <td>0</td>\n",
       "      <td>NaN</td>\n",
       "      <td>NaN</td>\n",
       "      <td>NaN</td>\n",
       "      <td>0</td>\n",
       "      <td>6</td>\n",
       "      <td>2010</td>\n",
       "      <td>WD</td>\n",
       "      <td>Normal</td>\n",
       "    </tr>\n",
       "    <tr>\n",
       "      <th>520</th>\n",
       "      <td>190</td>\n",
       "      <td>RL</td>\n",
       "      <td>60.0</td>\n",
       "      <td>10800</td>\n",
       "      <td>Pave</td>\n",
       "      <td>Grvl</td>\n",
       "      <td>Reg</td>\n",
       "      <td>Lvl</td>\n",
       "      <td>AllPub</td>\n",
       "      <td>Inside</td>\n",
       "      <td>...</td>\n",
       "      <td>0</td>\n",
       "      <td>0</td>\n",
       "      <td>NaN</td>\n",
       "      <td>NaN</td>\n",
       "      <td>NaN</td>\n",
       "      <td>0</td>\n",
       "      <td>8</td>\n",
       "      <td>2008</td>\n",
       "      <td>WD</td>\n",
       "      <td>Normal</td>\n",
       "    </tr>\n",
       "    <tr>\n",
       "      <th>1175</th>\n",
       "      <td>50</td>\n",
       "      <td>RL</td>\n",
       "      <td>85.0</td>\n",
       "      <td>10678</td>\n",
       "      <td>Pave</td>\n",
       "      <td>NaN</td>\n",
       "      <td>Reg</td>\n",
       "      <td>Lvl</td>\n",
       "      <td>AllPub</td>\n",
       "      <td>Inside</td>\n",
       "      <td>...</td>\n",
       "      <td>0</td>\n",
       "      <td>0</td>\n",
       "      <td>NaN</td>\n",
       "      <td>NaN</td>\n",
       "      <td>NaN</td>\n",
       "      <td>0</td>\n",
       "      <td>4</td>\n",
       "      <td>2007</td>\n",
       "      <td>WD</td>\n",
       "      <td>Normal</td>\n",
       "    </tr>\n",
       "    <tr>\n",
       "      <th>351</th>\n",
       "      <td>120</td>\n",
       "      <td>RL</td>\n",
       "      <td>NaN</td>\n",
       "      <td>5271</td>\n",
       "      <td>Pave</td>\n",
       "      <td>NaN</td>\n",
       "      <td>IR1</td>\n",
       "      <td>Low</td>\n",
       "      <td>AllPub</td>\n",
       "      <td>Inside</td>\n",
       "      <td>...</td>\n",
       "      <td>184</td>\n",
       "      <td>0</td>\n",
       "      <td>NaN</td>\n",
       "      <td>NaN</td>\n",
       "      <td>NaN</td>\n",
       "      <td>0</td>\n",
       "      <td>12</td>\n",
       "      <td>2006</td>\n",
       "      <td>WD</td>\n",
       "      <td>Abnorml</td>\n",
       "    </tr>\n",
       "    <tr>\n",
       "      <th>1335</th>\n",
       "      <td>20</td>\n",
       "      <td>RL</td>\n",
       "      <td>80.0</td>\n",
       "      <td>9650</td>\n",
       "      <td>Pave</td>\n",
       "      <td>NaN</td>\n",
       "      <td>Reg</td>\n",
       "      <td>Lvl</td>\n",
       "      <td>AllPub</td>\n",
       "      <td>Inside</td>\n",
       "      <td>...</td>\n",
       "      <td>0</td>\n",
       "      <td>0</td>\n",
       "      <td>NaN</td>\n",
       "      <td>NaN</td>\n",
       "      <td>NaN</td>\n",
       "      <td>0</td>\n",
       "      <td>4</td>\n",
       "      <td>2009</td>\n",
       "      <td>WD</td>\n",
       "      <td>Normal</td>\n",
       "    </tr>\n",
       "  </tbody>\n",
       "</table>\n",
       "<p>5 rows × 79 columns</p>\n",
       "</div>"
      ],
      "text/plain": [
       "      MSSubClass MSZoning  LotFrontage  LotArea Street Alley LotShape  \\\n",
       "1380          30       RL         45.0     8212   Pave  Grvl      Reg   \n",
       "520          190       RL         60.0    10800   Pave  Grvl      Reg   \n",
       "1175          50       RL         85.0    10678   Pave   NaN      Reg   \n",
       "351          120       RL          NaN     5271   Pave   NaN      IR1   \n",
       "1335          20       RL         80.0     9650   Pave   NaN      Reg   \n",
       "\n",
       "     LandContour Utilities LotConfig  ... ScreenPorch PoolArea PoolQC Fence  \\\n",
       "1380         Lvl    AllPub    Inside  ...           0        0    NaN   NaN   \n",
       "520          Lvl    AllPub    Inside  ...           0        0    NaN   NaN   \n",
       "1175         Lvl    AllPub    Inside  ...           0        0    NaN   NaN   \n",
       "351          Low    AllPub    Inside  ...         184        0    NaN   NaN   \n",
       "1335         Lvl    AllPub    Inside  ...           0        0    NaN   NaN   \n",
       "\n",
       "     MiscFeature MiscVal  MoSold  YrSold  SaleType  SaleCondition  \n",
       "1380         NaN       0       6    2010        WD         Normal  \n",
       "520          NaN       0       8    2008        WD         Normal  \n",
       "1175         NaN       0       4    2007        WD         Normal  \n",
       "351          NaN       0      12    2006        WD        Abnorml  \n",
       "1335         NaN       0       4    2009        WD         Normal  \n",
       "\n",
       "[5 rows x 79 columns]"
      ]
     },
     "metadata": {},
     "output_type": "display_data"
    },
    {
     "data": {
      "text/plain": [
       "MSSubClass        0\n",
       "MSZoning          0\n",
       "LotFrontage      47\n",
       "LotArea           0\n",
       "Street            0\n",
       "                 ..\n",
       "MiscVal           0\n",
       "MoSold            0\n",
       "YrSold            0\n",
       "SaleType          0\n",
       "SaleCondition     0\n",
       "Length: 79, dtype: int64"
      ]
     },
     "metadata": {},
     "output_type": "display_data"
    }
   ],
   "source": [
    "display(X_test.info(), X_test.head(), X_test.isnull().sum())"
   ]
  },
  {
   "cell_type": "markdown",
   "metadata": {},
   "source": [
    "#### 3. Preprocessing\n",
    "- 컬럼 중 수치형 컬럼만 선택\n",
    "- 결측치 컬럼 : 평균 대체\n",
    "- 스케일링 : 정규화"
   ]
  },
  {
   "cell_type": "markdown",
   "metadata": {},
   "source": [
    "> 컬럼 중 수치형 컬럼만 선택"
   ]
  },
  {
   "cell_type": "code",
   "execution_count": 6,
   "metadata": {},
   "outputs": [
    {
     "data": {
      "text/plain": [
       "((1168, 36), (292, 36))"
      ]
     },
     "execution_count": 6,
     "metadata": {},
     "output_type": "execute_result"
    }
   ],
   "source": [
    "int_col = X_train.select_dtypes(exclude='object').columns\n",
    "X_train = X_train[int_col]\n",
    "X_test = X_test[int_col]\n",
    "\n",
    "X_train.shape, X_test.shape"
   ]
  },
  {
   "cell_type": "markdown",
   "metadata": {},
   "source": [
    "> 결측치 처리 : 평균 대체"
   ]
  },
  {
   "cell_type": "code",
   "execution_count": 7,
   "metadata": {},
   "outputs": [
    {
     "name": "stdout",
     "output_type": "stream",
     "text": [
      "['LotFrontage', 'MasVnrArea', 'GarageYrBlt']\n",
      "['LotFrontage', 'MasVnrArea', 'GarageYrBlt']\n"
     ]
    }
   ],
   "source": [
    "isnull_col = X_train.isnull().sum()\n",
    "isnull_col = list(isnull_col[isnull_col>0].index)\n",
    "\n",
    "print(isnull_col)\n",
    "\n",
    "isnull_col = X_test.isnull().sum()\n",
    "isnull_col = list(isnull_col[isnull_col>0].index)\n",
    "\n",
    "print(isnull_col)"
   ]
  },
  {
   "cell_type": "code",
   "execution_count": 8,
   "metadata": {},
   "outputs": [
    {
     "name": "stdout",
     "output_type": "stream",
     "text": [
      "LotFrontage 105\n",
      "train mean : 70.07008368200837\n",
      "train median : 69.0\n",
      "train mode : 60.0\n",
      "====================\n",
      "test mean : 69.97142857142858\n",
      "test median : 70.0\n",
      "test mode : 60.0\n",
      "====================================================================================================\n",
      "MasVnrArea 286\n",
      "train mean : 106.42340791738383\n",
      "train median : 0.0\n",
      "train mode : 0.0\n",
      "====================\n",
      "test mean : 92.71379310344828\n",
      "test median : 0.0\n",
      "test mode : 0.0\n",
      "====================================================================================================\n",
      "GarageYrBlt 94\n",
      "train mean : 1978.684733514002\n",
      "train median : 1980.0\n",
      "train mode : 2005.0\n",
      "====================\n",
      "test mean : 1977.7794117647059\n",
      "test median : 1978.0\n",
      "test mode : 2006.0\n",
      "====================================================================================================\n"
     ]
    }
   ],
   "source": [
    "for c in isnull_col:\n",
    "    print(c, X_train[c].nunique())\n",
    "    print('train mean :', X_train[c].mean())\n",
    "    print('train median :', X_train[c].median())\n",
    "    print('train mode :', X_train[c].mode()[0])\n",
    "    print('='*20)\n",
    "    print('test mean :', X_test[c].mean())\n",
    "    print('test median :', X_test[c].median())\n",
    "    print('test mode :', X_test[c].mode()[0])\n",
    "    print('='*100)"
   ]
  },
  {
   "cell_type": "code",
   "execution_count": 9,
   "metadata": {},
   "outputs": [],
   "source": [
    "for c in isnull_col:\n",
    "    X_train[c] = X_train[c].fillna(X_train[c].mean(), axis=0)\n",
    "    X_test[c] = X_test[c].fillna(X_test[c].mean(), axis=0)"
   ]
  },
  {
   "cell_type": "code",
   "execution_count": 10,
   "metadata": {},
   "outputs": [
    {
     "data": {
      "text/plain": [
       "(0, 0)"
      ]
     },
     "execution_count": 10,
     "metadata": {},
     "output_type": "execute_result"
    }
   ],
   "source": [
    "X_train.isnull().sum().sum(), X_test.isnull().sum().sum()"
   ]
  },
  {
   "cell_type": "markdown",
   "metadata": {},
   "source": [
    "> 스케일링 : 정규화"
   ]
  },
  {
   "cell_type": "code",
   "execution_count": 11,
   "metadata": {},
   "outputs": [
    {
     "data": {
      "text/plain": [
       "((1168, 36), (292, 36))"
      ]
     },
     "execution_count": 11,
     "metadata": {},
     "output_type": "execute_result"
    }
   ],
   "source": [
    "from sklearn.preprocessing import MinMaxScaler\n",
    "\n",
    "scaler = MinMaxScaler()\n",
    "X_train = scaler.fit_transform(X_train)\n",
    "X_test = scaler.transform(X_test)\n",
    "\n",
    "X_train.shape, X_test.shape"
   ]
  },
  {
   "cell_type": "markdown",
   "metadata": {},
   "source": [
    "#### 4. Modeling"
   ]
  },
  {
   "cell_type": "code",
   "execution_count": 12,
   "metadata": {},
   "outputs": [],
   "source": [
    "from sklearn.ensemble import RandomForestRegressor, GradientBoostingRegressor\n",
    "from xgboost import XGBRegressor, XGBRFRegressor\n",
    "\n",
    "from sklearn.metrics import mean_squared_error, r2_score"
   ]
  },
  {
   "cell_type": "code",
   "execution_count": 13,
   "metadata": {},
   "outputs": [],
   "source": [
    "from sklearn.model_selection import train_test_split\n",
    "\n",
    "X_tr, X_val, y_tr, y_val = train_test_split(X_train, y, test_size=0.2, shuffle=True, random_state=156)"
   ]
  },
  {
   "cell_type": "code",
   "execution_count": 14,
   "metadata": {},
   "outputs": [],
   "source": [
    "rf = RandomForestRegressor(random_state=156)\n",
    "gb = GradientBoostingRegressor(random_state=156)\n",
    "xgb = XGBRegressor(random_state=156)\n",
    "xgbrf = XGBRFRegressor(random_state=156)\n",
    "\n",
    "models = [rf, gb, xgb, xgbrf]"
   ]
  },
  {
   "cell_type": "code",
   "execution_count": 15,
   "metadata": {
    "scrolled": true
   },
   "outputs": [
    {
     "name": "stdout",
     "output_type": "stream",
     "text": [
      "RandomForestRegressor\n",
      "29320.96947767194\n",
      "0.8836366153218345\n",
      "====================================================================================================\n",
      "GradientBoostingRegressor\n",
      "26903.542390179704\n",
      "0.9020332663935836\n",
      "====================================================================================================\n",
      "XGBRegressor\n",
      "36228.51861352739\n",
      "0.8223517860260546\n",
      "====================================================================================================\n",
      "XGBRFRegressor\n",
      "32995.0184307724\n",
      "0.8526478611830118\n",
      "====================================================================================================\n"
     ]
    }
   ],
   "source": [
    "for model in models:\n",
    "    model.fit(X_tr, y_tr)\n",
    "    pred = model.predict(X_val)\n",
    "    \n",
    "    name = str(model).split('(')[0]\n",
    "    print(name)\n",
    "    print(np.sqrt(mean_squared_error(y_val, pred)))\n",
    "    print(r2_score(y_val, pred))\n",
    "    print('='*100)"
   ]
  },
  {
   "cell_type": "code",
   "execution_count": 16,
   "metadata": {},
   "outputs": [],
   "source": [
    "gb = GradientBoostingRegressor(random_state=156)\n",
    "\n",
    "gb.fit(X_train, y)\n",
    "pred = gb.predict(X_test)"
   ]
  },
  {
   "cell_type": "code",
   "execution_count": 17,
   "metadata": {},
   "outputs": [
    {
     "data": {
      "text/html": [
       "<div>\n",
       "<style scoped>\n",
       "    .dataframe tbody tr th:only-of-type {\n",
       "        vertical-align: middle;\n",
       "    }\n",
       "\n",
       "    .dataframe tbody tr th {\n",
       "        vertical-align: top;\n",
       "    }\n",
       "\n",
       "    .dataframe thead th {\n",
       "        text-align: right;\n",
       "    }\n",
       "</style>\n",
       "<table border=\"1\" class=\"dataframe\">\n",
       "  <thead>\n",
       "    <tr style=\"text-align: right;\">\n",
       "      <th></th>\n",
       "      <th>Id</th>\n",
       "      <th>SalePrice</th>\n",
       "    </tr>\n",
       "  </thead>\n",
       "  <tbody>\n",
       "    <tr>\n",
       "      <th>1380</th>\n",
       "      <td>1381</td>\n",
       "      <td>73574.356104</td>\n",
       "    </tr>\n",
       "    <tr>\n",
       "      <th>520</th>\n",
       "      <td>521</td>\n",
       "      <td>97954.238811</td>\n",
       "    </tr>\n",
       "    <tr>\n",
       "      <th>1175</th>\n",
       "      <td>1176</td>\n",
       "      <td>327271.110119</td>\n",
       "    </tr>\n",
       "    <tr>\n",
       "      <th>351</th>\n",
       "      <td>352</td>\n",
       "      <td>202855.654640</td>\n",
       "    </tr>\n",
       "    <tr>\n",
       "      <th>1335</th>\n",
       "      <td>1336</td>\n",
       "      <td>157411.072985</td>\n",
       "    </tr>\n",
       "    <tr>\n",
       "      <th>...</th>\n",
       "      <td>...</td>\n",
       "      <td>...</td>\n",
       "    </tr>\n",
       "    <tr>\n",
       "      <th>1283</th>\n",
       "      <td>1284</td>\n",
       "      <td>140790.918758</td>\n",
       "    </tr>\n",
       "    <tr>\n",
       "      <th>1039</th>\n",
       "      <td>1040</td>\n",
       "      <td>82626.992727</td>\n",
       "    </tr>\n",
       "    <tr>\n",
       "      <th>61</th>\n",
       "      <td>62</td>\n",
       "      <td>94909.652624</td>\n",
       "    </tr>\n",
       "    <tr>\n",
       "      <th>1395</th>\n",
       "      <td>1396</td>\n",
       "      <td>319968.951627</td>\n",
       "    </tr>\n",
       "    <tr>\n",
       "      <th>906</th>\n",
       "      <td>907</td>\n",
       "      <td>272715.046765</td>\n",
       "    </tr>\n",
       "  </tbody>\n",
       "</table>\n",
       "<p>292 rows × 2 columns</p>\n",
       "</div>"
      ],
      "text/plain": [
       "        Id      SalePrice\n",
       "1380  1381   73574.356104\n",
       "520    521   97954.238811\n",
       "1175  1176  327271.110119\n",
       "351    352  202855.654640\n",
       "1335  1336  157411.072985\n",
       "...    ...            ...\n",
       "1283  1284  140790.918758\n",
       "1039  1040   82626.992727\n",
       "61      62   94909.652624\n",
       "1395  1396  319968.951627\n",
       "906    907  272715.046765\n",
       "\n",
       "[292 rows x 2 columns]"
      ]
     },
     "execution_count": 17,
     "metadata": {},
     "output_type": "execute_result"
    }
   ],
   "source": [
    "out_data = pd.DataFrame({'Id':Id, 'SalePrice':pred})\n",
    "out_data"
   ]
  },
  {
   "cell_type": "code",
   "execution_count": 18,
   "metadata": {},
   "outputs": [],
   "source": [
    "# out_data.to_csv('123456,csv', index=False)"
   ]
  },
  {
   "cell_type": "code",
   "execution_count": 19,
   "metadata": {},
   "outputs": [
    {
     "name": "stdout",
     "output_type": "stream",
     "text": [
      "23755.871417687908\n",
      "0.9032917104221649\n"
     ]
    }
   ],
   "source": [
    "# 가채점\n",
    "print(np.sqrt(mean_squared_error(y_test.SalePrice, pred)))\n",
    "print(r2_score(y_test.SalePrice, pred))"
   ]
  },
  {
   "cell_type": "markdown",
   "metadata": {},
   "source": [
    "#### 5. 다른 모델 평가"
   ]
  },
  {
   "cell_type": "code",
   "execution_count": 20,
   "metadata": {},
   "outputs": [
    {
     "name": "stdout",
     "output_type": "stream",
     "text": [
      "RandomForestRegressor\n",
      "RMSE : 26054.170084320638\n",
      "r2 : 0.8836741436680863\n",
      "====================================================================================================\n",
      "GradientBoostingRegressor\n",
      "RMSE : 23755.871417687908\n",
      "r2 : 0.9032917104221649\n",
      "====================================================================================================\n",
      "XGBRegressor\n",
      "RMSE : 25323.086648321376\n",
      "r2 : 0.8901107896923101\n",
      "====================================================================================================\n",
      "XGBRFRegressor\n",
      "RMSE : 27568.727965740425\n",
      "r2 : 0.8697567495022234\n",
      "====================================================================================================\n"
     ]
    }
   ],
   "source": [
    "for model in models:\n",
    "    model.fit(X_train, y)\n",
    "    pred = model.predict(X_test)\n",
    "    \n",
    "    name = str(model).split('(')[0]\n",
    "    print(name)\n",
    "    print('RMSE :', np.sqrt(mean_squared_error(y_test.SalePrice, pred)))\n",
    "    print('r2 :', r2_score(y_test.SalePrice, pred))\n",
    "    print('='*100)"
   ]
  },
  {
   "cell_type": "code",
   "execution_count": null,
   "metadata": {},
   "outputs": [],
   "source": []
  }
 ],
 "metadata": {
  "kernelspec": {
   "display_name": "ml",
   "language": "python",
   "name": "ml"
  },
  "language_info": {
   "codemirror_mode": {
    "name": "ipython",
    "version": 3
   },
   "file_extension": ".py",
   "mimetype": "text/x-python",
   "name": "python",
   "nbconvert_exporter": "python",
   "pygments_lexer": "ipython3",
   "version": "3.7.0"
  }
 },
 "nbformat": 4,
 "nbformat_minor": 2
}
