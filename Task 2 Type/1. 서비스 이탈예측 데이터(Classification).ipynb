{
 "cells": [
  {
   "cell_type": "markdown",
   "metadata": {},
   "source": [
    "# 작업 2유형\n",
    "- https://www.datamanim.com/dataset/03_dataq/typetwo.html#id3"
   ]
  },
  {
   "cell_type": "markdown",
   "metadata": {},
   "source": [
    "# 1. 서비스 이탈예측 데이터(Classification)\n",
    "\n",
    "> Attention\n",
    "- 데이터 설명 : 고객의 신상정보 데이터를 통한 회사 서비스 이탈 예측 (종속변수 : Exited)\n",
    "- 데이터 출처 : https://www.kaggle.com/shubh0799/churn-modelling 에서 변형\n",
    "- X_train : https://raw.githubusercontent.com/Datamanim/datarepo/main/churnk/X_train.csv\n",
    "- y_train : https://raw.githubusercontent.com/Datamanim/datarepo/main/churnk/y_train.csv\n",
    "- X_test : https://raw.githubusercontent.com/Datamanim/datarepo/main/churnk/X_test.csv\n",
    "- y_test(평가용) : https://raw.githubusercontent.com/Datamanim/datarepo/main/churnk/y_test.csv"
   ]
  },
  {
   "cell_type": "markdown",
   "metadata": {},
   "source": [
    "#### 0. 시험 환경 세팅"
   ]
  },
  {
   "cell_type": "code",
   "execution_count": 1,
   "metadata": {},
   "outputs": [
    {
     "data": {
      "text/plain": [
       "((6499, 12), (6499, 2), (3501, 12), (3501, 2))"
      ]
     },
     "execution_count": 1,
     "metadata": {},
     "output_type": "execute_result"
    }
   ],
   "source": [
    "import pandas as pd\n",
    "\n",
    "X_train = pd.read_csv(\"https://raw.githubusercontent.com/Datamanim/datarepo/main/churnk/X_train.csv\")\n",
    "y_train = pd.read_csv(\"https://raw.githubusercontent.com/Datamanim/datarepo/main/churnk/y_train.csv\")\n",
    "X_test= pd.read_csv(\"https://raw.githubusercontent.com/Datamanim/datarepo/main/churnk/X_test.csv\")\n",
    "y_test = pd.read_csv(\"https://raw.githubusercontent.com/Datamanim/datarepo/main/churnk/y_test.csv\")\n",
    "\n",
    "X_train.shape, y_train.shape, X_test.shape, y_test.shape"
   ]
  },
  {
   "cell_type": "markdown",
   "metadata": {},
   "source": [
    "#### 1. 라이브러리 및 데이터 호출"
   ]
  },
  {
   "cell_type": "code",
   "execution_count": 2,
   "metadata": {},
   "outputs": [],
   "source": [
    "import numpy as np\n",
    "import pandas as pd"
   ]
  },
  {
   "cell_type": "code",
   "execution_count": 3,
   "metadata": {},
   "outputs": [
    {
     "data": {
      "text/plain": [
       "((6499, 11), (6499,), (3501, 11))"
      ]
     },
     "execution_count": 3,
     "metadata": {},
     "output_type": "execute_result"
    }
   ],
   "source": [
    "X_train.drop('CustomerId', axis=1, inplace=True)\n",
    "CustomerId = X_test.pop('CustomerId')\n",
    "\n",
    "y = y_train['Exited']\n",
    "\n",
    "X_train.shape, y.shape, X_test.shape"
   ]
  },
  {
   "cell_type": "markdown",
   "metadata": {},
   "source": [
    "#### 2. EDA"
   ]
  },
  {
   "cell_type": "code",
   "execution_count": 4,
   "metadata": {},
   "outputs": [
    {
     "name": "stdout",
     "output_type": "stream",
     "text": [
      "<class 'pandas.core.frame.DataFrame'>\n",
      "RangeIndex: 6499 entries, 0 to 6498\n",
      "Data columns (total 11 columns):\n",
      " #   Column           Non-Null Count  Dtype  \n",
      "---  ------           --------------  -----  \n",
      " 0   Surname          6499 non-null   object \n",
      " 1   CreditScore      6499 non-null   int64  \n",
      " 2   Geography        6499 non-null   object \n",
      " 3   Gender           6499 non-null   object \n",
      " 4   Age              6499 non-null   int64  \n",
      " 5   Tenure           6499 non-null   int64  \n",
      " 6   Balance          6499 non-null   float64\n",
      " 7   NumOfProducts    6499 non-null   int64  \n",
      " 8   HasCrCard        6499 non-null   int64  \n",
      " 9   IsActiveMember   6499 non-null   int64  \n",
      " 10  EstimatedSalary  6499 non-null   float64\n",
      "dtypes: float64(2), int64(6), object(3)\n",
      "memory usage: 558.6+ KB\n"
     ]
    },
    {
     "data": {
      "text/plain": [
       "None"
      ]
     },
     "metadata": {},
     "output_type": "display_data"
    },
    {
     "data": {
      "text/html": [
       "<div>\n",
       "<style scoped>\n",
       "    .dataframe tbody tr th:only-of-type {\n",
       "        vertical-align: middle;\n",
       "    }\n",
       "\n",
       "    .dataframe tbody tr th {\n",
       "        vertical-align: top;\n",
       "    }\n",
       "\n",
       "    .dataframe thead th {\n",
       "        text-align: right;\n",
       "    }\n",
       "</style>\n",
       "<table border=\"1\" class=\"dataframe\">\n",
       "  <thead>\n",
       "    <tr style=\"text-align: right;\">\n",
       "      <th></th>\n",
       "      <th>Surname</th>\n",
       "      <th>CreditScore</th>\n",
       "      <th>Geography</th>\n",
       "      <th>Gender</th>\n",
       "      <th>Age</th>\n",
       "      <th>Tenure</th>\n",
       "      <th>Balance</th>\n",
       "      <th>NumOfProducts</th>\n",
       "      <th>HasCrCard</th>\n",
       "      <th>IsActiveMember</th>\n",
       "      <th>EstimatedSalary</th>\n",
       "    </tr>\n",
       "  </thead>\n",
       "  <tbody>\n",
       "    <tr>\n",
       "      <th>0</th>\n",
       "      <td>Zetticci</td>\n",
       "      <td>791</td>\n",
       "      <td>Germany</td>\n",
       "      <td>Female</td>\n",
       "      <td>35</td>\n",
       "      <td>7</td>\n",
       "      <td>52436.20</td>\n",
       "      <td>1</td>\n",
       "      <td>1</td>\n",
       "      <td>0</td>\n",
       "      <td>161051.75</td>\n",
       "    </tr>\n",
       "    <tr>\n",
       "      <th>1</th>\n",
       "      <td>Bischof</td>\n",
       "      <td>705</td>\n",
       "      <td>Germany</td>\n",
       "      <td>Male</td>\n",
       "      <td>42</td>\n",
       "      <td>8</td>\n",
       "      <td>166685.92</td>\n",
       "      <td>2</td>\n",
       "      <td>1</td>\n",
       "      <td>1</td>\n",
       "      <td>55313.51</td>\n",
       "    </tr>\n",
       "    <tr>\n",
       "      <th>2</th>\n",
       "      <td>Hsiung</td>\n",
       "      <td>543</td>\n",
       "      <td>France</td>\n",
       "      <td>Female</td>\n",
       "      <td>31</td>\n",
       "      <td>4</td>\n",
       "      <td>138317.94</td>\n",
       "      <td>1</td>\n",
       "      <td>0</td>\n",
       "      <td>0</td>\n",
       "      <td>61843.73</td>\n",
       "    </tr>\n",
       "    <tr>\n",
       "      <th>3</th>\n",
       "      <td>Pritchard</td>\n",
       "      <td>709</td>\n",
       "      <td>France</td>\n",
       "      <td>Female</td>\n",
       "      <td>32</td>\n",
       "      <td>2</td>\n",
       "      <td>0.00</td>\n",
       "      <td>2</td>\n",
       "      <td>0</td>\n",
       "      <td>0</td>\n",
       "      <td>109681.29</td>\n",
       "    </tr>\n",
       "    <tr>\n",
       "      <th>4</th>\n",
       "      <td>Ts'ai</td>\n",
       "      <td>714</td>\n",
       "      <td>Germany</td>\n",
       "      <td>Female</td>\n",
       "      <td>36</td>\n",
       "      <td>1</td>\n",
       "      <td>101609.01</td>\n",
       "      <td>2</td>\n",
       "      <td>1</td>\n",
       "      <td>1</td>\n",
       "      <td>447.73</td>\n",
       "    </tr>\n",
       "  </tbody>\n",
       "</table>\n",
       "</div>"
      ],
      "text/plain": [
       "     Surname  CreditScore Geography  Gender  Age  Tenure    Balance  \\\n",
       "0   Zetticci          791   Germany  Female   35       7   52436.20   \n",
       "1    Bischof          705   Germany    Male   42       8  166685.92   \n",
       "2     Hsiung          543    France  Female   31       4  138317.94   \n",
       "3  Pritchard          709    France  Female   32       2       0.00   \n",
       "4      Ts'ai          714   Germany  Female   36       1  101609.01   \n",
       "\n",
       "   NumOfProducts  HasCrCard  IsActiveMember  EstimatedSalary  \n",
       "0              1          1               0        161051.75  \n",
       "1              2          1               1         55313.51  \n",
       "2              1          0               0         61843.73  \n",
       "3              2          0               0        109681.29  \n",
       "4              2          1               1           447.73  "
      ]
     },
     "metadata": {},
     "output_type": "display_data"
    },
    {
     "data": {
      "text/plain": [
       "Surname            0\n",
       "CreditScore        0\n",
       "Geography          0\n",
       "Gender             0\n",
       "Age                0\n",
       "Tenure             0\n",
       "Balance            0\n",
       "NumOfProducts      0\n",
       "HasCrCard          0\n",
       "IsActiveMember     0\n",
       "EstimatedSalary    0\n",
       "dtype: int64"
      ]
     },
     "metadata": {},
     "output_type": "display_data"
    }
   ],
   "source": [
    "display(X_train.info(), X_train.head(), X_train.isnull().sum())"
   ]
  },
  {
   "cell_type": "code",
   "execution_count": 5,
   "metadata": {},
   "outputs": [
    {
     "name": "stdout",
     "output_type": "stream",
     "text": [
      "<class 'pandas.core.frame.DataFrame'>\n",
      "RangeIndex: 3501 entries, 0 to 3500\n",
      "Data columns (total 11 columns):\n",
      " #   Column           Non-Null Count  Dtype  \n",
      "---  ------           --------------  -----  \n",
      " 0   Surname          3501 non-null   object \n",
      " 1   CreditScore      3501 non-null   int64  \n",
      " 2   Geography        3501 non-null   object \n",
      " 3   Gender           3501 non-null   object \n",
      " 4   Age              3501 non-null   int64  \n",
      " 5   Tenure           3501 non-null   int64  \n",
      " 6   Balance          3501 non-null   float64\n",
      " 7   NumOfProducts    3501 non-null   int64  \n",
      " 8   HasCrCard        3501 non-null   int64  \n",
      " 9   IsActiveMember   3501 non-null   int64  \n",
      " 10  EstimatedSalary  3501 non-null   float64\n",
      "dtypes: float64(2), int64(6), object(3)\n",
      "memory usage: 301.0+ KB\n"
     ]
    },
    {
     "data": {
      "text/plain": [
       "None"
      ]
     },
     "metadata": {},
     "output_type": "display_data"
    },
    {
     "data": {
      "text/html": [
       "<div>\n",
       "<style scoped>\n",
       "    .dataframe tbody tr th:only-of-type {\n",
       "        vertical-align: middle;\n",
       "    }\n",
       "\n",
       "    .dataframe tbody tr th {\n",
       "        vertical-align: top;\n",
       "    }\n",
       "\n",
       "    .dataframe thead th {\n",
       "        text-align: right;\n",
       "    }\n",
       "</style>\n",
       "<table border=\"1\" class=\"dataframe\">\n",
       "  <thead>\n",
       "    <tr style=\"text-align: right;\">\n",
       "      <th></th>\n",
       "      <th>Surname</th>\n",
       "      <th>CreditScore</th>\n",
       "      <th>Geography</th>\n",
       "      <th>Gender</th>\n",
       "      <th>Age</th>\n",
       "      <th>Tenure</th>\n",
       "      <th>Balance</th>\n",
       "      <th>NumOfProducts</th>\n",
       "      <th>HasCrCard</th>\n",
       "      <th>IsActiveMember</th>\n",
       "      <th>EstimatedSalary</th>\n",
       "    </tr>\n",
       "  </thead>\n",
       "  <tbody>\n",
       "    <tr>\n",
       "      <th>0</th>\n",
       "      <td>Abdullah</td>\n",
       "      <td>802</td>\n",
       "      <td>France</td>\n",
       "      <td>Female</td>\n",
       "      <td>60</td>\n",
       "      <td>3</td>\n",
       "      <td>92887.06</td>\n",
       "      <td>1</td>\n",
       "      <td>1</td>\n",
       "      <td>0</td>\n",
       "      <td>39473.63</td>\n",
       "    </tr>\n",
       "    <tr>\n",
       "      <th>1</th>\n",
       "      <td>Ignatiev</td>\n",
       "      <td>602</td>\n",
       "      <td>France</td>\n",
       "      <td>Female</td>\n",
       "      <td>56</td>\n",
       "      <td>3</td>\n",
       "      <td>115895.22</td>\n",
       "      <td>3</td>\n",
       "      <td>1</td>\n",
       "      <td>0</td>\n",
       "      <td>4176.17</td>\n",
       "    </tr>\n",
       "    <tr>\n",
       "      <th>2</th>\n",
       "      <td>Anenechukwu</td>\n",
       "      <td>801</td>\n",
       "      <td>France</td>\n",
       "      <td>Female</td>\n",
       "      <td>32</td>\n",
       "      <td>4</td>\n",
       "      <td>75170.54</td>\n",
       "      <td>1</td>\n",
       "      <td>1</td>\n",
       "      <td>1</td>\n",
       "      <td>37898.50</td>\n",
       "    </tr>\n",
       "    <tr>\n",
       "      <th>3</th>\n",
       "      <td>Wade</td>\n",
       "      <td>693</td>\n",
       "      <td>Spain</td>\n",
       "      <td>Female</td>\n",
       "      <td>34</td>\n",
       "      <td>10</td>\n",
       "      <td>107556.06</td>\n",
       "      <td>2</td>\n",
       "      <td>0</td>\n",
       "      <td>0</td>\n",
       "      <td>154631.35</td>\n",
       "    </tr>\n",
       "    <tr>\n",
       "      <th>4</th>\n",
       "      <td>Ch'in</td>\n",
       "      <td>592</td>\n",
       "      <td>France</td>\n",
       "      <td>Female</td>\n",
       "      <td>62</td>\n",
       "      <td>5</td>\n",
       "      <td>0.00</td>\n",
       "      <td>1</td>\n",
       "      <td>1</td>\n",
       "      <td>1</td>\n",
       "      <td>100941.57</td>\n",
       "    </tr>\n",
       "  </tbody>\n",
       "</table>\n",
       "</div>"
      ],
      "text/plain": [
       "       Surname  CreditScore Geography  Gender  Age  Tenure    Balance  \\\n",
       "0     Abdullah          802    France  Female   60       3   92887.06   \n",
       "1     Ignatiev          602    France  Female   56       3  115895.22   \n",
       "2  Anenechukwu          801    France  Female   32       4   75170.54   \n",
       "3         Wade          693     Spain  Female   34      10  107556.06   \n",
       "4        Ch'in          592    France  Female   62       5       0.00   \n",
       "\n",
       "   NumOfProducts  HasCrCard  IsActiveMember  EstimatedSalary  \n",
       "0              1          1               0         39473.63  \n",
       "1              3          1               0          4176.17  \n",
       "2              1          1               1         37898.50  \n",
       "3              2          0               0        154631.35  \n",
       "4              1          1               1        100941.57  "
      ]
     },
     "metadata": {},
     "output_type": "display_data"
    },
    {
     "data": {
      "text/plain": [
       "Surname            0\n",
       "CreditScore        0\n",
       "Geography          0\n",
       "Gender             0\n",
       "Age                0\n",
       "Tenure             0\n",
       "Balance            0\n",
       "NumOfProducts      0\n",
       "HasCrCard          0\n",
       "IsActiveMember     0\n",
       "EstimatedSalary    0\n",
       "dtype: int64"
      ]
     },
     "metadata": {},
     "output_type": "display_data"
    }
   ],
   "source": [
    "display(X_test.info(), X_test.head(), X_test.isnull().sum())"
   ]
  },
  {
   "cell_type": "code",
   "execution_count": 6,
   "metadata": {},
   "outputs": [
    {
     "name": "stdout",
     "output_type": "stream",
     "text": [
      "Surname 2289\n",
      "['Abazu' 'Abbott' 'Abdulov' ... 'Zuev' 'Zuyev' 'Zuyeva']\n",
      "==============================\n",
      "CreditScore 459\n",
      "[350 351 358 359 363 365 367 373 376 382 383 386 395 399 401 404 405 407\n",
      " 408 410 411 412 413 414 415 417 418 419 420 421 422 423 424 425 426 427\n",
      " 428 429 430 431 432 433 434 435 436 437 438 439 440 441 442 443 444 445\n",
      " 446 447 448 449 450 451 452 453 454 455 456 457 458 459 460 461 462 463\n",
      " 464 465 466 467 468 469 470 471 472 473 474 475 476 477 478 479 480 481\n",
      " 482 483 484 485 486 487 488 489 490 491 492 493 494 495 496 497 498 499\n",
      " 500 501 502 503 504 505 506 507 508 509 510 511 512 513 514 515 516 517\n",
      " 518 519 520 521 522 523 524 525 526 527 528 529 530 531 532 533 534 535\n",
      " 536 537 538 539 540 541 542 543 544 545 546 547 548 549 550 551 552 553\n",
      " 554 555 556 557 558 559 560 561 562 563 564 565 566 567 568 569 570 571\n",
      " 572 573 574 575 576 577 578 579 580 581 582 583 584 585 586 587 588 589\n",
      " 590 591 592 593 594 595 596 597 598 599 600 601 602 603 604 605 606 607\n",
      " 608 609 610 611 612 613 614 615 616 617 618 619 620 621 622 623 624 625\n",
      " 626 627 628 629 630 631 632 633 634 635 636 637 638 639 640 641 642 643\n",
      " 644 645 646 647 648 649 650 651 652 653 654 655 656 657 658 659 660 661\n",
      " 662 663 664 665 666 667 668 669 670 671 672 673 674 675 676 677 678 679\n",
      " 680 681 682 683 684 685 686 687 688 689 690 691 692 693 694 695 696 697\n",
      " 698 699 700 701 702 703 704 705 706 707 708 709 710 711 712 713 714 715\n",
      " 716 717 718 719 720 721 722 723 724 725 726 727 728 729 730 731 732 733\n",
      " 734 735 736 737 738 739 740 741 742 743 744 745 746 747 748 749 750 751\n",
      " 752 753 754 755 756 757 758 759 760 761 762 763 764 765 766 767 768 769\n",
      " 770 771 772 773 774 775 776 777 778 779 780 781 782 783 784 785 786 787\n",
      " 788 789 790 791 792 793 794 795 796 797 798 799 800 801 802 803 804 805\n",
      " 806 807 808 809 810 811 812 813 814 815 816 817 818 819 820 821 822 823\n",
      " 824 825 826 827 828 829 830 831 832 833 834 835 836 837 838 839 840 841\n",
      " 842 843 844 845 846 847 848 849 850]\n",
      "==============================\n",
      "Geography 3\n",
      "['France' 'Germany' 'Spain']\n",
      "==============================\n",
      "Gender 4\n",
      "[' male' 'Female' 'Male' 'female']\n",
      "==============================\n",
      "Age 69\n",
      "[18 19 20 21 22 23 24 25 26 27 28 29 30 31 32 33 34 35 36 37 38 39 40 41\n",
      " 42 43 44 45 46 47 48 49 50 51 52 53 54 55 56 57 58 59 60 61 62 63 64 65\n",
      " 66 67 68 69 70 71 72 73 74 75 76 77 78 79 80 81 82 83 84 88 92]\n",
      "==============================\n",
      "Tenure 11\n",
      "[ 0  1  2  3  4  5  6  7  8  9 10]\n",
      "==============================\n",
      "Balance 4162\n",
      "[     0.    12459.19  14262.8  ... 221532.8  222267.63 238387.56]\n",
      "==============================\n",
      "NumOfProducts 4\n",
      "[1 2 3 4]\n",
      "==============================\n",
      "HasCrCard 2\n",
      "[0 1]\n",
      "==============================\n",
      "IsActiveMember 2\n",
      "[0 1]\n",
      "==============================\n",
      "EstimatedSalary 6499\n",
      "[1.1580000e+01 9.0070000e+01 1.2307000e+02 ... 1.9990932e+05 1.9992917e+05\n",
      " 1.9997074e+05]\n",
      "==============================\n"
     ]
    }
   ],
   "source": [
    "for c in X_train.columns:\n",
    "    print(c, X_train[c].nunique())\n",
    "    print(np.sort(X_train[c].unique()))\n",
    "    print('='*30)"
   ]
  },
  {
   "cell_type": "markdown",
   "metadata": {},
   "source": [
    "#### 3. Preprocessing\n",
    "- Gender : 띄어쓰기 제거 및 대문자 변경\n",
    "- 수치형 컬럼 : 정규화(MinMaxScaler)\n",
    "- 범주형 컬럼 : 인코딩(LabelEncoder)"
   ]
  },
  {
   "cell_type": "markdown",
   "metadata": {},
   "source": [
    "> Gender 컬럼 : 띄어쓰기 제거 및 대문자 변경"
   ]
  },
  {
   "cell_type": "code",
   "execution_count": 7,
   "metadata": {},
   "outputs": [
    {
     "name": "stdout",
     "output_type": "stream",
     "text": [
      "['Female' 'Male' ' male' 'female'] ['Female' 'Male' ' male' 'female']\n",
      "['FEMALE' 'MALE'] ['FEMALE' 'MALE']\n"
     ]
    }
   ],
   "source": [
    "print(X_train['Gender'].unique(), X_test['Gender'].unique())\n",
    "\n",
    "X_train['Gender'] = X_train['Gender'].str.replace(' ', '').str.upper()\n",
    "X_test['Gender'] = X_test['Gender'].str. replace(' ', '').str.upper()\n",
    "\n",
    "print(X_train['Gender'].unique(), X_test['Gender'].unique())"
   ]
  },
  {
   "cell_type": "markdown",
   "metadata": {},
   "source": [
    "> 수치형 컬럼 정규화"
   ]
  },
  {
   "cell_type": "code",
   "execution_count": 8,
   "metadata": {},
   "outputs": [],
   "source": [
    "int_col = X_train.select_dtypes(exclude='object').columns\n",
    "\n"
   ]
  },
  {
   "cell_type": "markdown",
   "metadata": {},
   "source": [
    "> 범주형 컬럼 인코딩"
   ]
  },
  {
   "cell_type": "code",
   "execution_count": 9,
   "metadata": {},
   "outputs": [
    {
     "name": "stdout",
     "output_type": "stream",
     "text": [
      "Surname      int32\n",
      "Geography    int32\n",
      "Gender       int32\n",
      "dtype: object\n",
      "Surname      int32\n",
      "Geography    int32\n",
      "Gender       int32\n",
      "dtype: object\n"
     ]
    }
   ],
   "source": [
    "obj_col = X_train.select_dtypes(include='object').columns\n",
    "\n",
    "from sklearn.preprocessing import LabelEncoder\n",
    "\n",
    "le = LabelEncoder()\n",
    "\n",
    "X_train[obj_col] = X_train[obj_col].apply(le.fit_transform)\n",
    "X_test[obj_col] = X_test[obj_col].apply(le.fit_transform)\n",
    "\n",
    "print(X_train[obj_col].dtypes)\n",
    "print(X_test[obj_col].dtypes)"
   ]
  },
  {
   "cell_type": "markdown",
   "metadata": {},
   "source": [
    "#### 4. Modeling"
   ]
  },
  {
   "cell_type": "code",
   "execution_count": 10,
   "metadata": {},
   "outputs": [],
   "source": [
    "from sklearn.model_selection import train_test_split, GridSearchCV\n",
    "\n",
    "from sklearn.ensemble import RandomForestClassifier, GradientBoostingClassifier\n",
    "from xgboost import XGBClassifier, XGBRFClassifier\n",
    "\n",
    "from sklearn.metrics import accuracy_score, roc_auc_score"
   ]
  },
  {
   "cell_type": "code",
   "execution_count": 11,
   "metadata": {},
   "outputs": [
    {
     "name": "stdout",
     "output_type": "stream",
     "text": [
      "(5199, 11) (1300, 11) (5199,) (1300,)\n"
     ]
    }
   ],
   "source": [
    "X_tr, X_val, y_tr, y_val = train_test_split(X_train, y, test_size=0.2, shuffle=True, random_state=156)\n",
    "print(X_tr.shape, X_val.shape, y_tr.shape, y_val.shape)"
   ]
  },
  {
   "cell_type": "code",
   "execution_count": 12,
   "metadata": {},
   "outputs": [],
   "source": [
    "rf = RandomForestClassifier(random_state=156)\n",
    "gb = GradientBoostingClassifier(random_state=156)\n",
    "xgb = XGBClassifier(random_state=156)\n",
    "xgbrf = XGBRFClassifier(random_state=156)\n",
    "\n",
    "models = [rf, gb, xgb, xgbrf]"
   ]
  },
  {
   "cell_type": "code",
   "execution_count": 13,
   "metadata": {},
   "outputs": [
    {
     "name": "stdout",
     "output_type": "stream",
     "text": [
      "RandomForestClassifier\n",
      "accuracy : 0.8569230769230769\n",
      "auc : 0.859553666470093\n",
      "==============================\n",
      "GradientBoostingClassifier\n",
      "accuracy : 0.8607692307692307\n",
      "auc : 0.8704542335666254\n",
      "==============================\n",
      "XGBClassifier\n",
      "accuracy : 0.8561538461538462\n",
      "auc : 0.8515979956902147\n",
      "==============================\n",
      "XGBRFClassifier\n",
      "accuracy : 0.8630769230769231\n",
      "auc : 0.8539642977683324\n",
      "==============================\n"
     ]
    }
   ],
   "source": [
    "for model in models:\n",
    "    model.fit(X_tr, y_tr)\n",
    "    pred = model.predict(X_val)\n",
    "    pred_proba = model.predict_proba(X_val)[:, 1]\n",
    "    \n",
    "    name = str(model).split('(')[0]\n",
    "    print(name)\n",
    "    print('accuracy :', accuracy_score(y_val, pred))\n",
    "    print('auc :', roc_auc_score(y_val, pred_proba))\n",
    "    print('='*30)"
   ]
  },
  {
   "cell_type": "markdown",
   "metadata": {},
   "source": [
    "> GridSearchCV"
   ]
  },
  {
   "cell_type": "code",
   "execution_count": 14,
   "metadata": {},
   "outputs": [],
   "source": [
    "params = {'n_estimators':[100, 500], 'max_depth':[1,2,3,4,5]}"
   ]
  },
  {
   "cell_type": "code",
   "execution_count": 15,
   "metadata": {},
   "outputs": [
    {
     "name": "stdout",
     "output_type": "stream",
     "text": [
      "RandomForestClassifier\n",
      "params : {'max_depth': 5, 'n_estimators': 500}\n",
      "score : 0.8434807198293779\n",
      "==========\n",
      "GradientBoostingClassifier\n",
      "params : {'max_depth': 3, 'n_estimators': 100}\n",
      "score : 0.8555033150037136\n",
      "==========\n",
      "XGBClassifier\n",
      "params : {'max_depth': 2, 'n_estimators': 100}\n",
      "score : 0.85534727474669\n",
      "==========\n",
      "XGBRFClassifier\n",
      "params : {'max_depth': 5, 'n_estimators': 100}\n",
      "score : 0.8440888679926681\n",
      "==========\n"
     ]
    }
   ],
   "source": [
    "for model in models:\n",
    "    gscv = GridSearchCV(model, params, cv=3, scoring='roc_auc')\n",
    "    gscv.fit(X_tr, y_tr)\n",
    "    \n",
    "    print(str(model).split('(')[0])\n",
    "    print('params :', gscv.best_params_)\n",
    "    print('score :', gscv.best_score_)\n",
    "    print('='*10)"
   ]
  },
  {
   "cell_type": "code",
   "execution_count": 16,
   "metadata": {},
   "outputs": [],
   "source": [
    "gb = GradientBoostingClassifier(random_state=156, max_depth=3 , n_estimators=100)\n",
    "\n",
    "gb.fit(X_train, y)\n",
    "pred = gb.predict(X_test)\n",
    "pred_proba = gb.predict_proba(X_test)[:, 1]"
   ]
  },
  {
   "cell_type": "code",
   "execution_count": 17,
   "metadata": {},
   "outputs": [
    {
     "data": {
      "text/html": [
       "<div>\n",
       "<style scoped>\n",
       "    .dataframe tbody tr th:only-of-type {\n",
       "        vertical-align: middle;\n",
       "    }\n",
       "\n",
       "    .dataframe tbody tr th {\n",
       "        vertical-align: top;\n",
       "    }\n",
       "\n",
       "    .dataframe thead th {\n",
       "        text-align: right;\n",
       "    }\n",
       "</style>\n",
       "<table border=\"1\" class=\"dataframe\">\n",
       "  <thead>\n",
       "    <tr style=\"text-align: right;\">\n",
       "      <th></th>\n",
       "      <th>CustomerId</th>\n",
       "      <th>Exited</th>\n",
       "    </tr>\n",
       "  </thead>\n",
       "  <tbody>\n",
       "    <tr>\n",
       "      <th>0</th>\n",
       "      <td>15601012</td>\n",
       "      <td>1</td>\n",
       "    </tr>\n",
       "    <tr>\n",
       "      <th>1</th>\n",
       "      <td>15734762</td>\n",
       "      <td>1</td>\n",
       "    </tr>\n",
       "    <tr>\n",
       "      <th>2</th>\n",
       "      <td>15586757</td>\n",
       "      <td>0</td>\n",
       "    </tr>\n",
       "    <tr>\n",
       "      <th>3</th>\n",
       "      <td>15590888</td>\n",
       "      <td>0</td>\n",
       "    </tr>\n",
       "    <tr>\n",
       "      <th>4</th>\n",
       "      <td>15726087</td>\n",
       "      <td>0</td>\n",
       "    </tr>\n",
       "    <tr>\n",
       "      <th>...</th>\n",
       "      <td>...</td>\n",
       "      <td>...</td>\n",
       "    </tr>\n",
       "    <tr>\n",
       "      <th>3496</th>\n",
       "      <td>15733966</td>\n",
       "      <td>1</td>\n",
       "    </tr>\n",
       "    <tr>\n",
       "      <th>3497</th>\n",
       "      <td>15669994</td>\n",
       "      <td>0</td>\n",
       "    </tr>\n",
       "    <tr>\n",
       "      <th>3498</th>\n",
       "      <td>15712403</td>\n",
       "      <td>1</td>\n",
       "    </tr>\n",
       "    <tr>\n",
       "      <th>3499</th>\n",
       "      <td>15643819</td>\n",
       "      <td>0</td>\n",
       "    </tr>\n",
       "    <tr>\n",
       "      <th>3500</th>\n",
       "      <td>15644962</td>\n",
       "      <td>0</td>\n",
       "    </tr>\n",
       "  </tbody>\n",
       "</table>\n",
       "<p>3501 rows × 2 columns</p>\n",
       "</div>"
      ],
      "text/plain": [
       "      CustomerId  Exited\n",
       "0       15601012       1\n",
       "1       15734762       1\n",
       "2       15586757       0\n",
       "3       15590888       0\n",
       "4       15726087       0\n",
       "...          ...     ...\n",
       "3496    15733966       1\n",
       "3497    15669994       0\n",
       "3498    15712403       1\n",
       "3499    15643819       0\n",
       "3500    15644962       0\n",
       "\n",
       "[3501 rows x 2 columns]"
      ]
     },
     "execution_count": 17,
     "metadata": {},
     "output_type": "execute_result"
    }
   ],
   "source": [
    "out_data = pd.DataFrame({'CustomerId': CustomerId, 'Exited': pred})\n",
    "out_data"
   ]
  },
  {
   "cell_type": "code",
   "execution_count": 18,
   "metadata": {},
   "outputs": [],
   "source": [
    "# out_data.to_csv('123456.csv', index=False)"
   ]
  },
  {
   "cell_type": "code",
   "execution_count": 19,
   "metadata": {},
   "outputs": [
    {
     "name": "stdout",
     "output_type": "stream",
     "text": [
      "accuracy : 0.8631819480148529\n",
      "auc : 0.8600647233887568\n"
     ]
    }
   ],
   "source": [
    "# 가채점\n",
    "print('accuracy :', accuracy_score(y_test['Exited'], pred))\n",
    "print('auc :', roc_auc_score(y_test['Exited'], pred_proba))"
   ]
  },
  {
   "cell_type": "markdown",
   "metadata": {},
   "source": [
    "#### 5. 다른 모델 평가"
   ]
  },
  {
   "cell_type": "markdown",
   "metadata": {},
   "source": [
    "> GridSearchCV 전"
   ]
  },
  {
   "cell_type": "code",
   "execution_count": 20,
   "metadata": {},
   "outputs": [],
   "source": [
    "rf = RandomForestClassifier(random_state=156)\n",
    "gb = GradientBoostingClassifier(random_state=156)\n",
    "xgb = XGBClassifier(random_state=156)\n",
    "xgbrf = XGBRFClassifier(random_state=156)\n",
    "\n",
    "models = [rf, gb, xgb, xgbrf]"
   ]
  },
  {
   "cell_type": "code",
   "execution_count": 21,
   "metadata": {},
   "outputs": [
    {
     "name": "stdout",
     "output_type": "stream",
     "text": [
      "RandomForestClassifier\n",
      "accuracy : 0.8588974578691803\n",
      "auc : 0.848927280007888\n",
      "==============================\n",
      "GradientBoostingClassifier\n",
      "accuracy : 0.8631819480148529\n",
      "auc : 0.8600647233887568\n",
      "==============================\n",
      "XGBClassifier\n",
      "accuracy : 0.8546129677235076\n",
      "auc : 0.8362859459796643\n",
      "==============================\n",
      "XGBRFClassifier\n",
      "accuracy : 0.8571836618109112\n",
      "auc : 0.8500606687446299\n",
      "==============================\n"
     ]
    }
   ],
   "source": [
    "for model in models:\n",
    "    model.fit(X_train, y)\n",
    "    pred = model.predict(X_test)\n",
    "    pred_proba = model.predict_proba(X_test)[:, 1]\n",
    "    \n",
    "    name = str(model).split('(')[0]\n",
    "    print(name)\n",
    "    print('accuracy :', accuracy_score(y_test['Exited'], pred))\n",
    "    print('auc :', roc_auc_score(y_test['Exited'], pred_proba))\n",
    "    print('='*30)"
   ]
  },
  {
   "cell_type": "markdown",
   "metadata": {},
   "source": [
    "> GridSearchCV 후"
   ]
  },
  {
   "cell_type": "code",
   "execution_count": 22,
   "metadata": {},
   "outputs": [],
   "source": [
    "rf = RandomForestClassifier(random_state=156, max_depth=5, n_estimators=500)\n",
    "gb = GradientBoostingClassifier(random_state=156, max_depth=3, n_estimators=100)\n",
    "xgb = XGBClassifier(random_state=156, max_depth=2, n_estimators=100)\n",
    "xgbrf = XGBRFClassifier(random_state=156, max_depth=5, n_estimators=100)\n",
    "\n",
    "models = [rf, gb, xgb, xgbrf]"
   ]
  },
  {
   "cell_type": "code",
   "execution_count": 23,
   "metadata": {},
   "outputs": [
    {
     "name": "stdout",
     "output_type": "stream",
     "text": [
      "RandomForestClassifier\n",
      "accuracy : 0.8551842330762639\n",
      "auc : 0.8455910021108295\n",
      "====================================================================================================\n",
      "GradientBoostingClassifier\n",
      "accuracy : 0.8631819480148529\n",
      "auc : 0.8600647233887568\n",
      "====================================================================================================\n",
      "XGBClassifier\n",
      "accuracy : 0.8603256212510711\n",
      "auc : 0.8576206181169146\n",
      "====================================================================================================\n",
      "XGBRFClassifier\n",
      "accuracy : 0.8577549271636675\n",
      "auc : 0.8457949919611398\n",
      "====================================================================================================\n"
     ]
    }
   ],
   "source": [
    "for model in models:\n",
    "    model.fit(X_train, y)\n",
    "    pred = model.predict(X_test)\n",
    "    pred_proba = model.predict_proba(X_test)[:, 1]\n",
    "    \n",
    "    name = str(model).split('(')[0]\n",
    "    print(name)\n",
    "    print('accuracy :', accuracy_score(y_test['Exited'], pred))\n",
    "    print('auc :', roc_auc_score(y_test['Exited'], pred_proba))\n",
    "    print('='*100)"
   ]
  },
  {
   "cell_type": "code",
   "execution_count": null,
   "metadata": {},
   "outputs": [],
   "source": []
  }
 ],
 "metadata": {
  "kernelspec": {
   "display_name": "ml",
   "language": "python",
   "name": "ml"
  },
  "language_info": {
   "codemirror_mode": {
    "name": "ipython",
    "version": 3
   },
   "file_extension": ".py",
   "mimetype": "text/x-python",
   "name": "python",
   "nbconvert_exporter": "python",
   "pygments_lexer": "ipython3",
   "version": "3.8.0"
  }
 },
 "nbformat": 4,
 "nbformat_minor": 2
}
