{
 "cells": [
  {
   "cell_type": "markdown",
   "metadata": {},
   "source": [
    "# 작업 2유형\n",
    "- https://www.datamanim.com/dataset/03_dataq/typetwo.html#id4"
   ]
  },
  {
   "cell_type": "markdown",
   "metadata": {},
   "source": [
    "# 2. 이직여부 판단 데이터(Classification)\n",
    "\n",
    "> Attention\n",
    "- 데이터 설명 : 이직여부 판단 데이터 (target: 1: 이직 , 0 : 이직 x)\n",
    "- 데이터 출처 : https://www.kaggle.com/datasets/arashnic/hr-analytics-job-change-of-data-scientists (참고, 데이터 수정)\n",
    "- X_train : https://raw.githubusercontent.com/Datamanim/datarepo/main/HRdata/X_train.csv\n",
    "- y_train : https://raw.githubusercontent.com/Datamanim/datarepo/main/HRdata/y_train.csv\n",
    "- X_test : https://raw.githubusercontent.com/Datamanim/datarepo/main/HRdata/X_test.csv\n",
    "- y_test(평가용) : https://raw.githubusercontent.com/Datamanim/datarepo/main/HRdata/y_test.csv"
   ]
  },
  {
   "cell_type": "markdown",
   "metadata": {},
   "source": [
    "#### 0. 시험 환경 세팅"
   ]
  },
  {
   "cell_type": "code",
   "execution_count": 1,
   "metadata": {},
   "outputs": [
    {
     "data": {
      "text/plain": [
       "((12452, 13), (12452, 2), (6706, 13), (6706, 2))"
      ]
     },
     "execution_count": 1,
     "metadata": {},
     "output_type": "execute_result"
    }
   ],
   "source": [
    "import pandas as pd\n",
    "\n",
    "X_train = pd.read_csv(\"https://raw.githubusercontent.com/Datamanim/datarepo/main/HRdata/X_train.csv\")\n",
    "y_train = pd.read_csv(\"https://raw.githubusercontent.com/Datamanim/datarepo/main/HRdata/y_train.csv\")\n",
    "X_test = pd.read_csv(\"https://raw.githubusercontent.com/Datamanim/datarepo/main/HRdata/X_test.csv\")\n",
    "y_test = pd.read_csv(\"https://raw.githubusercontent.com/Datamanim/datarepo/main/HRdata/y_test.csv\")\n",
    "\n",
    "X_train.shape, y_train.shape, X_test.shape, y_test.shape"
   ]
  },
  {
   "cell_type": "markdown",
   "metadata": {},
   "source": [
    "#### 1. 라이브러리 및 데이터 호출"
   ]
  },
  {
   "cell_type": "code",
   "execution_count": 2,
   "metadata": {},
   "outputs": [],
   "source": [
    "import numpy as np\n",
    "import pandas as pd"
   ]
  },
  {
   "cell_type": "code",
   "execution_count": 3,
   "metadata": {},
   "outputs": [
    {
     "data": {
      "text/plain": [
       "((12452, 12), (6706, 12), (12452,))"
      ]
     },
     "execution_count": 3,
     "metadata": {},
     "output_type": "execute_result"
    }
   ],
   "source": [
    "X_train.drop('enrollee_id', axis=1, inplace=True)\n",
    "enrollee_id = X_test.pop('enrollee_id')\n",
    "\n",
    "y = y_train['target']\n",
    "\n",
    "X_train.shape, X_test.shape, y.shape"
   ]
  },
  {
   "cell_type": "markdown",
   "metadata": {},
   "source": [
    "#### 2. EDA"
   ]
  },
  {
   "cell_type": "code",
   "execution_count": 4,
   "metadata": {
    "scrolled": true
   },
   "outputs": [
    {
     "name": "stdout",
     "output_type": "stream",
     "text": [
      "<class 'pandas.core.frame.DataFrame'>\n",
      "RangeIndex: 12452 entries, 0 to 12451\n",
      "Data columns (total 12 columns):\n",
      " #   Column                  Non-Null Count  Dtype  \n",
      "---  ------                  --------------  -----  \n",
      " 0   city                    12452 non-null  object \n",
      " 1   city_development_index  12452 non-null  float64\n",
      " 2   gender                  9535 non-null   object \n",
      " 3   relevent_experience     12452 non-null  object \n",
      " 4   enrolled_university     12195 non-null  object \n",
      " 5   education_level         12137 non-null  object \n",
      " 6   major_discipline        10586 non-null  object \n",
      " 7   experience              12415 non-null  object \n",
      " 8   company_size            8600 non-null   object \n",
      " 9   company_type            8471 non-null   object \n",
      " 10  last_new_job            12179 non-null  object \n",
      " 11  training_hours          12452 non-null  int64  \n",
      "dtypes: float64(1), int64(1), object(10)\n",
      "memory usage: 1.1+ MB\n"
     ]
    },
    {
     "data": {
      "text/plain": [
       "None"
      ]
     },
     "metadata": {},
     "output_type": "display_data"
    },
    {
     "data": {
      "text/html": [
       "<div>\n",
       "<style scoped>\n",
       "    .dataframe tbody tr th:only-of-type {\n",
       "        vertical-align: middle;\n",
       "    }\n",
       "\n",
       "    .dataframe tbody tr th {\n",
       "        vertical-align: top;\n",
       "    }\n",
       "\n",
       "    .dataframe thead th {\n",
       "        text-align: right;\n",
       "    }\n",
       "</style>\n",
       "<table border=\"1\" class=\"dataframe\">\n",
       "  <thead>\n",
       "    <tr style=\"text-align: right;\">\n",
       "      <th></th>\n",
       "      <th>city</th>\n",
       "      <th>city_development_index</th>\n",
       "      <th>gender</th>\n",
       "      <th>relevent_experience</th>\n",
       "      <th>enrolled_university</th>\n",
       "      <th>education_level</th>\n",
       "      <th>major_discipline</th>\n",
       "      <th>experience</th>\n",
       "      <th>company_size</th>\n",
       "      <th>company_type</th>\n",
       "      <th>last_new_job</th>\n",
       "      <th>training_hours</th>\n",
       "    </tr>\n",
       "  </thead>\n",
       "  <tbody>\n",
       "    <tr>\n",
       "      <th>0</th>\n",
       "      <td>city_138</td>\n",
       "      <td>0.836</td>\n",
       "      <td>Male</td>\n",
       "      <td>No relevent experience</td>\n",
       "      <td>Full time course</td>\n",
       "      <td>High School</td>\n",
       "      <td>NaN</td>\n",
       "      <td>5</td>\n",
       "      <td>100-500</td>\n",
       "      <td>Pvt Ltd</td>\n",
       "      <td>1</td>\n",
       "      <td>45</td>\n",
       "    </tr>\n",
       "    <tr>\n",
       "      <th>1</th>\n",
       "      <td>city_160</td>\n",
       "      <td>0.920</td>\n",
       "      <td>Male</td>\n",
       "      <td>No relevent experience</td>\n",
       "      <td>Full time course</td>\n",
       "      <td>High School</td>\n",
       "      <td>NaN</td>\n",
       "      <td>5</td>\n",
       "      <td>NaN</td>\n",
       "      <td>NaN</td>\n",
       "      <td>1</td>\n",
       "      <td>17</td>\n",
       "    </tr>\n",
       "    <tr>\n",
       "      <th>2</th>\n",
       "      <td>city_57</td>\n",
       "      <td>0.866</td>\n",
       "      <td>Male</td>\n",
       "      <td>No relevent experience</td>\n",
       "      <td>no_enrollment</td>\n",
       "      <td>Graduate</td>\n",
       "      <td>STEM</td>\n",
       "      <td>10</td>\n",
       "      <td>NaN</td>\n",
       "      <td>NaN</td>\n",
       "      <td>1</td>\n",
       "      <td>50</td>\n",
       "    </tr>\n",
       "    <tr>\n",
       "      <th>3</th>\n",
       "      <td>city_16</td>\n",
       "      <td>0.910</td>\n",
       "      <td>Male</td>\n",
       "      <td>Has relevent experience</td>\n",
       "      <td>no_enrollment</td>\n",
       "      <td>Graduate</td>\n",
       "      <td>STEM</td>\n",
       "      <td>&gt;20</td>\n",
       "      <td>50-99</td>\n",
       "      <td>Pvt Ltd</td>\n",
       "      <td>&gt;4</td>\n",
       "      <td>135</td>\n",
       "    </tr>\n",
       "    <tr>\n",
       "      <th>4</th>\n",
       "      <td>city_143</td>\n",
       "      <td>0.740</td>\n",
       "      <td>NaN</td>\n",
       "      <td>No relevent experience</td>\n",
       "      <td>Full time course</td>\n",
       "      <td>Graduate</td>\n",
       "      <td>STEM</td>\n",
       "      <td>5</td>\n",
       "      <td>NaN</td>\n",
       "      <td>NaN</td>\n",
       "      <td>never</td>\n",
       "      <td>17</td>\n",
       "    </tr>\n",
       "  </tbody>\n",
       "</table>\n",
       "</div>"
      ],
      "text/plain": [
       "       city  city_development_index gender      relevent_experience  \\\n",
       "0  city_138                   0.836   Male   No relevent experience   \n",
       "1  city_160                   0.920   Male   No relevent experience   \n",
       "2   city_57                   0.866   Male   No relevent experience   \n",
       "3   city_16                   0.910   Male  Has relevent experience   \n",
       "4  city_143                   0.740    NaN   No relevent experience   \n",
       "\n",
       "  enrolled_university education_level major_discipline experience  \\\n",
       "0    Full time course     High School              NaN          5   \n",
       "1    Full time course     High School              NaN          5   \n",
       "2       no_enrollment        Graduate             STEM         10   \n",
       "3       no_enrollment        Graduate             STEM        >20   \n",
       "4    Full time course        Graduate             STEM          5   \n",
       "\n",
       "  company_size company_type last_new_job  training_hours  \n",
       "0      100-500      Pvt Ltd            1              45  \n",
       "1          NaN          NaN            1              17  \n",
       "2          NaN          NaN            1              50  \n",
       "3        50-99      Pvt Ltd           >4             135  \n",
       "4          NaN          NaN        never              17  "
      ]
     },
     "metadata": {},
     "output_type": "display_data"
    },
    {
     "data": {
      "text/plain": [
       "city                         0\n",
       "city_development_index       0\n",
       "gender                    2917\n",
       "relevent_experience          0\n",
       "enrolled_university        257\n",
       "education_level            315\n",
       "major_discipline          1866\n",
       "experience                  37\n",
       "company_size              3852\n",
       "company_type              3981\n",
       "last_new_job               273\n",
       "training_hours               0\n",
       "dtype: int64"
      ]
     },
     "metadata": {},
     "output_type": "display_data"
    },
    {
     "name": "stdout",
     "output_type": "stream",
     "text": [
      "====================================================================================================\n",
      "<class 'pandas.core.frame.DataFrame'>\n",
      "RangeIndex: 6706 entries, 0 to 6705\n",
      "Data columns (total 12 columns):\n",
      " #   Column                  Non-Null Count  Dtype  \n",
      "---  ------                  --------------  -----  \n",
      " 0   city                    6706 non-null   object \n",
      " 1   city_development_index  6706 non-null   float64\n",
      " 2   gender                  5115 non-null   object \n",
      " 3   relevent_experience     6706 non-null   object \n",
      " 4   enrolled_university     6577 non-null   object \n",
      " 5   education_level         6561 non-null   object \n",
      " 6   major_discipline        5759 non-null   object \n",
      " 7   experience              6678 non-null   object \n",
      " 8   company_size            4620 non-null   object \n",
      " 9   company_type            4547 non-null   object \n",
      " 10  last_new_job            6556 non-null   object \n",
      " 11  training_hours          6706 non-null   int64  \n",
      "dtypes: float64(1), int64(1), object(10)\n",
      "memory usage: 628.8+ KB\n"
     ]
    },
    {
     "data": {
      "text/plain": [
       "None"
      ]
     },
     "metadata": {},
     "output_type": "display_data"
    },
    {
     "data": {
      "text/html": [
       "<div>\n",
       "<style scoped>\n",
       "    .dataframe tbody tr th:only-of-type {\n",
       "        vertical-align: middle;\n",
       "    }\n",
       "\n",
       "    .dataframe tbody tr th {\n",
       "        vertical-align: top;\n",
       "    }\n",
       "\n",
       "    .dataframe thead th {\n",
       "        text-align: right;\n",
       "    }\n",
       "</style>\n",
       "<table border=\"1\" class=\"dataframe\">\n",
       "  <thead>\n",
       "    <tr style=\"text-align: right;\">\n",
       "      <th></th>\n",
       "      <th>city</th>\n",
       "      <th>city_development_index</th>\n",
       "      <th>gender</th>\n",
       "      <th>relevent_experience</th>\n",
       "      <th>enrolled_university</th>\n",
       "      <th>education_level</th>\n",
       "      <th>major_discipline</th>\n",
       "      <th>experience</th>\n",
       "      <th>company_size</th>\n",
       "      <th>company_type</th>\n",
       "      <th>last_new_job</th>\n",
       "      <th>training_hours</th>\n",
       "    </tr>\n",
       "  </thead>\n",
       "  <tbody>\n",
       "    <tr>\n",
       "      <th>0</th>\n",
       "      <td>city_23</td>\n",
       "      <td>0.899</td>\n",
       "      <td>Male</td>\n",
       "      <td>No relevent experience</td>\n",
       "      <td>no_enrollment</td>\n",
       "      <td>Graduate</td>\n",
       "      <td>STEM</td>\n",
       "      <td>2</td>\n",
       "      <td>NaN</td>\n",
       "      <td>NaN</td>\n",
       "      <td>1</td>\n",
       "      <td>23</td>\n",
       "    </tr>\n",
       "    <tr>\n",
       "      <th>1</th>\n",
       "      <td>city_44</td>\n",
       "      <td>0.725</td>\n",
       "      <td>Male</td>\n",
       "      <td>No relevent experience</td>\n",
       "      <td>Part time course</td>\n",
       "      <td>Masters</td>\n",
       "      <td>STEM</td>\n",
       "      <td>5</td>\n",
       "      <td>NaN</td>\n",
       "      <td>NaN</td>\n",
       "      <td>never</td>\n",
       "      <td>39</td>\n",
       "    </tr>\n",
       "    <tr>\n",
       "      <th>2</th>\n",
       "      <td>city_103</td>\n",
       "      <td>0.920</td>\n",
       "      <td>Male</td>\n",
       "      <td>No relevent experience</td>\n",
       "      <td>Full time course</td>\n",
       "      <td>Graduate</td>\n",
       "      <td>STEM</td>\n",
       "      <td>7</td>\n",
       "      <td>NaN</td>\n",
       "      <td>NaN</td>\n",
       "      <td>2</td>\n",
       "      <td>262</td>\n",
       "    </tr>\n",
       "    <tr>\n",
       "      <th>3</th>\n",
       "      <td>city_50</td>\n",
       "      <td>0.896</td>\n",
       "      <td>Male</td>\n",
       "      <td>No relevent experience</td>\n",
       "      <td>Full time course</td>\n",
       "      <td>Graduate</td>\n",
       "      <td>STEM</td>\n",
       "      <td>7</td>\n",
       "      <td>NaN</td>\n",
       "      <td>NaN</td>\n",
       "      <td>never</td>\n",
       "      <td>78</td>\n",
       "    </tr>\n",
       "    <tr>\n",
       "      <th>4</th>\n",
       "      <td>city_149</td>\n",
       "      <td>0.689</td>\n",
       "      <td>Female</td>\n",
       "      <td>Has relevent experience</td>\n",
       "      <td>Full time course</td>\n",
       "      <td>Masters</td>\n",
       "      <td>STEM</td>\n",
       "      <td>19</td>\n",
       "      <td>50-99</td>\n",
       "      <td>Pvt Ltd</td>\n",
       "      <td>1</td>\n",
       "      <td>125</td>\n",
       "    </tr>\n",
       "  </tbody>\n",
       "</table>\n",
       "</div>"
      ],
      "text/plain": [
       "       city  city_development_index  gender      relevent_experience  \\\n",
       "0   city_23                   0.899    Male   No relevent experience   \n",
       "1   city_44                   0.725    Male   No relevent experience   \n",
       "2  city_103                   0.920    Male   No relevent experience   \n",
       "3   city_50                   0.896    Male   No relevent experience   \n",
       "4  city_149                   0.689  Female  Has relevent experience   \n",
       "\n",
       "  enrolled_university education_level major_discipline experience  \\\n",
       "0       no_enrollment        Graduate             STEM          2   \n",
       "1    Part time course         Masters             STEM          5   \n",
       "2    Full time course        Graduate             STEM          7   \n",
       "3    Full time course        Graduate             STEM          7   \n",
       "4    Full time course         Masters             STEM         19   \n",
       "\n",
       "  company_size company_type last_new_job  training_hours  \n",
       "0          NaN          NaN            1              23  \n",
       "1          NaN          NaN        never              39  \n",
       "2          NaN          NaN            2             262  \n",
       "3          NaN          NaN        never              78  \n",
       "4        50-99      Pvt Ltd            1             125  "
      ]
     },
     "metadata": {},
     "output_type": "display_data"
    },
    {
     "data": {
      "text/plain": [
       "city                         0\n",
       "city_development_index       0\n",
       "gender                    1591\n",
       "relevent_experience          0\n",
       "enrolled_university        129\n",
       "education_level            145\n",
       "major_discipline           947\n",
       "experience                  28\n",
       "company_size              2086\n",
       "company_type              2159\n",
       "last_new_job               150\n",
       "training_hours               0\n",
       "dtype: int64"
      ]
     },
     "metadata": {},
     "output_type": "display_data"
    }
   ],
   "source": [
    "display(X_train.info(), X_train.head(), X_train.isnull().sum())\n",
    "print('='*100)\n",
    "display(X_test.info(), X_test.head(), X_test.isnull().sum())"
   ]
  },
  {
   "cell_type": "code",
   "execution_count": 5,
   "metadata": {
    "scrolled": false
   },
   "outputs": [
    {
     "name": "stdout",
     "output_type": "stream",
     "text": [
      "city 고유값 개수 : 122 || 결측치 개수 : 0\n",
      "['city_138' 'city_160' 'city_57' 'city_16' 'city_143' 'city_105'\n",
      " 'city_102' 'city_136' 'city_103' 'city_21' 'city_114' 'city_81' 'city_64'\n",
      " 'city_67' 'city_1' 'city_75' 'city_144' 'city_100' 'city_12' 'city_50'\n",
      " 'city_118' 'city_61' 'city_97' 'city_71' 'city_70' 'city_90' 'city_11'\n",
      " 'city_149' 'city_98' 'city_73' 'city_23' 'city_99' 'city_9' 'city_162'\n",
      " 'city_14' 'city_40' 'city_77' 'city_7' 'city_104' 'city_65' 'city_89'\n",
      " 'city_173' 'city_152' 'city_28' 'city_123' 'city_91' 'city_145'\n",
      " 'city_159' 'city_116' 'city_150' 'city_19' 'city_83' 'city_45' 'city_78'\n",
      " 'city_115' 'city_76' 'city_155' 'city_74' 'city_101' 'city_46' 'city_24'\n",
      " 'city_146' 'city_44' 'city_111' 'city_42' 'city_158' 'city_128'\n",
      " 'city_165' 'city_36' 'city_79' 'city_18' 'city_93' 'city_20' 'city_2'\n",
      " 'city_10' 'city_141' 'city_72' 'city_41' 'city_134' 'city_27' 'city_107'\n",
      " 'city_175' 'city_37' 'city_94' 'city_62' 'city_13' 'city_53' 'city_69'\n",
      " 'city_176' 'city_84' 'city_30' 'city_126' 'city_26' 'city_167' 'city_25'\n",
      " 'city_48' 'city_59' 'city_131' 'city_8' 'city_33' 'city_142' 'city_109'\n",
      " 'city_157' 'city_80' 'city_43' 'city_82' 'city_133' 'city_120' 'city_139'\n",
      " 'city_180' 'city_117' 'city_54' 'city_121' 'city_129' 'city_31' 'city_39'\n",
      " 'city_127' 'city_179' 'city_55' 'city_106' 'city_166' 'city_140']\n",
      "city_103    2839\n",
      "city_21     1713\n",
      "city_16     1005\n",
      "city_114     854\n",
      "city_160     557\n",
      "            ... \n",
      "city_18        2\n",
      "city_129       1\n",
      "city_121       1\n",
      "city_140       1\n",
      "city_166       1\n",
      "Name: city, Length: 122, dtype: int64\n",
      "====================================================================================================\n",
      "city_development_index 고유값 개수 : 92 || 결측치 개수 : 0\n",
      "[0.836 0.92  0.866 0.91  0.74  0.794 0.804 0.897 0.624 0.926 0.73  0.666\n",
      " 0.855 0.847 0.939 0.84  0.887 0.64  0.896 0.722 0.913 0.925 0.884 0.698\n",
      " 0.55  0.689 0.949 0.754 0.899 0.915 0.743 0.767 0.776 0.83  0.647 0.924\n",
      " 0.802 0.878 0.738 0.691 0.555 0.843 0.682 0.923 0.89  0.579 0.789 0.556\n",
      " 0.558 0.762 0.735 0.725 0.563 0.766 0.527 0.903 0.893 0.824 0.865 0.796\n",
      " 0.788 0.895 0.763 0.795 0.827 0.848 0.518 0.645 0.856 0.764 0.479 0.921\n",
      " 0.493 0.775 0.68  0.448 0.727 0.701 0.769 0.516 0.693 0.742 0.78  0.487\n",
      " 0.781 0.625 0.807 0.898 0.745 0.512 0.739 0.649]\n",
      "0.920    3396\n",
      "0.624    1713\n",
      "0.910    1005\n",
      "0.926     854\n",
      "0.698     464\n",
      "         ... \n",
      "0.487       3\n",
      "0.824       2\n",
      "0.781       1\n",
      "0.649       1\n",
      "0.625       1\n",
      "Name: city_development_index, Length: 92, dtype: int64\n",
      "====================================================================================================\n",
      "gender 고유값 개수 : 3 || 결측치 개수 : 2917\n",
      "['Male' nan 'Female' 'Other']\n",
      "Male      8595\n",
      "Female     808\n",
      "Other      132\n",
      "Name: gender, dtype: int64\n",
      "====================================================================================================\n",
      "relevent_experience 고유값 개수 : 2 || 결측치 개수 : 0\n",
      "['No relevent experience' 'Has relevent experience']\n",
      "Has relevent experience    8953\n",
      "No relevent experience     3499\n",
      "Name: relevent_experience, dtype: int64\n",
      "====================================================================================================\n",
      "enrolled_university 고유값 개수 : 3 || 결측치 개수 : 257\n",
      "['Full time course' 'no_enrollment' 'Part time course' nan]\n",
      "no_enrollment       8975\n",
      "Full time course    2431\n",
      "Part time course     789\n",
      "Name: enrolled_university, dtype: int64\n",
      "====================================================================================================\n",
      "education_level 고유값 개수 : 5 || 결측치 개수 : 315\n",
      "['High School' 'Graduate' 'Primary School' 'Masters' 'Phd' nan]\n",
      "Graduate          7540\n",
      "Masters           2796\n",
      "High School       1336\n",
      "Phd                269\n",
      "Primary School     196\n",
      "Name: education_level, dtype: int64\n",
      "====================================================================================================\n",
      "major_discipline 고유값 개수 : 6 || 결측치 개수 : 1866\n",
      "[nan 'STEM' 'Other' 'Humanities' 'No Major' 'Business Degree' 'Arts']\n",
      "STEM               9414\n",
      "Humanities          436\n",
      "Other               248\n",
      "Business Degree     195\n",
      "Arts                157\n",
      "No Major            136\n",
      "Name: major_discipline, dtype: int64\n",
      "====================================================================================================\n",
      "experience 고유값 개수 : 22 || 결측치 개수 : 37\n",
      "['5' '10' '>20' '6' '14' '20' '7' '9' '8' '4' '3' '13' '16' '2' '12' '15'\n",
      " '11' '1' '<1' '17' '18' nan '19']\n",
      ">20    2179\n",
      "4       945\n",
      "5       926\n",
      "3       858\n",
      "6       795\n",
      "2       713\n",
      "7       661\n",
      "9       657\n",
      "10      633\n",
      "8       520\n",
      "15      470\n",
      "11      428\n",
      "14      368\n",
      "1       354\n",
      "16      334\n",
      "<1      331\n",
      "12      317\n",
      "13      260\n",
      "17      224\n",
      "19      200\n",
      "18      151\n",
      "20       91\n",
      "Name: experience, dtype: int64\n",
      "====================================================================================================\n",
      "company_size 고유값 개수 : 8 || 결측치 개수 : 3852\n",
      "['100-500' nan '50-99' '10/49' '10000+' '1000-4999' '<10' '500-999'\n",
      " '5000-9999']\n",
      "50-99        2000\n",
      "100-500      1672\n",
      "10000+       1337\n",
      "10/49         947\n",
      "1000-4999     852\n",
      "<10           838\n",
      "500-999       599\n",
      "5000-9999     355\n",
      "Name: company_size, dtype: int64\n",
      "====================================================================================================\n",
      "company_type 고유값 개수 : 6 || 결측치 개수 : 3981\n",
      "['Pvt Ltd' nan 'Public Sector' 'NGO' 'Funded Startup'\n",
      " 'Early Stage Startup' 'Other']\n",
      "Pvt Ltd                6413\n",
      "Funded Startup          652\n",
      "Public Sector           620\n",
      "Early Stage Startup     365\n",
      "NGO                     340\n",
      "Other                    81\n",
      "Name: company_type, dtype: int64\n",
      "====================================================================================================\n",
      "last_new_job 고유값 개수 : 6 || 결측치 개수 : 273\n",
      "['1' '>4' 'never' '2' '4' '3' nan]\n",
      "1        5157\n",
      ">4       2182\n",
      "2        1895\n",
      "never    1584\n",
      "3         685\n",
      "4         676\n",
      "Name: last_new_job, dtype: int64\n",
      "====================================================================================================\n",
      "training_hours 고유값 개수 : 241 || 결측치 개수 : 0\n",
      "[ 45  17  50 135  62  94  16  14  28 144  42  12  55  32  39 326  98  21\n",
      "  82 149   4  54  48 254  29   7  33 118   8  72  78  86  44  30  74 148\n",
      "  46  81  47  85  22 228  23   9  34  27  26 100  67  52  43  83  19  51\n",
      " 256  77  76 206  18  91  24 126  96 250 117 102  11  15  56  41 214   6\n",
      "  25 108  35 184  75  37   2  10 308 146 196  13  65 192  90  66 105 124\n",
      " 158 163  36   3 156  70  87 151 202  80  60  63 140  89 112 288  84  20\n",
      " 136  38  31 282 119  49 290 145 133 162 314 330 110 122 168  73 114  57\n",
      " 103 155 161  61 142  69  92 128 264   1 101  64 104 152  53 129 182 328\n",
      "  97 248 302  68 167  79 212 188 232  40 246 174 111 322  59 216 198 141\n",
      " 204 234 134 180  58 210 150 194 130   5 176 132  99 166 153 157 113 270\n",
      " 139 332 240 310 127 131 107 258 106 190 121 154  88 138 336 147  95 268\n",
      " 200 320 109 125 160 164 178 116 120 286 123 260 222 312 143 236 238 316\n",
      " 170 280 294 284 266 165 226 300 324 172 262  71 334 244 242 278 224 304\n",
      " 276 292 298 220 218 306 272]\n",
      "28     212\n",
      "50     198\n",
      "20     191\n",
      "17     186\n",
      "18     184\n",
      "      ... \n",
      "276      4\n",
      "272      3\n",
      "234      3\n",
      "238      2\n",
      "228      2\n",
      "Name: training_hours, Length: 241, dtype: int64\n",
      "====================================================================================================\n"
     ]
    }
   ],
   "source": [
    "for c in X_train.columns:\n",
    "    print(c, '고유값 개수 :', X_train[c].nunique(), '|| 결측치 개수 :', X_train[c].isnull().sum())\n",
    "    print(X_train[c].unique())\n",
    "    print(X_train[c].value_counts())\n",
    "    print('='*100)"
   ]
  },
  {
   "cell_type": "code",
   "execution_count": 6,
   "metadata": {},
   "outputs": [
    {
     "name": "stdout",
     "output_type": "stream",
     "text": [
      "city_development_index 92 0\n",
      "training_hours 241 0\n"
     ]
    }
   ],
   "source": [
    "int_col = X_train.select_dtypes(exclude='object').columns\n",
    "\n",
    "for c in int_col:\n",
    "    print(c, X_train[c].nunique(), X_train[c].isnull().sum())"
   ]
  },
  {
   "cell_type": "code",
   "execution_count": 7,
   "metadata": {},
   "outputs": [
    {
     "name": "stdout",
     "output_type": "stream",
     "text": [
      "city 고유값 개수 : 122 || 결측치 비율: 0.0\n",
      "gender 고유값 개수 : 3 || 결측치 비율: 23.43\n",
      "relevent_experience 고유값 개수 : 2 || 결측치 비율: 0.0\n",
      "enrolled_university 고유값 개수 : 3 || 결측치 비율: 2.06\n",
      "education_level 고유값 개수 : 5 || 결측치 비율: 2.53\n",
      "major_discipline 고유값 개수 : 6 || 결측치 비율: 14.99\n",
      "experience 고유값 개수 : 22 || 결측치 비율: 0.3\n",
      "company_size 고유값 개수 : 8 || 결측치 비율: 30.93\n",
      "company_type 고유값 개수 : 6 || 결측치 비율: 31.97\n",
      "last_new_job 고유값 개수 : 6 || 결측치 비율: 2.19\n"
     ]
    }
   ],
   "source": [
    "obj_col = X_train.select_dtypes(include='object').columns\n",
    "\n",
    "for c in obj_col:\n",
    "    print(c, '고유값 개수 :', X_train[c].nunique(), '|| 결측치 비율:', round(X_train[c].isnull().sum() / len(X_train[c]) * 100, 2))"
   ]
  },
  {
   "cell_type": "markdown",
   "metadata": {},
   "source": [
    "#### 3. Preprocessing"
   ]
  },
  {
   "cell_type": "markdown",
   "metadata": {},
   "source": [
    "> 수치형 컬럼 2개(city_development_index, training_hours)\n",
    "- 정규화(MinMaxScaler)"
   ]
  },
  {
   "cell_type": "code",
   "execution_count": 8,
   "metadata": {},
   "outputs": [
    {
     "data": {
      "text/html": [
       "<div>\n",
       "<style scoped>\n",
       "    .dataframe tbody tr th:only-of-type {\n",
       "        vertical-align: middle;\n",
       "    }\n",
       "\n",
       "    .dataframe tbody tr th {\n",
       "        vertical-align: top;\n",
       "    }\n",
       "\n",
       "    .dataframe thead th {\n",
       "        text-align: right;\n",
       "    }\n",
       "</style>\n",
       "<table border=\"1\" class=\"dataframe\">\n",
       "  <thead>\n",
       "    <tr style=\"text-align: right;\">\n",
       "      <th></th>\n",
       "      <th>city_development_index</th>\n",
       "      <th>training_hours</th>\n",
       "    </tr>\n",
       "  </thead>\n",
       "  <tbody>\n",
       "    <tr>\n",
       "      <th>0</th>\n",
       "      <td>0.774451</td>\n",
       "      <td>0.131343</td>\n",
       "    </tr>\n",
       "    <tr>\n",
       "      <th>1</th>\n",
       "      <td>0.942116</td>\n",
       "      <td>0.047761</td>\n",
       "    </tr>\n",
       "    <tr>\n",
       "      <th>2</th>\n",
       "      <td>0.834331</td>\n",
       "      <td>0.146269</td>\n",
       "    </tr>\n",
       "    <tr>\n",
       "      <th>3</th>\n",
       "      <td>0.922156</td>\n",
       "      <td>0.400000</td>\n",
       "    </tr>\n",
       "    <tr>\n",
       "      <th>4</th>\n",
       "      <td>0.582834</td>\n",
       "      <td>0.047761</td>\n",
       "    </tr>\n",
       "    <tr>\n",
       "      <th>...</th>\n",
       "      <td>...</td>\n",
       "      <td>...</td>\n",
       "    </tr>\n",
       "    <tr>\n",
       "      <th>12447</th>\n",
       "      <td>0.351297</td>\n",
       "      <td>0.161194</td>\n",
       "    </tr>\n",
       "    <tr>\n",
       "      <th>12448</th>\n",
       "      <td>0.942116</td>\n",
       "      <td>0.017910</td>\n",
       "    </tr>\n",
       "    <tr>\n",
       "      <th>12449</th>\n",
       "      <td>0.942116</td>\n",
       "      <td>0.104478</td>\n",
       "    </tr>\n",
       "    <tr>\n",
       "      <th>12450</th>\n",
       "      <td>0.942116</td>\n",
       "      <td>0.119403</td>\n",
       "    </tr>\n",
       "    <tr>\n",
       "      <th>12451</th>\n",
       "      <td>0.896208</td>\n",
       "      <td>0.035821</td>\n",
       "    </tr>\n",
       "  </tbody>\n",
       "</table>\n",
       "<p>12452 rows × 2 columns</p>\n",
       "</div>"
      ],
      "text/plain": [
       "       city_development_index  training_hours\n",
       "0                    0.774451        0.131343\n",
       "1                    0.942116        0.047761\n",
       "2                    0.834331        0.146269\n",
       "3                    0.922156        0.400000\n",
       "4                    0.582834        0.047761\n",
       "...                       ...             ...\n",
       "12447                0.351297        0.161194\n",
       "12448                0.942116        0.017910\n",
       "12449                0.942116        0.104478\n",
       "12450                0.942116        0.119403\n",
       "12451                0.896208        0.035821\n",
       "\n",
       "[12452 rows x 2 columns]"
      ]
     },
     "metadata": {},
     "output_type": "display_data"
    },
    {
     "data": {
      "text/html": [
       "<div>\n",
       "<style scoped>\n",
       "    .dataframe tbody tr th:only-of-type {\n",
       "        vertical-align: middle;\n",
       "    }\n",
       "\n",
       "    .dataframe tbody tr th {\n",
       "        vertical-align: top;\n",
       "    }\n",
       "\n",
       "    .dataframe thead th {\n",
       "        text-align: right;\n",
       "    }\n",
       "</style>\n",
       "<table border=\"1\" class=\"dataframe\">\n",
       "  <thead>\n",
       "    <tr style=\"text-align: right;\">\n",
       "      <th></th>\n",
       "      <th>city_development_index</th>\n",
       "      <th>training_hours</th>\n",
       "    </tr>\n",
       "  </thead>\n",
       "  <tbody>\n",
       "    <tr>\n",
       "      <th>0</th>\n",
       "      <td>0.900200</td>\n",
       "      <td>0.065672</td>\n",
       "    </tr>\n",
       "    <tr>\n",
       "      <th>1</th>\n",
       "      <td>0.552894</td>\n",
       "      <td>0.113433</td>\n",
       "    </tr>\n",
       "    <tr>\n",
       "      <th>2</th>\n",
       "      <td>0.942116</td>\n",
       "      <td>0.779104</td>\n",
       "    </tr>\n",
       "    <tr>\n",
       "      <th>3</th>\n",
       "      <td>0.894212</td>\n",
       "      <td>0.229851</td>\n",
       "    </tr>\n",
       "    <tr>\n",
       "      <th>4</th>\n",
       "      <td>0.481038</td>\n",
       "      <td>0.370149</td>\n",
       "    </tr>\n",
       "    <tr>\n",
       "      <th>...</th>\n",
       "      <td>...</td>\n",
       "      <td>...</td>\n",
       "    </tr>\n",
       "    <tr>\n",
       "      <th>6701</th>\n",
       "      <td>0.942116</td>\n",
       "      <td>0.020896</td>\n",
       "    </tr>\n",
       "    <tr>\n",
       "      <th>6702</th>\n",
       "      <td>0.870259</td>\n",
       "      <td>0.020896</td>\n",
       "    </tr>\n",
       "    <tr>\n",
       "      <th>6703</th>\n",
       "      <td>0.774451</td>\n",
       "      <td>0.056716</td>\n",
       "    </tr>\n",
       "    <tr>\n",
       "      <th>6704</th>\n",
       "      <td>0.896208</td>\n",
       "      <td>0.253731</td>\n",
       "    </tr>\n",
       "    <tr>\n",
       "      <th>6705</th>\n",
       "      <td>0.351297</td>\n",
       "      <td>0.316418</td>\n",
       "    </tr>\n",
       "  </tbody>\n",
       "</table>\n",
       "<p>6706 rows × 2 columns</p>\n",
       "</div>"
      ],
      "text/plain": [
       "      city_development_index  training_hours\n",
       "0                   0.900200        0.065672\n",
       "1                   0.552894        0.113433\n",
       "2                   0.942116        0.779104\n",
       "3                   0.894212        0.229851\n",
       "4                   0.481038        0.370149\n",
       "...                      ...             ...\n",
       "6701                0.942116        0.020896\n",
       "6702                0.870259        0.020896\n",
       "6703                0.774451        0.056716\n",
       "6704                0.896208        0.253731\n",
       "6705                0.351297        0.316418\n",
       "\n",
       "[6706 rows x 2 columns]"
      ]
     },
     "metadata": {},
     "output_type": "display_data"
    }
   ],
   "source": [
    "from sklearn.preprocessing import MinMaxScaler\n",
    "\n",
    "scaler = MinMaxScaler()\n",
    "\n",
    "X_train[int_col] = scaler.fit_transform(X_train[int_col])\n",
    "X_test[int_col] = scaler.transform(X_test[int_col])\n",
    "\n",
    "display(X_train[int_col], X_test[int_col])"
   ]
  },
  {
   "cell_type": "markdown",
   "metadata": {},
   "source": [
    "> gender\n",
    "- 결측치 : 최빈값 대체\n",
    "- 인코딩 : LabelEncoder"
   ]
  },
  {
   "cell_type": "code",
   "execution_count": 9,
   "metadata": {},
   "outputs": [
    {
     "name": "stdout",
     "output_type": "stream",
     "text": [
      "[1 0 2] [1 0 2]\n"
     ]
    }
   ],
   "source": [
    "X_train['gender'] = X_train['gender'].fillna(X_train['gender'].mode()[0])\n",
    "X_test['gender'] = X_test['gender'].fillna(X_test['gender'].mode()[0])\n",
    "\n",
    "from sklearn.preprocessing import LabelEncoder\n",
    "\n",
    "le = LabelEncoder()\n",
    "\n",
    "X_train['gender'] = le.fit_transform(X_train['gender'])\n",
    "X_test['gender'] = le.fit_transform(X_test['gender'])\n",
    "\n",
    "print(X_train['gender'].unique(), X_test['gender'].unique())"
   ]
  },
  {
   "cell_type": "markdown",
   "metadata": {},
   "source": [
    "> city\n",
    "- 'city_' 제거\n",
    "- 컬럼 타입 : int 타입으로 변경"
   ]
  },
  {
   "cell_type": "code",
   "execution_count": 10,
   "metadata": {},
   "outputs": [
    {
     "name": "stdout",
     "output_type": "stream",
     "text": [
      "[  1   2   7   8   9  10  11  12  13  14  16  18  19  20  21  23  24  25\n",
      "  26  27  28  30  31  33  36  37  39  40  41  42  43  44  45  46  48  50\n",
      "  53  54  55  57  59  61  62  64  65  67  69  70  71  72  73  74  75  76\n",
      "  77  78  79  80  81  82  83  84  89  90  91  93  94  97  98  99 100 101\n",
      " 102 103 104 105 106 107 109 111 114 115 116 117 118 120 121 123 126 127\n",
      " 128 129 131 133 134 136 138 139 140 141 142 143 144 145 146 149 150 152\n",
      " 155 157 158 159 160 162 165 166 167 173 175 176 179 180]\n"
     ]
    }
   ],
   "source": [
    "X_train['city'] = X_train['city'].apply(lambda x: int(str(x).split('_')[1]))\n",
    "X_test['city'] = X_test['city'].apply(lambda x: int(str(x).split('_')[1]))\n",
    "\n",
    "print(np.sort(X_train['city'].unique()))"
   ]
  },
  {
   "cell_type": "markdown",
   "metadata": {},
   "source": [
    "> relevent_experience\n",
    "- 인코딩 : LabelEncoder"
   ]
  },
  {
   "cell_type": "code",
   "execution_count": 11,
   "metadata": {},
   "outputs": [
    {
     "name": "stdout",
     "output_type": "stream",
     "text": [
      "[1 0] [1 0]\n"
     ]
    }
   ],
   "source": [
    "X_train['relevent_experience'] = le.fit_transform(X_train['relevent_experience'])\n",
    "X_test['relevent_experience'] = le.fit_transform(X_test['relevent_experience'])\n",
    "\n",
    "print(X_train['relevent_experience'].unique(), X_test['relevent_experience'].unique())"
   ]
  },
  {
   "cell_type": "markdown",
   "metadata": {},
   "source": [
    "> 3개 컬럼(enrolled_university, education_level, major_discipline)\n",
    "- 결측치 : 최빈값 대체\n",
    "- 인코딩 : LabelEncoder"
   ]
  },
  {
   "cell_type": "code",
   "execution_count": 12,
   "metadata": {},
   "outputs": [
    {
     "name": "stdout",
     "output_type": "stream",
     "text": [
      "enrolled_university    0\n",
      "education_level        0\n",
      "major_discipline       0\n",
      "dtype: int64\n",
      "enrolled_university    0\n",
      "education_level        0\n",
      "major_discipline       0\n",
      "dtype: int64\n"
     ]
    },
    {
     "data": {
      "text/html": [
       "<div>\n",
       "<style scoped>\n",
       "    .dataframe tbody tr th:only-of-type {\n",
       "        vertical-align: middle;\n",
       "    }\n",
       "\n",
       "    .dataframe tbody tr th {\n",
       "        vertical-align: top;\n",
       "    }\n",
       "\n",
       "    .dataframe thead th {\n",
       "        text-align: right;\n",
       "    }\n",
       "</style>\n",
       "<table border=\"1\" class=\"dataframe\">\n",
       "  <thead>\n",
       "    <tr style=\"text-align: right;\">\n",
       "      <th></th>\n",
       "      <th>enrolled_university</th>\n",
       "      <th>education_level</th>\n",
       "      <th>major_discipline</th>\n",
       "    </tr>\n",
       "  </thead>\n",
       "  <tbody>\n",
       "    <tr>\n",
       "      <th>0</th>\n",
       "      <td>0</td>\n",
       "      <td>1</td>\n",
       "      <td>5</td>\n",
       "    </tr>\n",
       "    <tr>\n",
       "      <th>1</th>\n",
       "      <td>0</td>\n",
       "      <td>1</td>\n",
       "      <td>5</td>\n",
       "    </tr>\n",
       "    <tr>\n",
       "      <th>2</th>\n",
       "      <td>2</td>\n",
       "      <td>0</td>\n",
       "      <td>5</td>\n",
       "    </tr>\n",
       "    <tr>\n",
       "      <th>3</th>\n",
       "      <td>2</td>\n",
       "      <td>0</td>\n",
       "      <td>5</td>\n",
       "    </tr>\n",
       "    <tr>\n",
       "      <th>4</th>\n",
       "      <td>0</td>\n",
       "      <td>0</td>\n",
       "      <td>5</td>\n",
       "    </tr>\n",
       "    <tr>\n",
       "      <th>...</th>\n",
       "      <td>...</td>\n",
       "      <td>...</td>\n",
       "      <td>...</td>\n",
       "    </tr>\n",
       "    <tr>\n",
       "      <th>12447</th>\n",
       "      <td>2</td>\n",
       "      <td>0</td>\n",
       "      <td>5</td>\n",
       "    </tr>\n",
       "    <tr>\n",
       "      <th>12448</th>\n",
       "      <td>2</td>\n",
       "      <td>0</td>\n",
       "      <td>5</td>\n",
       "    </tr>\n",
       "    <tr>\n",
       "      <th>12449</th>\n",
       "      <td>2</td>\n",
       "      <td>0</td>\n",
       "      <td>5</td>\n",
       "    </tr>\n",
       "    <tr>\n",
       "      <th>12450</th>\n",
       "      <td>0</td>\n",
       "      <td>0</td>\n",
       "      <td>5</td>\n",
       "    </tr>\n",
       "    <tr>\n",
       "      <th>12451</th>\n",
       "      <td>0</td>\n",
       "      <td>0</td>\n",
       "      <td>5</td>\n",
       "    </tr>\n",
       "  </tbody>\n",
       "</table>\n",
       "<p>12452 rows × 3 columns</p>\n",
       "</div>"
      ],
      "text/plain": [
       "       enrolled_university  education_level  major_discipline\n",
       "0                        0                1                 5\n",
       "1                        0                1                 5\n",
       "2                        2                0                 5\n",
       "3                        2                0                 5\n",
       "4                        0                0                 5\n",
       "...                    ...              ...               ...\n",
       "12447                    2                0                 5\n",
       "12448                    2                0                 5\n",
       "12449                    2                0                 5\n",
       "12450                    0                0                 5\n",
       "12451                    0                0                 5\n",
       "\n",
       "[12452 rows x 3 columns]"
      ]
     },
     "metadata": {},
     "output_type": "display_data"
    },
    {
     "data": {
      "text/html": [
       "<div>\n",
       "<style scoped>\n",
       "    .dataframe tbody tr th:only-of-type {\n",
       "        vertical-align: middle;\n",
       "    }\n",
       "\n",
       "    .dataframe tbody tr th {\n",
       "        vertical-align: top;\n",
       "    }\n",
       "\n",
       "    .dataframe thead th {\n",
       "        text-align: right;\n",
       "    }\n",
       "</style>\n",
       "<table border=\"1\" class=\"dataframe\">\n",
       "  <thead>\n",
       "    <tr style=\"text-align: right;\">\n",
       "      <th></th>\n",
       "      <th>enrolled_university</th>\n",
       "      <th>education_level</th>\n",
       "      <th>major_discipline</th>\n",
       "    </tr>\n",
       "  </thead>\n",
       "  <tbody>\n",
       "    <tr>\n",
       "      <th>0</th>\n",
       "      <td>2</td>\n",
       "      <td>0</td>\n",
       "      <td>5</td>\n",
       "    </tr>\n",
       "    <tr>\n",
       "      <th>1</th>\n",
       "      <td>1</td>\n",
       "      <td>2</td>\n",
       "      <td>5</td>\n",
       "    </tr>\n",
       "    <tr>\n",
       "      <th>2</th>\n",
       "      <td>0</td>\n",
       "      <td>0</td>\n",
       "      <td>5</td>\n",
       "    </tr>\n",
       "    <tr>\n",
       "      <th>3</th>\n",
       "      <td>0</td>\n",
       "      <td>0</td>\n",
       "      <td>5</td>\n",
       "    </tr>\n",
       "    <tr>\n",
       "      <th>4</th>\n",
       "      <td>0</td>\n",
       "      <td>2</td>\n",
       "      <td>5</td>\n",
       "    </tr>\n",
       "    <tr>\n",
       "      <th>...</th>\n",
       "      <td>...</td>\n",
       "      <td>...</td>\n",
       "      <td>...</td>\n",
       "    </tr>\n",
       "    <tr>\n",
       "      <th>6701</th>\n",
       "      <td>1</td>\n",
       "      <td>0</td>\n",
       "      <td>5</td>\n",
       "    </tr>\n",
       "    <tr>\n",
       "      <th>6702</th>\n",
       "      <td>0</td>\n",
       "      <td>0</td>\n",
       "      <td>5</td>\n",
       "    </tr>\n",
       "    <tr>\n",
       "      <th>6703</th>\n",
       "      <td>1</td>\n",
       "      <td>2</td>\n",
       "      <td>2</td>\n",
       "    </tr>\n",
       "    <tr>\n",
       "      <th>6704</th>\n",
       "      <td>0</td>\n",
       "      <td>2</td>\n",
       "      <td>5</td>\n",
       "    </tr>\n",
       "    <tr>\n",
       "      <th>6705</th>\n",
       "      <td>2</td>\n",
       "      <td>2</td>\n",
       "      <td>5</td>\n",
       "    </tr>\n",
       "  </tbody>\n",
       "</table>\n",
       "<p>6706 rows × 3 columns</p>\n",
       "</div>"
      ],
      "text/plain": [
       "      enrolled_university  education_level  major_discipline\n",
       "0                       2                0                 5\n",
       "1                       1                2                 5\n",
       "2                       0                0                 5\n",
       "3                       0                0                 5\n",
       "4                       0                2                 5\n",
       "...                   ...              ...               ...\n",
       "6701                    1                0                 5\n",
       "6702                    0                0                 5\n",
       "6703                    1                2                 2\n",
       "6704                    0                2                 5\n",
       "6705                    2                2                 5\n",
       "\n",
       "[6706 rows x 3 columns]"
      ]
     },
     "metadata": {},
     "output_type": "display_data"
    }
   ],
   "source": [
    "isnull_mode_list = ['enrolled_university', 'education_level', 'major_discipline']\n",
    "for c in isnull_mode_list:\n",
    "    X_train[c] = X_train[c].fillna(X_train[c].mode()[0])\n",
    "    X_test[c] = X_test[c].fillna(X_test[c].mode()[0])\n",
    "    \n",
    "print(X_train[isnull_mode_list].isnull().sum())\n",
    "print(X_test[isnull_mode_list].isnull().sum())\n",
    "\n",
    "X_train[isnull_mode_list] = X_train[isnull_mode_list].apply(le.fit_transform)\n",
    "X_test[isnull_mode_list] = X_test[isnull_mode_list].apply(le.fit_transform)\n",
    "\n",
    "display(X_train[isnull_mode_list], X_test[isnull_mode_list])"
   ]
  },
  {
   "cell_type": "markdown",
   "metadata": {},
   "source": [
    "> experience\n",
    "- <1 -> 0 || >20 -> 21로 변경\n",
    "- 결측치 : 최빈값 대체\n",
    "- 컬럼 타입 : float 타입으로 변경"
   ]
  },
  {
   "cell_type": "code",
   "execution_count": 13,
   "metadata": {
    "scrolled": true
   },
   "outputs": [
    {
     "name": "stdout",
     "output_type": "stream",
     "text": [
      "[ 0.  1.  2.  3.  4.  5.  6.  7.  8.  9. 10. 11. 12. 13. 14. 15. 16. 17.\n",
      " 18. 19. 20. 21.]\n",
      "[ 0.  1.  2.  3.  4.  5.  6.  7.  8.  9. 10. 11. 12. 13. 14. 15. 16. 17.\n",
      " 18. 19. 20. 21.]\n"
     ]
    }
   ],
   "source": [
    "X_train['experience'] = X_train['experience'].str.replace('<1', '0')\n",
    "X_train['experience'] = X_train['experience'].str.replace('>20', '21')\n",
    "\n",
    "X_test['experience'] = X_test['experience'].str.replace('<1', '0')\n",
    "X_test['experience'] = X_test['experience'].str.replace('>20', '21')\n",
    "\n",
    "X_train['experience'] = X_train['experience'].fillna(X_train['experience'].mode()[0])\n",
    "X_test['experience'] = X_test['experience'].fillna(X_test['experience'].mode()[0])\n",
    "\n",
    "X_train['experience'] = X_train['experience'].astype(float)\n",
    "X_test['experience'] = X_test['experience'].astype(float)\n",
    "\n",
    "print(np.sort(X_train['experience'].unique()))\n",
    "print(np.sort(X_test['experience'].unique()))"
   ]
  },
  {
   "cell_type": "markdown",
   "metadata": {},
   "source": [
    "> 2개 컬럼(company_size, company_type)\n",
    "- 인코딩 : get_dummies\n",
    "- 컬럼명 변경 이유 : xgboost 계열은 피처 이름에 <를 포함할경우 진행 불가능하므로 임의로 변경"
   ]
  },
  {
   "cell_type": "code",
   "execution_count": 14,
   "metadata": {},
   "outputs": [
    {
     "data": {
      "text/plain": [
       "((12452, 24), (6706, 24))"
      ]
     },
     "execution_count": 14,
     "metadata": {},
     "output_type": "execute_result"
    }
   ],
   "source": [
    "dum_list = ['company_size', 'company_type']\n",
    "\n",
    "X_train_dum = pd.get_dummies(X_train[dum_list])\n",
    "X_test_dum = pd.get_dummies(X_test[dum_list])\n",
    "\n",
    "X_train_dum.columns = X_train_dum.columns.str.replace('<', '')\n",
    "X_test_dum.columns = X_test_dum.columns.str.replace('<', '')\n",
    "\n",
    "'''\n",
    "name = 'company_'\n",
    "num = 0\n",
    "\n",
    "for c in X_train_dum.columns:\n",
    "    num = num+1\n",
    "    X_train_dum.rename(columns = {c : name + str(num)}, inplace=True)\n",
    "    X_test_dum.rename(columns = {c : name + str(num)}, inplace=True)\n",
    "'''\n",
    "\n",
    "X_train.drop(dum_list, axis=1, inplace=True)\n",
    "X_test.drop(dum_list, axis=1, inplace=True)\n",
    "\n",
    "X_train = pd.concat([X_train, X_train_dum], axis=1)\n",
    "X_test = pd.concat([X_test, X_test_dum], axis=1)\n",
    "\n",
    "X_train.shape, X_test.shape"
   ]
  },
  {
   "cell_type": "markdown",
   "metadata": {},
   "source": [
    "> last_new_job\n",
    "- never -> 0, || >4 -> 5로 변경\n",
    "- 결측치 : 최빈값 대체\n",
    "- 컬럼 타입 : int 타입으로 변경"
   ]
  },
  {
   "cell_type": "code",
   "execution_count": 15,
   "metadata": {},
   "outputs": [
    {
     "name": "stdout",
     "output_type": "stream",
     "text": [
      "[0 1 2 3 4 5]\n",
      "[0 1 2 3 4 5]\n"
     ]
    }
   ],
   "source": [
    "X_train['last_new_job'] = X_train['last_new_job'].str.replace('never', '0')\n",
    "X_train['last_new_job'] = X_train['last_new_job'].str.replace('>4', '5')\n",
    "\n",
    "X_test['last_new_job'] = X_test['last_new_job'].str.replace('never', '0')\n",
    "X_test['last_new_job'] = X_test['last_new_job'].str.replace('>4', '5')\n",
    "\n",
    "X_train['last_new_job'] = X_train['last_new_job'].fillna(X_train['last_new_job'].mode()[0])\n",
    "X_test['last_new_job'] = X_test['last_new_job'].fillna(X_test['last_new_job'].mode()[0])\n",
    "\n",
    "X_train['last_new_job'] = X_train['last_new_job'].astype(int)\n",
    "X_test['last_new_job'] = X_test['last_new_job'].astype(int)\n",
    "\n",
    "print(np.sort(X_train['last_new_job'].unique()))\n",
    "print(np.sort(X_test['last_new_job'].unique()))"
   ]
  },
  {
   "cell_type": "markdown",
   "metadata": {},
   "source": [
    "#### 4. Modeling"
   ]
  },
  {
   "cell_type": "code",
   "execution_count": 16,
   "metadata": {},
   "outputs": [],
   "source": [
    "from sklearn.model_selection import train_test_split, GridSearchCV\n",
    "from sklearn.ensemble import RandomForestClassifier, GradientBoostingClassifier\n",
    "from xgboost import XGBClassifier, XGBRFClassifier\n",
    "from sklearn.metrics import accuracy_score, roc_auc_score"
   ]
  },
  {
   "cell_type": "code",
   "execution_count": 17,
   "metadata": {},
   "outputs": [],
   "source": [
    "X_tr, X_val, y_tr, y_val = train_test_split(X_train, y, test_size=0.2, shuffle=True, stratify=y, random_state=156)"
   ]
  },
  {
   "cell_type": "code",
   "execution_count": 18,
   "metadata": {},
   "outputs": [],
   "source": [
    "rf = RandomForestClassifier(random_state=156)\n",
    "gb = GradientBoostingClassifier(random_state=156)\n",
    "xgb = XGBClassifier(random_state=156) \n",
    "xgbrf = XGBRFClassifier(random_state=156)\n",
    "\n",
    "models = [rf, gb, xgb, xgbrf]"
   ]
  },
  {
   "cell_type": "code",
   "execution_count": 19,
   "metadata": {
    "scrolled": true
   },
   "outputs": [
    {
     "name": "stdout",
     "output_type": "stream",
     "text": [
      "RandomForestClassifier\n",
      "accuracy : 0.79084704937776\n",
      "auc : 0.7923161710885496\n",
      "====================================================================================================\n",
      "GradientBoostingClassifier\n",
      "accuracy : 0.7892412685668406\n",
      "auc : 0.801158214713202\n",
      "====================================================================================================\n",
      "XGBClassifier\n",
      "accuracy : 0.7804094741067844\n",
      "auc : 0.7910429960302083\n",
      "====================================================================================================\n",
      "XGBRFClassifier\n",
      "accuracy : 0.7852268165395424\n",
      "auc : 0.7912001515582078\n",
      "====================================================================================================\n"
     ]
    }
   ],
   "source": [
    "for model in models:\n",
    "    model.fit(X_tr, y_tr)\n",
    "    pred = model.predict(X_val)\n",
    "    pred_proba = model.predict_proba(X_val)[:, 1]\n",
    "    \n",
    "    name = str(model).split('(')[0]\n",
    "    print(name)\n",
    "    print('accuracy :', accuracy_score(y_val, pred))\n",
    "    print('auc :', roc_auc_score(y_val, pred_proba))\n",
    "    print('='*100)"
   ]
  },
  {
   "cell_type": "markdown",
   "metadata": {},
   "source": [
    "> GridSearchCV"
   ]
  },
  {
   "cell_type": "code",
   "execution_count": 20,
   "metadata": {},
   "outputs": [],
   "source": [
    "params = {'n_estimators':[100, 500], 'max_depth':[1,2,3,4,5]}"
   ]
  },
  {
   "cell_type": "code",
   "execution_count": 21,
   "metadata": {},
   "outputs": [
    {
     "name": "stdout",
     "output_type": "stream",
     "text": [
      "RandomForestClassifier\n",
      "params : {'max_depth': 5, 'n_estimators': 500}\n",
      "score : 0.7821163689372703\n",
      "==========\n",
      "GradientBoostingClassifier\n",
      "params : {'max_depth': 1, 'n_estimators': 500}\n",
      "score : 0.7952752764916675\n",
      "==========\n",
      "XGBClassifier\n",
      "params : {'max_depth': 1, 'n_estimators': 500}\n",
      "score : 0.7957814243995852\n",
      "==========\n",
      "XGBRFClassifier\n",
      "params : {'max_depth': 5, 'n_estimators': 500}\n",
      "score : 0.7854271787852865\n",
      "==========\n"
     ]
    }
   ],
   "source": [
    "for model in models:\n",
    "    gscv = GridSearchCV(model, params, cv=3, scoring='roc_auc')\n",
    "    gscv.fit(X_tr, y_tr)\n",
    "    \n",
    "    print(str(model).split('(')[0])\n",
    "    print('params :', gscv.best_params_)\n",
    "    print('score :', gscv.best_score_)\n",
    "    print('='*10)"
   ]
  },
  {
   "cell_type": "code",
   "execution_count": 22,
   "metadata": {},
   "outputs": [],
   "source": [
    "xgb = XGBClassifier(random_state=156, max_depth=2, n_estimators=100)\n",
    "\n",
    "xgb.fit(X_train, y)\n",
    "pred = xgb.predict(X_test)\n",
    "pred_proba = xgb.predict_proba(X_test)[:,1]"
   ]
  },
  {
   "cell_type": "code",
   "execution_count": 23,
   "metadata": {},
   "outputs": [
    {
     "data": {
      "text/html": [
       "<div>\n",
       "<style scoped>\n",
       "    .dataframe tbody tr th:only-of-type {\n",
       "        vertical-align: middle;\n",
       "    }\n",
       "\n",
       "    .dataframe tbody tr th {\n",
       "        vertical-align: top;\n",
       "    }\n",
       "\n",
       "    .dataframe thead th {\n",
       "        text-align: right;\n",
       "    }\n",
       "</style>\n",
       "<table border=\"1\" class=\"dataframe\">\n",
       "  <thead>\n",
       "    <tr style=\"text-align: right;\">\n",
       "      <th></th>\n",
       "      <th>enrollee_id</th>\n",
       "      <th>target</th>\n",
       "    </tr>\n",
       "  </thead>\n",
       "  <tbody>\n",
       "    <tr>\n",
       "      <th>0</th>\n",
       "      <td>7129</td>\n",
       "      <td>0</td>\n",
       "    </tr>\n",
       "    <tr>\n",
       "      <th>1</th>\n",
       "      <td>31037</td>\n",
       "      <td>0</td>\n",
       "    </tr>\n",
       "    <tr>\n",
       "      <th>2</th>\n",
       "      <td>22179</td>\n",
       "      <td>1</td>\n",
       "    </tr>\n",
       "    <tr>\n",
       "      <th>3</th>\n",
       "      <td>29724</td>\n",
       "      <td>0</td>\n",
       "    </tr>\n",
       "    <tr>\n",
       "      <th>4</th>\n",
       "      <td>17977</td>\n",
       "      <td>0</td>\n",
       "    </tr>\n",
       "    <tr>\n",
       "      <th>...</th>\n",
       "      <td>...</td>\n",
       "      <td>...</td>\n",
       "    </tr>\n",
       "    <tr>\n",
       "      <th>6701</th>\n",
       "      <td>3601</td>\n",
       "      <td>0</td>\n",
       "    </tr>\n",
       "    <tr>\n",
       "      <th>6702</th>\n",
       "      <td>2745</td>\n",
       "      <td>0</td>\n",
       "    </tr>\n",
       "    <tr>\n",
       "      <th>6703</th>\n",
       "      <td>18520</td>\n",
       "      <td>0</td>\n",
       "    </tr>\n",
       "    <tr>\n",
       "      <th>6704</th>\n",
       "      <td>10067</td>\n",
       "      <td>0</td>\n",
       "    </tr>\n",
       "    <tr>\n",
       "      <th>6705</th>\n",
       "      <td>8203</td>\n",
       "      <td>0</td>\n",
       "    </tr>\n",
       "  </tbody>\n",
       "</table>\n",
       "<p>6706 rows × 2 columns</p>\n",
       "</div>"
      ],
      "text/plain": [
       "      enrollee_id  target\n",
       "0            7129       0\n",
       "1           31037       0\n",
       "2           22179       1\n",
       "3           29724       0\n",
       "4           17977       0\n",
       "...           ...     ...\n",
       "6701         3601       0\n",
       "6702         2745       0\n",
       "6703        18520       0\n",
       "6704        10067       0\n",
       "6705         8203       0\n",
       "\n",
       "[6706 rows x 2 columns]"
      ]
     },
     "execution_count": 23,
     "metadata": {},
     "output_type": "execute_result"
    }
   ],
   "source": [
    "out_data = pd.DataFrame({'enrollee_id' : enrollee_id, 'target' : pred})\n",
    "out_data"
   ]
  },
  {
   "cell_type": "code",
   "execution_count": 24,
   "metadata": {},
   "outputs": [],
   "source": [
    "# out_data.to_csv('123456.csv', index_False)"
   ]
  },
  {
   "cell_type": "code",
   "execution_count": 25,
   "metadata": {},
   "outputs": [
    {
     "name": "stdout",
     "output_type": "stream",
     "text": [
      "accuracy : 0.7819862809424396\n",
      "auc : 0.7933456205933622\n"
     ]
    }
   ],
   "source": [
    "# 가채점\n",
    "print('accuracy :', accuracy_score(y_test['target'], pred))\n",
    "print('auc :', roc_auc_score(y_test['target'], pred_proba))"
   ]
  },
  {
   "cell_type": "markdown",
   "metadata": {},
   "source": [
    "#### 5. 다른 모델 평가"
   ]
  },
  {
   "cell_type": "markdown",
   "metadata": {},
   "source": [
    "> GridSearchCV 전"
   ]
  },
  {
   "cell_type": "code",
   "execution_count": 26,
   "metadata": {},
   "outputs": [],
   "source": [
    "rf = RandomForestClassifier(random_state=156)\n",
    "gb = GradientBoostingClassifier(random_state=156)\n",
    "xgb = XGBClassifier(random_state=156)\n",
    "xgbrf = XGBRFClassifier(random_state=156)\n",
    "\n",
    "models = [rf, gb, xgb, xgbrf]"
   ]
  },
  {
   "cell_type": "code",
   "execution_count": 27,
   "metadata": {},
   "outputs": [
    {
     "name": "stdout",
     "output_type": "stream",
     "text": [
      "RandomForestClassifier\n",
      "accuracy : 0.778705636743215\n",
      "auc : 0.7794468903323429\n",
      "====================================================================================================\n",
      "GradientBoostingClassifier\n",
      "accuracy : 0.7824336415150611\n",
      "auc : 0.7910064432671232\n",
      "====================================================================================================\n",
      "XGBClassifier\n",
      "accuracy : 0.7763197136892335\n",
      "auc : 0.7844605248900776\n",
      "====================================================================================================\n",
      "XGBRFClassifier\n",
      "accuracy : 0.775872353116612\n",
      "auc : 0.7777249868359272\n",
      "====================================================================================================\n"
     ]
    }
   ],
   "source": [
    "for model in models:\n",
    "    model.fit(X_train, y)\n",
    "    pred = model.predict(X_test)\n",
    "    pred_proba = model.predict_proba(X_test)[:, 1]\n",
    "    \n",
    "    name = str(model).split('(')[0]\n",
    "    print(name)\n",
    "    print('accuracy :', accuracy_score(y_test['target'], pred))\n",
    "    print('auc :', roc_auc_score(y_test['target'], pred_proba))\n",
    "    print('='*100)"
   ]
  },
  {
   "cell_type": "markdown",
   "metadata": {},
   "source": [
    "> GridSearchCV 후"
   ]
  },
  {
   "cell_type": "code",
   "execution_count": 28,
   "metadata": {},
   "outputs": [],
   "source": [
    "rf = RandomForestClassifier(random_state=156, max_depth=5, n_estimators=500)\n",
    "gb = GradientBoostingClassifier(random_state=156, max_depth=1, n_estimators=500)\n",
    "xgb = XGBClassifier(random_state=156, max_depth=2, n_estimators=100)\n",
    "xgbrf = XGBRFClassifier(random_state=156, max_depth=5, n_estimators=100)\n",
    "\n",
    "models = [rf, gb, xgb, xgbrf]"
   ]
  },
  {
   "cell_type": "code",
   "execution_count": 29,
   "metadata": {},
   "outputs": [
    {
     "name": "stdout",
     "output_type": "stream",
     "text": [
      "RandomForestClassifier\n",
      "accuracy : 0.7703549060542797\n",
      "auc : 0.7755468555449736\n",
      "====================================================================================================\n",
      "GradientBoostingClassifier\n",
      "accuracy : 0.7746793915896212\n",
      "auc : 0.7882763832731683\n",
      "====================================================================================================\n",
      "XGBClassifier\n",
      "accuracy : 0.7819862809424396\n",
      "auc : 0.7933456205933622\n",
      "====================================================================================================\n",
      "XGBRFClassifier\n",
      "accuracy : 0.775872353116612\n",
      "auc : 0.774981798411947\n",
      "====================================================================================================\n"
     ]
    }
   ],
   "source": [
    "for model in models:\n",
    "    model.fit(X_train, y)\n",
    "    pred = model.predict(X_test)\n",
    "    pred_proba = model.predict_proba(X_test)[:, 1]\n",
    "    \n",
    "    name = str(model).split('(')[0]\n",
    "    print(name)\n",
    "    print('accuracy :', accuracy_score(y_test['target'], pred))\n",
    "    print('auc :', roc_auc_score(y_test['target'], pred_proba))\n",
    "    print('='*100)"
   ]
  },
  {
   "cell_type": "code",
   "execution_count": null,
   "metadata": {},
   "outputs": [],
   "source": []
  }
 ],
 "metadata": {
  "kernelspec": {
   "display_name": "ml",
   "language": "python",
   "name": "ml"
  },
  "language_info": {
   "codemirror_mode": {
    "name": "ipython",
    "version": 3
   },
   "file_extension": ".py",
   "mimetype": "text/x-python",
   "name": "python",
   "nbconvert_exporter": "python",
   "pygments_lexer": "ipython3",
   "version": "3.7.0"
  }
 },
 "nbformat": 4,
 "nbformat_minor": 2
}
