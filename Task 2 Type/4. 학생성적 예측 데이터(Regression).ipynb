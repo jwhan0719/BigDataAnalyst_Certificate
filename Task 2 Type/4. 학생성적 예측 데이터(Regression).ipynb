{
 "cells": [
  {
   "cell_type": "markdown",
   "metadata": {},
   "source": [
    "# 작업 2유형\n",
    "- https://www.datamanim.com/dataset/03_dataq/typetwo.html#id15"
   ]
  },
  {
   "cell_type": "markdown",
   "metadata": {},
   "source": [
    "# 4. 학생성적 예측 데이터(Regression)\n",
    "\n",
    "> Attention\n",
    "- 데이터 설명 : 학생성적 예측 (종속변수 :G3)\n",
    "- 데이터 출처 : https://www.kaggle.com/datasets/ishandutta/student-performance-data-set (참고, 데이터 수정)\n",
    "- X_train : https://raw.githubusercontent.com/Datamanim/datarepo/main/studentscore/X_train.csv\n",
    "- y_train : https://raw.githubusercontent.com/Datamanim/datarepo/main/studentscore/y_train.csv\n",
    "- X_test : https://raw.githubusercontent.com/Datamanim/datarepo/main/studentscore/X_test.csv\n",
    "- y_test(평가용) : https://raw.githubusercontent.com/Datamanim/datarepo/main/studentscore/y_test.csv"
   ]
  },
  {
   "cell_type": "markdown",
   "metadata": {},
   "source": [
    "#### 0. 시험 환경 세팅"
   ]
  },
  {
   "cell_type": "code",
   "execution_count": 1,
   "metadata": {},
   "outputs": [
    {
     "data": {
      "text/plain": [
       "((678, 33), (678, 2), (366, 33), (366, 2))"
      ]
     },
     "execution_count": 1,
     "metadata": {},
     "output_type": "execute_result"
    }
   ],
   "source": [
    "import pandas as pd\n",
    "\n",
    "X_train = pd.read_csv(\"https://raw.githubusercontent.com/Datamanim/datarepo/main/studentscore/X_train.csv\")\n",
    "y_train = pd.read_csv(\"https://raw.githubusercontent.com/Datamanim/datarepo/main/studentscore/y_train.csv\")\n",
    "X_test = pd.read_csv(\"https://raw.githubusercontent.com/Datamanim/datarepo/main/studentscore/X_test.csv\")\n",
    "y_test = pd.read_csv(\"https://raw.githubusercontent.com/Datamanim/datarepo/main/studentscore/y_test.csv\")\n",
    "\n",
    "X_train.shape, y_train.shape, X_test.shape, y_test.shape"
   ]
  },
  {
   "cell_type": "markdown",
   "metadata": {},
   "source": [
    "#### 1. 라이브러리 및 데이터 호출"
   ]
  },
  {
   "cell_type": "code",
   "execution_count": 2,
   "metadata": {},
   "outputs": [],
   "source": [
    "import numpy as np\n",
    "import pandas as pd"
   ]
  },
  {
   "cell_type": "code",
   "execution_count": 3,
   "metadata": {},
   "outputs": [
    {
     "data": {
      "text/plain": [
       "((678, 32), (366, 32), (678,))"
      ]
     },
     "execution_count": 3,
     "metadata": {},
     "output_type": "execute_result"
    }
   ],
   "source": [
    "X_train.drop('StudentID', axis=1, inplace=True)\n",
    "StudentID = X_test.pop('StudentID')\n",
    "\n",
    "y = y_train['G3']\n",
    "\n",
    "X_train.shape, X_test.shape, y.shape"
   ]
  },
  {
   "cell_type": "markdown",
   "metadata": {},
   "source": [
    "#### 2. EDA"
   ]
  },
  {
   "cell_type": "code",
   "execution_count": 4,
   "metadata": {},
   "outputs": [
    {
     "name": "stdout",
     "output_type": "stream",
     "text": [
      "<class 'pandas.core.frame.DataFrame'>\n",
      "RangeIndex: 678 entries, 0 to 677\n",
      "Data columns (total 32 columns):\n",
      " #   Column      Non-Null Count  Dtype \n",
      "---  ------      --------------  ----- \n",
      " 0   school      678 non-null    object\n",
      " 1   sex         678 non-null    object\n",
      " 2   age         678 non-null    int64 \n",
      " 3   address     678 non-null    object\n",
      " 4   famsize     678 non-null    object\n",
      " 5   Pstatus     678 non-null    object\n",
      " 6   Medu        678 non-null    int64 \n",
      " 7   Fedu        678 non-null    int64 \n",
      " 8   Mjob        678 non-null    object\n",
      " 9   Fjob        678 non-null    object\n",
      " 10  reason      678 non-null    object\n",
      " 11  guardian    678 non-null    object\n",
      " 12  traveltime  678 non-null    int64 \n",
      " 13  studytime   678 non-null    int64 \n",
      " 14  failures    678 non-null    int64 \n",
      " 15  schoolsup   678 non-null    object\n",
      " 16  famsup      678 non-null    object\n",
      " 17  paid        678 non-null    object\n",
      " 18  activities  678 non-null    object\n",
      " 19  nursery     678 non-null    object\n",
      " 20  higher      678 non-null    object\n",
      " 21  internet    678 non-null    object\n",
      " 22  romantic    678 non-null    object\n",
      " 23  famrel      678 non-null    int64 \n",
      " 24  freetime    678 non-null    int64 \n",
      " 25  goout       678 non-null    int64 \n",
      " 26  Dalc        678 non-null    int64 \n",
      " 27  Walc        678 non-null    int64 \n",
      " 28  health      678 non-null    int64 \n",
      " 29  absences    678 non-null    int64 \n",
      " 30  G1          678 non-null    int64 \n",
      " 31  G2          678 non-null    int64 \n",
      "dtypes: int64(15), object(17)\n",
      "memory usage: 169.6+ KB\n"
     ]
    },
    {
     "data": {
      "text/plain": [
       "(None,\n",
       " school        0\n",
       " sex           0\n",
       " age           0\n",
       " address       0\n",
       " famsize       0\n",
       " Pstatus       0\n",
       " Medu          0\n",
       " Fedu          0\n",
       " Mjob          0\n",
       " Fjob          0\n",
       " reason        0\n",
       " guardian      0\n",
       " traveltime    0\n",
       " studytime     0\n",
       " failures      0\n",
       " schoolsup     0\n",
       " famsup        0\n",
       " paid          0\n",
       " activities    0\n",
       " nursery       0\n",
       " higher        0\n",
       " internet      0\n",
       " romantic      0\n",
       " famrel        0\n",
       " freetime      0\n",
       " goout         0\n",
       " Dalc          0\n",
       " Walc          0\n",
       " health        0\n",
       " absences      0\n",
       " G1            0\n",
       " G2            0\n",
       " dtype: int64)"
      ]
     },
     "execution_count": 4,
     "metadata": {},
     "output_type": "execute_result"
    }
   ],
   "source": [
    "X_train.info(), X_train.isnull().sum()"
   ]
  },
  {
   "cell_type": "code",
   "execution_count": 5,
   "metadata": {},
   "outputs": [
    {
     "name": "stdout",
     "output_type": "stream",
     "text": [
      "<class 'pandas.core.frame.DataFrame'>\n",
      "RangeIndex: 366 entries, 0 to 365\n",
      "Data columns (total 32 columns):\n",
      " #   Column      Non-Null Count  Dtype \n",
      "---  ------      --------------  ----- \n",
      " 0   school      366 non-null    object\n",
      " 1   sex         366 non-null    object\n",
      " 2   age         366 non-null    int64 \n",
      " 3   address     366 non-null    object\n",
      " 4   famsize     366 non-null    object\n",
      " 5   Pstatus     366 non-null    object\n",
      " 6   Medu        366 non-null    int64 \n",
      " 7   Fedu        366 non-null    int64 \n",
      " 8   Mjob        366 non-null    object\n",
      " 9   Fjob        366 non-null    object\n",
      " 10  reason      366 non-null    object\n",
      " 11  guardian    366 non-null    object\n",
      " 12  traveltime  366 non-null    int64 \n",
      " 13  studytime   366 non-null    int64 \n",
      " 14  failures    366 non-null    int64 \n",
      " 15  schoolsup   366 non-null    object\n",
      " 16  famsup      366 non-null    object\n",
      " 17  paid        366 non-null    object\n",
      " 18  activities  366 non-null    object\n",
      " 19  nursery     366 non-null    object\n",
      " 20  higher      366 non-null    object\n",
      " 21  internet    366 non-null    object\n",
      " 22  romantic    366 non-null    object\n",
      " 23  famrel      366 non-null    int64 \n",
      " 24  freetime    366 non-null    int64 \n",
      " 25  goout       366 non-null    int64 \n",
      " 26  Dalc        366 non-null    int64 \n",
      " 27  Walc        366 non-null    int64 \n",
      " 28  health      366 non-null    int64 \n",
      " 29  absences    366 non-null    int64 \n",
      " 30  G1          366 non-null    int64 \n",
      " 31  G2          366 non-null    int64 \n",
      "dtypes: int64(15), object(17)\n",
      "memory usage: 91.6+ KB\n"
     ]
    },
    {
     "data": {
      "text/plain": [
       "(None,\n",
       " school        0\n",
       " sex           0\n",
       " age           0\n",
       " address       0\n",
       " famsize       0\n",
       " Pstatus       0\n",
       " Medu          0\n",
       " Fedu          0\n",
       " Mjob          0\n",
       " Fjob          0\n",
       " reason        0\n",
       " guardian      0\n",
       " traveltime    0\n",
       " studytime     0\n",
       " failures      0\n",
       " schoolsup     0\n",
       " famsup        0\n",
       " paid          0\n",
       " activities    0\n",
       " nursery       0\n",
       " higher        0\n",
       " internet      0\n",
       " romantic      0\n",
       " famrel        0\n",
       " freetime      0\n",
       " goout         0\n",
       " Dalc          0\n",
       " Walc          0\n",
       " health        0\n",
       " absences      0\n",
       " G1            0\n",
       " G2            0\n",
       " dtype: int64)"
      ]
     },
     "execution_count": 5,
     "metadata": {},
     "output_type": "execute_result"
    }
   ],
   "source": [
    "X_test.info(), X_test.isnull().sum()"
   ]
  },
  {
   "cell_type": "code",
   "execution_count": 6,
   "metadata": {},
   "outputs": [
    {
     "name": "stdout",
     "output_type": "stream",
     "text": [
      "int_col \n",
      "\n",
      "age 8\n",
      "[15 16 17 18 19 20 21 22]\n",
      "====================================================================================================\n",
      "Medu 5\n",
      "[0 1 2 3 4]\n",
      "====================================================================================================\n",
      "Fedu 5\n",
      "[0 1 2 3 4]\n",
      "====================================================================================================\n",
      "traveltime 4\n",
      "[1 2 3 4]\n",
      "====================================================================================================\n",
      "studytime 4\n",
      "[1 2 3 4]\n",
      "====================================================================================================\n",
      "failures 4\n",
      "[0 1 2 3]\n",
      "====================================================================================================\n",
      "famrel 5\n",
      "[1 2 3 4 5]\n",
      "====================================================================================================\n",
      "freetime 5\n",
      "[1 2 3 4 5]\n",
      "====================================================================================================\n",
      "goout 5\n",
      "[1 2 3 4 5]\n",
      "====================================================================================================\n",
      "Dalc 5\n",
      "[1 2 3 4 5]\n",
      "====================================================================================================\n",
      "Walc 5\n",
      "[1 2 3 4 5]\n",
      "====================================================================================================\n",
      "health 5\n",
      "[1 2 3 4 5]\n",
      "====================================================================================================\n",
      "absences 31\n",
      "[ 0  1  2  3  4  5  6  7  8  9 10 11 12 13 14 15 16 17 18 19 20 21 22 23\n",
      " 24 26 30 32 54 56 75]\n",
      "====================================================================================================\n",
      "G1 16\n",
      "[ 4  5  6  7  8  9 10 11 12 13 14 15 16 17 18 19]\n",
      "====================================================================================================\n",
      "G2 16\n",
      "[ 0  5  6  7  8  9 10 11 12 13 14 15 16 17 18 19]\n",
      "====================================================================================================\n"
     ]
    }
   ],
   "source": [
    "int_col = X_train.select_dtypes(exclude='object').columns\n",
    "\n",
    "print('int_col','\\n')\n",
    "\n",
    "for c in int_col:\n",
    "    print(c, X_train[c].nunique())\n",
    "    print(np.sort(X_train[c].unique()))\n",
    "    print('='*100)"
   ]
  },
  {
   "cell_type": "code",
   "execution_count": 7,
   "metadata": {},
   "outputs": [
    {
     "name": "stdout",
     "output_type": "stream",
     "text": [
      "obj col \n",
      "\n",
      "school 2\n",
      "['GP' 'MS']\n",
      "====================================================================================================\n",
      "sex 2\n",
      "['F' 'M']\n",
      "====================================================================================================\n",
      "address 2\n",
      "['U' 'R']\n",
      "====================================================================================================\n",
      "famsize 2\n",
      "['GT3' 'LE3']\n",
      "====================================================================================================\n",
      "Pstatus 2\n",
      "['T' 'A']\n",
      "====================================================================================================\n",
      "Mjob 5\n",
      "['other' 'health' 'services' 'at_home' 'teacher']\n",
      "====================================================================================================\n",
      "Fjob 5\n",
      "['other' 'teacher' 'services' 'at_home' 'health']\n",
      "====================================================================================================\n",
      "reason 4\n",
      "['reputation' 'other' 'course' 'home']\n",
      "====================================================================================================\n",
      "guardian 3\n",
      "['father' 'mother' 'other']\n",
      "====================================================================================================\n",
      "schoolsup 2\n",
      "['no' 'yes']\n",
      "====================================================================================================\n",
      "famsup 2\n",
      "['yes' 'no']\n",
      "====================================================================================================\n",
      "paid 2\n",
      "['yes' 'no']\n",
      "====================================================================================================\n",
      "activities 2\n",
      "['no' 'yes']\n",
      "====================================================================================================\n",
      "nursery 2\n",
      "['yes' 'no']\n",
      "====================================================================================================\n",
      "higher 2\n",
      "['yes' 'no']\n",
      "====================================================================================================\n",
      "internet 2\n",
      "['yes' 'no']\n",
      "====================================================================================================\n",
      "romantic 2\n",
      "['no' 'yes']\n",
      "====================================================================================================\n"
     ]
    }
   ],
   "source": [
    "obj_col = X_train.select_dtypes(include='object').columns\n",
    "\n",
    "print('obj col', '\\n')\n",
    "\n",
    "for c in obj_col:\n",
    "    print(c, X_train[c].nunique())\n",
    "    print(X_train[c].unique())\n",
    "    print('='*100)"
   ]
  },
  {
   "cell_type": "markdown",
   "metadata": {},
   "source": [
    "#### 3. Preprocessing"
   ]
  },
  {
   "cell_type": "code",
   "execution_count": 8,
   "metadata": {},
   "outputs": [],
   "source": [
    "from sklearn.preprocessing import StandardScaler, LabelEncoder\n",
    "\n",
    "scaler = StandardScaler()\n",
    "X_train[int_col] = scaler.fit_transform(X_train[int_col])\n",
    "X_test[int_col] = scaler.transform(X_test[int_col])\n",
    "\n",
    "le = LabelEncoder()\n",
    "X_train[obj_col] = X_train[obj_col].apply(le.fit_transform)\n",
    "X_test[obj_col] = X_test[obj_col].apply(le.fit_transform)"
   ]
  },
  {
   "cell_type": "markdown",
   "metadata": {},
   "source": [
    "#### 4. Modeling"
   ]
  },
  {
   "cell_type": "code",
   "execution_count": 9,
   "metadata": {},
   "outputs": [],
   "source": [
    "from sklearn.model_selection import train_test_split, GridSearchCV\n",
    "from sklearn.ensemble import RandomForestRegressor, GradientBoostingRegressor\n",
    "from xgboost import XGBRegressor, XGBRFRegressor\n",
    "from sklearn.metrics import mean_squared_error, r2_score"
   ]
  },
  {
   "cell_type": "code",
   "execution_count": 10,
   "metadata": {
    "scrolled": true
   },
   "outputs": [],
   "source": [
    "X_tr, X_val, y_tr, y_val = train_test_split(X_train, y, test_size=0.15, shuffle=True, random_state=156)"
   ]
  },
  {
   "cell_type": "code",
   "execution_count": 11,
   "metadata": {},
   "outputs": [],
   "source": [
    "rf = RandomForestRegressor(random_state=156)\n",
    "gb = GradientBoostingRegressor(random_state=156)\n",
    "xgb = XGBRegressor(random_state=156)\n",
    "xgbrf = XGBRFRegressor(random_state=156)\n",
    "\n",
    "models = [rf, gb, xgb, xgbrf]"
   ]
  },
  {
   "cell_type": "code",
   "execution_count": 12,
   "metadata": {},
   "outputs": [
    {
     "name": "stdout",
     "output_type": "stream",
     "text": [
      "RandomForestRegressor\n",
      "rmse : 1.3890768744676547\n",
      "r2 : 0.8316614458727802\n",
      "==========\n",
      "GradientBoostingRegressor\n",
      "rmse : 1.331794155296676\n",
      "r2 : 0.8452590568594068\n",
      "==========\n",
      "XGBRegressor\n",
      "rmse : 1.465128419342387\n",
      "r2 : 0.8127238746962026\n",
      "==========\n",
      "XGBRFRegressor\n",
      "rmse : 1.4037784793343253\n",
      "r2 : 0.8280792921426299\n",
      "==========\n"
     ]
    }
   ],
   "source": [
    "for model in models:\n",
    "    model.fit(X_tr, y_tr)\n",
    "    pred = model.predict(X_val)\n",
    "    \n",
    "    print(str(model).split('(')[0])\n",
    "    print('rmse :', np.sqrt(mean_squared_error(y_val, pred)) )\n",
    "    print('r2 :', r2_score(y_val, pred))\n",
    "    print('='*10)"
   ]
  },
  {
   "cell_type": "code",
   "execution_count": 13,
   "metadata": {},
   "outputs": [],
   "source": [
    "params = {'n_estimators':[100, 500], 'max_depth':[1,2,3,4,5]}"
   ]
  },
  {
   "cell_type": "code",
   "execution_count": 14,
   "metadata": {},
   "outputs": [
    {
     "name": "stdout",
     "output_type": "stream",
     "text": [
      "RandomForestRegressor\n",
      "params : {'max_depth': 4, 'n_estimators': 100}\n",
      "score : 0.8668716120828512\n",
      "==========\n",
      "GradientBoostingRegressor\n",
      "params : {'max_depth': 2, 'n_estimators': 100}\n",
      "score : 0.8674161685480662\n",
      "==========\n",
      "XGBRegressor\n",
      "params : {'max_depth': 3, 'n_estimators': 100}\n",
      "score : 0.8537392684812736\n",
      "==========\n",
      "XGBRFRegressor\n",
      "params : {'max_depth': 4, 'n_estimators': 100}\n",
      "score : 0.8656589219377491\n",
      "==========\n"
     ]
    }
   ],
   "source": [
    "for model in models:\n",
    "    gscv = GridSearchCV(model, params, cv=3, scoring='r2')\n",
    "    gscv.fit(X_tr, y_tr)\n",
    "    \n",
    "    print(str(model).split('(')[0])\n",
    "    print('params :', gscv.best_params_)\n",
    "    print('score :', gscv.best_score_)\n",
    "    print('='*10)"
   ]
  },
  {
   "cell_type": "code",
   "execution_count": 15,
   "metadata": {},
   "outputs": [],
   "source": [
    "gb = GradientBoostingRegressor(random_state=156, max_depth=2, n_estimators=100)\n",
    "\n",
    "gb.fit(X_train, y)\n",
    "pred = gb.predict(X_test)"
   ]
  },
  {
   "cell_type": "code",
   "execution_count": 16,
   "metadata": {},
   "outputs": [
    {
     "data": {
      "text/html": [
       "<div>\n",
       "<style scoped>\n",
       "    .dataframe tbody tr th:only-of-type {\n",
       "        vertical-align: middle;\n",
       "    }\n",
       "\n",
       "    .dataframe tbody tr th {\n",
       "        vertical-align: top;\n",
       "    }\n",
       "\n",
       "    .dataframe thead th {\n",
       "        text-align: right;\n",
       "    }\n",
       "</style>\n",
       "<table border=\"1\" class=\"dataframe\">\n",
       "  <thead>\n",
       "    <tr style=\"text-align: right;\">\n",
       "      <th></th>\n",
       "      <th>StudentID</th>\n",
       "      <th>G3</th>\n",
       "    </tr>\n",
       "  </thead>\n",
       "  <tbody>\n",
       "    <tr>\n",
       "      <th>0</th>\n",
       "      <td>1000</td>\n",
       "      <td>16.257920</td>\n",
       "    </tr>\n",
       "    <tr>\n",
       "      <th>1</th>\n",
       "      <td>1008</td>\n",
       "      <td>10.683529</td>\n",
       "    </tr>\n",
       "    <tr>\n",
       "      <th>2</th>\n",
       "      <td>1013</td>\n",
       "      <td>14.331553</td>\n",
       "    </tr>\n",
       "    <tr>\n",
       "      <th>3</th>\n",
       "      <td>1014</td>\n",
       "      <td>7.073271</td>\n",
       "    </tr>\n",
       "    <tr>\n",
       "      <th>4</th>\n",
       "      <td>1017</td>\n",
       "      <td>11.097319</td>\n",
       "    </tr>\n",
       "    <tr>\n",
       "      <th>...</th>\n",
       "      <td>...</td>\n",
       "      <td>...</td>\n",
       "    </tr>\n",
       "    <tr>\n",
       "      <th>361</th>\n",
       "      <td>2032</td>\n",
       "      <td>15.324692</td>\n",
       "    </tr>\n",
       "    <tr>\n",
       "      <th>362</th>\n",
       "      <td>2034</td>\n",
       "      <td>12.576477</td>\n",
       "    </tr>\n",
       "    <tr>\n",
       "      <th>363</th>\n",
       "      <td>2035</td>\n",
       "      <td>16.104148</td>\n",
       "    </tr>\n",
       "    <tr>\n",
       "      <th>364</th>\n",
       "      <td>2036</td>\n",
       "      <td>2.220004</td>\n",
       "    </tr>\n",
       "    <tr>\n",
       "      <th>365</th>\n",
       "      <td>2037</td>\n",
       "      <td>14.690849</td>\n",
       "    </tr>\n",
       "  </tbody>\n",
       "</table>\n",
       "<p>366 rows × 2 columns</p>\n",
       "</div>"
      ],
      "text/plain": [
       "     StudentID         G3\n",
       "0         1000  16.257920\n",
       "1         1008  10.683529\n",
       "2         1013  14.331553\n",
       "3         1014   7.073271\n",
       "4         1017  11.097319\n",
       "..         ...        ...\n",
       "361       2032  15.324692\n",
       "362       2034  12.576477\n",
       "363       2035  16.104148\n",
       "364       2036   2.220004\n",
       "365       2037  14.690849\n",
       "\n",
       "[366 rows x 2 columns]"
      ]
     },
     "execution_count": 16,
     "metadata": {},
     "output_type": "execute_result"
    }
   ],
   "source": [
    "out_data = pd.DataFrame({'StudentID':StudentID, 'G3':pred})\n",
    "out_data"
   ]
  },
  {
   "cell_type": "code",
   "execution_count": 17,
   "metadata": {},
   "outputs": [],
   "source": [
    "# out_data.to_csv('123456.csv', index=False)"
   ]
  },
  {
   "cell_type": "code",
   "execution_count": 18,
   "metadata": {},
   "outputs": [
    {
     "name": "stdout",
     "output_type": "stream",
     "text": [
      "rmse : 1.6222920367290228\n",
      "r2 : 0.8288514348036109\n"
     ]
    }
   ],
   "source": [
    "# 가채점\n",
    "print('rmse :', np.sqrt(mean_squared_error(y_test['G3'], pred)))\n",
    "print('r2 :', r2_score(y_test['G3'], pred))"
   ]
  },
  {
   "cell_type": "markdown",
   "metadata": {},
   "source": [
    "#### 5. 다른 모델 평가"
   ]
  },
  {
   "cell_type": "markdown",
   "metadata": {},
   "source": [
    "> GridSearchCV 전"
   ]
  },
  {
   "cell_type": "code",
   "execution_count": 19,
   "metadata": {},
   "outputs": [],
   "source": [
    "rf = RandomForestRegressor(random_state=156)\n",
    "gb = GradientBoostingRegressor(random_state=156)\n",
    "xgb = XGBRegressor(random_state=156)\n",
    "xgbrf = XGBRFRegressor(random_state=156)\n",
    "\n",
    "models = [rf, gb, xgb, xgbrf]"
   ]
  },
  {
   "cell_type": "code",
   "execution_count": 20,
   "metadata": {},
   "outputs": [
    {
     "name": "stdout",
     "output_type": "stream",
     "text": [
      "RandomForestRegressor\n",
      "rmse : 1.686404725735492\n",
      "r2 : 0.8150566112866586\n",
      "==========\n",
      "GradientBoostingRegressor\n",
      "rmse : 1.6608885592335358\n",
      "r2 : 0.8206108479839985\n",
      "==========\n",
      "XGBRegressor\n",
      "rmse : 1.819759240572865\n",
      "r2 : 0.784650902223296\n",
      "==========\n",
      "XGBRFRegressor\n",
      "rmse : 1.6843752956947406\n",
      "r2 : 0.8155014675256483\n",
      "==========\n"
     ]
    }
   ],
   "source": [
    "for model in models:\n",
    "    model.fit(X_train, y)\n",
    "    pred = model.predict(X_test)\n",
    "    \n",
    "    print(str(model).split('(')[0])\n",
    "    print('rmse :', np.sqrt(mean_squared_error(y_test['G3'], pred)) )\n",
    "    print('r2 :', r2_score(y_test['G3'], pred))\n",
    "    print('='*10)"
   ]
  },
  {
   "cell_type": "markdown",
   "metadata": {},
   "source": [
    "> GridSearchCV 후"
   ]
  },
  {
   "cell_type": "code",
   "execution_count": 21,
   "metadata": {},
   "outputs": [],
   "source": [
    "rf = RandomForestRegressor(random_state=156, max_depth=4, n_estimators=100)\n",
    "gb = GradientBoostingRegressor(random_state=156, max_depth=2, n_estimators=100)\n",
    "xgb = XGBRegressor(random_state=156, max_depth=3, n_estimators=100)\n",
    "xgbrf = XGBRFRegressor(random_state=156, max_depth=4, n_estimators=100)\n",
    "\n",
    "models = [rf, gb, xgb, xgbrf]"
   ]
  },
  {
   "cell_type": "code",
   "execution_count": 22,
   "metadata": {},
   "outputs": [
    {
     "name": "stdout",
     "output_type": "stream",
     "text": [
      "RandomForestRegressor\n",
      "rmse : 1.6742038706478317\n",
      "r2 : 0.8177229995730235\n",
      "==========\n",
      "GradientBoostingRegressor\n",
      "rmse : 1.6222920367290228\n",
      "r2 : 0.8288514348036109\n",
      "==========\n",
      "XGBRegressor\n",
      "rmse : 1.7416787790105732\n",
      "r2 : 0.802734421457687\n",
      "==========\n",
      "XGBRFRegressor\n",
      "rmse : 1.6698582942659126\n",
      "r2 : 0.8186680106953372\n",
      "==========\n"
     ]
    }
   ],
   "source": [
    "for model in models:\n",
    "    model.fit(X_train, y)\n",
    "    pred = model.predict(X_test)\n",
    "    \n",
    "    print(str(model).split('(')[0])\n",
    "    print('rmse :', np.sqrt(mean_squared_error(y_test['G3'], pred)) )\n",
    "    print('r2 :', r2_score(y_test['G3'], pred))\n",
    "    print('='*10)"
   ]
  },
  {
   "cell_type": "code",
   "execution_count": null,
   "metadata": {},
   "outputs": [],
   "source": []
  }
 ],
 "metadata": {
  "kernelspec": {
   "display_name": "ml",
   "language": "python",
   "name": "ml"
  },
  "language_info": {
   "codemirror_mode": {
    "name": "ipython",
    "version": 3
   },
   "file_extension": ".py",
   "mimetype": "text/x-python",
   "name": "python",
   "nbconvert_exporter": "python",
   "pygments_lexer": "ipython3",
   "version": "3.7.0"
  }
 },
 "nbformat": 4,
 "nbformat_minor": 2
}
