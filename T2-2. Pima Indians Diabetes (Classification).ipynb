{
 "cells": [
  {
   "cell_type": "markdown",
   "metadata": {},
   "source": [
    "# 빅데이터 분석기사 실기 준비 놀이터\n",
    "- https://www.kaggle.com/datasets/agileteam/bigdatacertificationkr"
   ]
  },
  {
   "cell_type": "markdown",
   "metadata": {},
   "source": [
    "## T2-2. Pima Indians Diabetes(Classification) / 당뇨병\n",
    "\n",
    "### 2. 당뇨병 여부 판단\n",
    "- 데이터셋 : diabetes.csv\n",
    "- 이상치 처리 : Glucose, BloodPressure, SkinThickness, Insulin, BMI가 0인 값\n",
    "- https://www.kaggle.com/code/agileteam/t2-2-pima-indians-diabetes/notebook"
   ]
  },
  {
   "cell_type": "markdown",
   "metadata": {},
   "source": [
    "#### 0. 시험 환경 세팅"
   ]
  },
  {
   "cell_type": "code",
   "execution_count": 1,
   "metadata": {},
   "outputs": [
    {
     "data": {
      "text/plain": [
       "((614, 9), (154, 9), (614, 2), (154, 2))"
      ]
     },
     "execution_count": 1,
     "metadata": {},
     "output_type": "execute_result"
    }
   ],
   "source": [
    "import pandas as pd\n",
    "import numpy as np\n",
    "from sklearn.model_selection import train_test_split\n",
    "\n",
    "def exam_data_load(df, target, id_name=\"\", null_name=\"\"):\n",
    "    if id_name == \"\":\n",
    "        df = df.reset_index().rename(columns={\"index\": \"id\"})\n",
    "        id_name = 'id'\n",
    "    else:\n",
    "        id_name = id_name\n",
    "    \n",
    "    if null_name != \"\":\n",
    "        df[df == null_name] = np.nan\n",
    "    \n",
    "    X_train, X_test = train_test_split(df, test_size=0.2, random_state=2021)\n",
    "    \n",
    "    y_train = X_train[[id_name, target]]\n",
    "    X_train = X_train.drop(columns=[target])\n",
    "\n",
    "    \n",
    "    y_test = X_test[[id_name, target]]\n",
    "    X_test = X_test.drop(columns=[target])\n",
    "    return X_train, X_test, y_train, y_test \n",
    "    \n",
    "df = pd.read_csv(\"./data/diabetes.csv\")\n",
    "X_train, X_test, y_train, y_test = exam_data_load(df, target='Outcome')\n",
    "\n",
    "X_train.shape, X_test.shape, y_train.shape, y_test.shape"
   ]
  },
  {
   "cell_type": "markdown",
   "metadata": {},
   "source": [
    "#### 1. 라이브러리 및 데이터 호출"
   ]
  },
  {
   "cell_type": "code",
   "execution_count": 2,
   "metadata": {},
   "outputs": [
    {
     "data": {
      "text/plain": [
       "((614, 9), (154, 9), (614, 2))"
      ]
     },
     "execution_count": 2,
     "metadata": {},
     "output_type": "execute_result"
    }
   ],
   "source": [
    "import numpy as np\n",
    "import pandas as pd\n",
    "\n",
    "X_train.shape, X_test.shape, y_train.shape"
   ]
  },
  {
   "cell_type": "markdown",
   "metadata": {},
   "source": [
    "#### 2. EDA"
   ]
  },
  {
   "cell_type": "code",
   "execution_count": 3,
   "metadata": {},
   "outputs": [
    {
     "name": "stdout",
     "output_type": "stream",
     "text": [
      "<class 'pandas.core.frame.DataFrame'>\n",
      "Int64Index: 614 entries, 147 to 116\n",
      "Data columns (total 9 columns):\n",
      " #   Column                    Non-Null Count  Dtype  \n",
      "---  ------                    --------------  -----  \n",
      " 0   id                        614 non-null    int64  \n",
      " 1   Pregnancies               614 non-null    int64  \n",
      " 2   Glucose                   614 non-null    int64  \n",
      " 3   BloodPressure             614 non-null    int64  \n",
      " 4   SkinThickness             614 non-null    int64  \n",
      " 5   Insulin                   614 non-null    int64  \n",
      " 6   BMI                       614 non-null    float64\n",
      " 7   DiabetesPedigreeFunction  614 non-null    float64\n",
      " 8   Age                       614 non-null    int64  \n",
      "dtypes: float64(2), int64(7)\n",
      "memory usage: 48.0 KB\n"
     ]
    },
    {
     "data": {
      "text/plain": [
       "None"
      ]
     },
     "metadata": {},
     "output_type": "display_data"
    },
    {
     "data": {
      "text/plain": [
       "'===================================================================================================='"
      ]
     },
     "metadata": {},
     "output_type": "display_data"
    },
    {
     "data": {
      "text/html": [
       "<div>\n",
       "<style scoped>\n",
       "    .dataframe tbody tr th:only-of-type {\n",
       "        vertical-align: middle;\n",
       "    }\n",
       "\n",
       "    .dataframe tbody tr th {\n",
       "        vertical-align: top;\n",
       "    }\n",
       "\n",
       "    .dataframe thead th {\n",
       "        text-align: right;\n",
       "    }\n",
       "</style>\n",
       "<table border=\"1\" class=\"dataframe\">\n",
       "  <thead>\n",
       "    <tr style=\"text-align: right;\">\n",
       "      <th></th>\n",
       "      <th>id</th>\n",
       "      <th>Pregnancies</th>\n",
       "      <th>Glucose</th>\n",
       "      <th>BloodPressure</th>\n",
       "      <th>SkinThickness</th>\n",
       "      <th>Insulin</th>\n",
       "      <th>BMI</th>\n",
       "      <th>DiabetesPedigreeFunction</th>\n",
       "      <th>Age</th>\n",
       "    </tr>\n",
       "  </thead>\n",
       "  <tbody>\n",
       "    <tr>\n",
       "      <th>147</th>\n",
       "      <td>147</td>\n",
       "      <td>2</td>\n",
       "      <td>106</td>\n",
       "      <td>64</td>\n",
       "      <td>35</td>\n",
       "      <td>119</td>\n",
       "      <td>30.5</td>\n",
       "      <td>1.400</td>\n",
       "      <td>34</td>\n",
       "    </tr>\n",
       "    <tr>\n",
       "      <th>344</th>\n",
       "      <td>344</td>\n",
       "      <td>8</td>\n",
       "      <td>95</td>\n",
       "      <td>72</td>\n",
       "      <td>0</td>\n",
       "      <td>0</td>\n",
       "      <td>36.8</td>\n",
       "      <td>0.485</td>\n",
       "      <td>57</td>\n",
       "    </tr>\n",
       "    <tr>\n",
       "      <th>390</th>\n",
       "      <td>390</td>\n",
       "      <td>1</td>\n",
       "      <td>100</td>\n",
       "      <td>66</td>\n",
       "      <td>29</td>\n",
       "      <td>196</td>\n",
       "      <td>32.0</td>\n",
       "      <td>0.444</td>\n",
       "      <td>42</td>\n",
       "    </tr>\n",
       "    <tr>\n",
       "      <th>150</th>\n",
       "      <td>150</td>\n",
       "      <td>1</td>\n",
       "      <td>136</td>\n",
       "      <td>74</td>\n",
       "      <td>50</td>\n",
       "      <td>204</td>\n",
       "      <td>37.4</td>\n",
       "      <td>0.399</td>\n",
       "      <td>24</td>\n",
       "    </tr>\n",
       "    <tr>\n",
       "      <th>132</th>\n",
       "      <td>132</td>\n",
       "      <td>3</td>\n",
       "      <td>170</td>\n",
       "      <td>64</td>\n",
       "      <td>37</td>\n",
       "      <td>225</td>\n",
       "      <td>34.5</td>\n",
       "      <td>0.356</td>\n",
       "      <td>30</td>\n",
       "    </tr>\n",
       "  </tbody>\n",
       "</table>\n",
       "</div>"
      ],
      "text/plain": [
       "      id  Pregnancies  Glucose  BloodPressure  SkinThickness  Insulin   BMI  \\\n",
       "147  147            2      106             64             35      119  30.5   \n",
       "344  344            8       95             72              0        0  36.8   \n",
       "390  390            1      100             66             29      196  32.0   \n",
       "150  150            1      136             74             50      204  37.4   \n",
       "132  132            3      170             64             37      225  34.5   \n",
       "\n",
       "     DiabetesPedigreeFunction  Age  \n",
       "147                     1.400   34  \n",
       "344                     0.485   57  \n",
       "390                     0.444   42  \n",
       "150                     0.399   24  \n",
       "132                     0.356   30  "
      ]
     },
     "metadata": {},
     "output_type": "display_data"
    },
    {
     "data": {
      "text/plain": [
       "'===================================================================================================='"
      ]
     },
     "metadata": {},
     "output_type": "display_data"
    }
   ],
   "source": [
    "display(X_train.info(), '='*100, X_train.head(), '='*100)"
   ]
  },
  {
   "cell_type": "code",
   "execution_count": 4,
   "metadata": {},
   "outputs": [
    {
     "name": "stdout",
     "output_type": "stream",
     "text": [
      "<class 'pandas.core.frame.DataFrame'>\n",
      "Int64Index: 154 entries, 258 to 174\n",
      "Data columns (total 9 columns):\n",
      " #   Column                    Non-Null Count  Dtype  \n",
      "---  ------                    --------------  -----  \n",
      " 0   id                        154 non-null    int64  \n",
      " 1   Pregnancies               154 non-null    int64  \n",
      " 2   Glucose                   154 non-null    int64  \n",
      " 3   BloodPressure             154 non-null    int64  \n",
      " 4   SkinThickness             154 non-null    int64  \n",
      " 5   Insulin                   154 non-null    int64  \n",
      " 6   BMI                       154 non-null    float64\n",
      " 7   DiabetesPedigreeFunction  154 non-null    float64\n",
      " 8   Age                       154 non-null    int64  \n",
      "dtypes: float64(2), int64(7)\n",
      "memory usage: 12.0 KB\n"
     ]
    },
    {
     "data": {
      "text/plain": [
       "None"
      ]
     },
     "metadata": {},
     "output_type": "display_data"
    },
    {
     "data": {
      "text/plain": [
       "'===================================================================================================='"
      ]
     },
     "metadata": {},
     "output_type": "display_data"
    },
    {
     "data": {
      "text/html": [
       "<div>\n",
       "<style scoped>\n",
       "    .dataframe tbody tr th:only-of-type {\n",
       "        vertical-align: middle;\n",
       "    }\n",
       "\n",
       "    .dataframe tbody tr th {\n",
       "        vertical-align: top;\n",
       "    }\n",
       "\n",
       "    .dataframe thead th {\n",
       "        text-align: right;\n",
       "    }\n",
       "</style>\n",
       "<table border=\"1\" class=\"dataframe\">\n",
       "  <thead>\n",
       "    <tr style=\"text-align: right;\">\n",
       "      <th></th>\n",
       "      <th>id</th>\n",
       "      <th>Pregnancies</th>\n",
       "      <th>Glucose</th>\n",
       "      <th>BloodPressure</th>\n",
       "      <th>SkinThickness</th>\n",
       "      <th>Insulin</th>\n",
       "      <th>BMI</th>\n",
       "      <th>DiabetesPedigreeFunction</th>\n",
       "      <th>Age</th>\n",
       "    </tr>\n",
       "  </thead>\n",
       "  <tbody>\n",
       "    <tr>\n",
       "      <th>258</th>\n",
       "      <td>258</td>\n",
       "      <td>1</td>\n",
       "      <td>193</td>\n",
       "      <td>50</td>\n",
       "      <td>16</td>\n",
       "      <td>375</td>\n",
       "      <td>25.9</td>\n",
       "      <td>0.655</td>\n",
       "      <td>24</td>\n",
       "    </tr>\n",
       "    <tr>\n",
       "      <th>220</th>\n",
       "      <td>220</td>\n",
       "      <td>0</td>\n",
       "      <td>177</td>\n",
       "      <td>60</td>\n",
       "      <td>29</td>\n",
       "      <td>478</td>\n",
       "      <td>34.6</td>\n",
       "      <td>1.072</td>\n",
       "      <td>21</td>\n",
       "    </tr>\n",
       "    <tr>\n",
       "      <th>438</th>\n",
       "      <td>438</td>\n",
       "      <td>1</td>\n",
       "      <td>97</td>\n",
       "      <td>70</td>\n",
       "      <td>15</td>\n",
       "      <td>0</td>\n",
       "      <td>18.2</td>\n",
       "      <td>0.147</td>\n",
       "      <td>21</td>\n",
       "    </tr>\n",
       "    <tr>\n",
       "      <th>130</th>\n",
       "      <td>130</td>\n",
       "      <td>4</td>\n",
       "      <td>173</td>\n",
       "      <td>70</td>\n",
       "      <td>14</td>\n",
       "      <td>168</td>\n",
       "      <td>29.7</td>\n",
       "      <td>0.361</td>\n",
       "      <td>33</td>\n",
       "    </tr>\n",
       "    <tr>\n",
       "      <th>730</th>\n",
       "      <td>730</td>\n",
       "      <td>3</td>\n",
       "      <td>130</td>\n",
       "      <td>78</td>\n",
       "      <td>23</td>\n",
       "      <td>79</td>\n",
       "      <td>28.4</td>\n",
       "      <td>0.323</td>\n",
       "      <td>34</td>\n",
       "    </tr>\n",
       "  </tbody>\n",
       "</table>\n",
       "</div>"
      ],
      "text/plain": [
       "      id  Pregnancies  Glucose  BloodPressure  SkinThickness  Insulin   BMI  \\\n",
       "258  258            1      193             50             16      375  25.9   \n",
       "220  220            0      177             60             29      478  34.6   \n",
       "438  438            1       97             70             15        0  18.2   \n",
       "130  130            4      173             70             14      168  29.7   \n",
       "730  730            3      130             78             23       79  28.4   \n",
       "\n",
       "     DiabetesPedigreeFunction  Age  \n",
       "258                     0.655   24  \n",
       "220                     1.072   21  \n",
       "438                     0.147   21  \n",
       "130                     0.361   33  \n",
       "730                     0.323   34  "
      ]
     },
     "metadata": {},
     "output_type": "display_data"
    },
    {
     "data": {
      "text/plain": [
       "'===================================================================================================='"
      ]
     },
     "metadata": {},
     "output_type": "display_data"
    }
   ],
   "source": [
    "display(X_test.info(), '='*100, X_test.head(), '='*100)"
   ]
  },
  {
   "cell_type": "markdown",
   "metadata": {},
   "source": [
    "#### 3. Preprocessing\n",
    "- 불필요 컬럼 제거 : id\n",
    "- 이상치 처리 : Glucose, BloodPressure, SkinThickness, Insulin, BMI가 0인 값\n",
    "    - Glucose : 행 제거\n",
    "    - BloodPressure : 평균 대체(보류)\n",
    "    - SkinThickness : 평균 대체(보류)\n",
    "    - Insulin : 평균대체(보류)\n",
    "    - BMI : 평균 대체(보류)\n",
    "- 스케일링 : 정규화(MinMaxScaler)"
   ]
  },
  {
   "cell_type": "code",
   "execution_count": 5,
   "metadata": {},
   "outputs": [],
   "source": [
    "x_train = X_train.copy()\n",
    "x_test = X_test.copy()"
   ]
  },
  {
   "cell_type": "code",
   "execution_count": 6,
   "metadata": {},
   "outputs": [
    {
     "name": "stdout",
     "output_type": "stream",
     "text": [
      "train Glucose 5\n",
      "train BloodPressure 31\n",
      "train SkinThickness 175\n",
      "train Insulin 287\n",
      "train BMI 9\n"
     ]
    }
   ],
   "source": [
    "check_col = ['Glucose', 'BloodPressure', 'SkinThickness', 'Insulin', 'BMI']\n",
    "for c in check_col:\n",
    "    print('train', c, len(x_train[x_train[c] == 0]))"
   ]
  },
  {
   "cell_type": "code",
   "execution_count": 7,
   "metadata": {},
   "outputs": [
    {
     "name": "stdout",
     "output_type": "stream",
     "text": [
      "test Glucose 0\n",
      "test BloodPressure 4\n",
      "test SkinThickness 52\n",
      "test Insulin 87\n",
      "test BMI 2\n"
     ]
    }
   ],
   "source": [
    "for c in check_col:\n",
    "    print('test', c, len(x_test[x_test[c] == 0]))"
   ]
  },
  {
   "cell_type": "code",
   "execution_count": 8,
   "metadata": {},
   "outputs": [
    {
     "name": "stdout",
     "output_type": "stream",
     "text": [
      "Glucose x_train median : 117.0\n",
      "Glucose x_train mean : 120.70521172638436\n",
      "Glucose x_train mode : 100\n",
      "==========\n",
      "Glucose test median : 117.5\n",
      "Glucose test mean : 121.64935064935065\n",
      "Glucose test mode : 84\n",
      "========================================\n",
      "BloodPressure x_train median : 72.0\n",
      "BloodPressure x_train mean : 68.53094462540717\n",
      "BloodPressure x_train mode : 70\n",
      "==========\n",
      "BloodPressure test median : 72.0\n",
      "BloodPressure test mean : 71.3961038961039\n",
      "BloodPressure test mode : 82\n",
      "========================================\n",
      "SkinThickness x_train median : 23.0\n",
      "SkinThickness x_train mean : 20.982084690553744\n",
      "SkinThickness x_train mode : 0\n",
      "==========\n",
      "SkinThickness test median : 19.5\n",
      "SkinThickness test mean : 18.75974025974026\n",
      "SkinThickness test mode : 0\n",
      "========================================\n",
      "Insulin x_train median : 44.0\n",
      "Insulin x_train mean : 82.22964169381108\n",
      "Insulin x_train mode : 0\n",
      "==========\n",
      "Insulin test median : 0.0\n",
      "Insulin test mean : 70.1103896103896\n",
      "Insulin test mode : 0\n",
      "========================================\n",
      "BMI x_train median : 32.25\n",
      "BMI x_train mean : 31.9485342019544\n",
      "BMI x_train mode : 31.6\n",
      "==========\n",
      "BMI test median : 31.95\n",
      "BMI test mean : 32.168181818181814\n",
      "BMI test mode : 29.7\n",
      "========================================\n"
     ]
    }
   ],
   "source": [
    "for c in check_col:\n",
    "    print(c, 'x_train median :', x_train[c].median())\n",
    "    print(c, 'x_train mean :', x_train[c].mean())\n",
    "    print(c, 'x_train mode :', x_train[c].mode()[0])\n",
    "    print('='*10)\n",
    "    print(c, 'test median :', x_test[c].median())\n",
    "    print(c, 'test mean :', x_test[c].mean())\n",
    "    print(c, 'test mode :', x_test[c].mode()[0])\n",
    "    print('='*40)"
   ]
  },
  {
   "cell_type": "markdown",
   "metadata": {},
   "source": [
    "> 불필요 컬럼 id 제거"
   ]
  },
  {
   "cell_type": "code",
   "execution_count": 9,
   "metadata": {},
   "outputs": [
    {
     "name": "stdout",
     "output_type": "stream",
     "text": [
      "(614, 9) (154, 9)\n",
      "(614, 8) (154, 8)\n"
     ]
    }
   ],
   "source": [
    "print(x_train.shape, x_test.shape)\n",
    "\n",
    "x_train.drop('id', axis=1, inplace=True)\n",
    "x_test.drop('id', axis=1, inplace=True)\n",
    "\n",
    "print(x_train.shape, x_test.shape)"
   ]
  },
  {
   "cell_type": "markdown",
   "metadata": {},
   "source": [
    "> Glucose값이 0인 행 제거"
   ]
  },
  {
   "cell_type": "code",
   "execution_count": 10,
   "metadata": {},
   "outputs": [
    {
     "name": "stdout",
     "output_type": "stream",
     "text": [
      "(614, 8) (614, 2)\n",
      "(609, 8) (609, 2)\n"
     ]
    }
   ],
   "source": [
    "del_idx = x_train[x_train['Glucose'] == 0].index\n",
    "\n",
    "print(x_train.shape, y_train.shape)\n",
    "\n",
    "x_train.drop(index=del_idx, axis=0, inplace=True)\n",
    "y_train.drop(index=del_idx, axis=0, inplace=True)\n",
    "\n",
    "print(x_train.shape, y_train.shape)"
   ]
  },
  {
   "cell_type": "markdown",
   "metadata": {},
   "source": [
    "> 컬럼 4개 값이 0인 데이터 평균 대체(보류)"
   ]
  },
  {
   "cell_type": "code",
   "execution_count": 11,
   "metadata": {},
   "outputs": [
    {
     "name": "stdout",
     "output_type": "stream",
     "text": [
      "train BloodPressure 31\n",
      "test BloodPressure 4\n",
      "train SkinThickness 175\n",
      "test SkinThickness 52\n",
      "train Insulin 283\n",
      "test Insulin 87\n",
      "train BMI 9\n",
      "test BMI 2\n"
     ]
    }
   ],
   "source": [
    "repl_col = ['BloodPressure', 'SkinThickness', 'Insulin', 'BMI']\n",
    "\n",
    "train_col_mean = x_train[repl_col].mean()\n",
    "test_col_mean = x_test[repl_col].mean()\n",
    "\n",
    "# x_train[repl_col] = x_train[repl_col].replace(0, train_col_mean)\n",
    "# x_test[repl_col] = x_test[repl_col].replace(0, test_col_mean)\n",
    "\n",
    "for c in repl_col:\n",
    "    print('train', c, len(x_train[x_train[c] == 0]))\n",
    "    print('test', c, len(x_test[x_test[c] == 0]))"
   ]
  },
  {
   "cell_type": "markdown",
   "metadata": {},
   "source": [
    "> 정규화"
   ]
  },
  {
   "cell_type": "code",
   "execution_count": 12,
   "metadata": {},
   "outputs": [],
   "source": [
    "# from sklearn.preprocessing import StandardScaler\n",
    "from sklearn.preprocessing import MinMaxScaler\n",
    "\n",
    "# scaler = StandardScaler()\n",
    "scaler = MinMaxScaler()\n",
    "\n",
    "x_train = scaler.fit_transform(x_train)\n",
    "x_test = scaler.transform(x_test)"
   ]
  },
  {
   "cell_type": "markdown",
   "metadata": {},
   "source": [
    "#### 4. Modeling"
   ]
  },
  {
   "cell_type": "markdown",
   "metadata": {},
   "source": [
    "import sklearn  \n",
    "help(sklearn)\n",
    "\n",
    "import sklearn.model_selection  \n",
    "help(sklearn.model_selection)\n",
    "\n",
    "import sklearn.linear_model  \n",
    "help(sklearn.linear_model)\n",
    "\n",
    "import sklearn.ensemble  \n",
    "help(sklearn.ensemble)\n",
    "\n",
    "import xgboost  \n",
    "help(xgboost)\n",
    "\n",
    "import sklearn.metrics  \n",
    "help(sklearn.metrics)"
   ]
  },
  {
   "cell_type": "code",
   "execution_count": 13,
   "metadata": {},
   "outputs": [],
   "source": [
    "from sklearn.model_selection import train_test_split\n",
    "\n",
    "from sklearn.linear_model import LogisticRegression\n",
    "from sklearn.ensemble import RandomForestClassifier, GradientBoostingClassifier\n",
    "from xgboost import XGBClassifier, XGBRFClassifier\n",
    "\n",
    "from sklearn.metrics import accuracy_score, roc_auc_score"
   ]
  },
  {
   "cell_type": "code",
   "execution_count": 14,
   "metadata": {},
   "outputs": [
    {
     "data": {
      "text/plain": [
       "((609, 8), (609, 2), (154, 8))"
      ]
     },
     "execution_count": 14,
     "metadata": {},
     "output_type": "execute_result"
    }
   ],
   "source": [
    "x_train.shape, y_train.shape, x_test.shape"
   ]
  },
  {
   "cell_type": "code",
   "execution_count": 15,
   "metadata": {},
   "outputs": [],
   "source": [
    "X_tr, X_val, y_tr, y_val = train_test_split(x_train, y_train['Outcome'], test_size=0.2, random_state=156)\n",
    "\n",
    "lr = LogisticRegression(random_state=156)\n",
    "rf = RandomForestClassifier(random_state=156)\n",
    "gb = GradientBoostingClassifier(random_state=156)\n",
    "xgb = XGBClassifier(random_state=156)\n",
    "xgbrf = XGBRFClassifier(random_state=156)\n",
    "\n",
    "models = [lr, rf, gb, xgb, xgbrf]"
   ]
  },
  {
   "cell_type": "code",
   "execution_count": 16,
   "metadata": {},
   "outputs": [
    {
     "name": "stdout",
     "output_type": "stream",
     "text": [
      "LogisticRegression\n",
      "정확도 : 0.7868852459016393\n",
      "auc :  0.7045138888888889\n",
      "====================================================================================================\n",
      "RandomForestClassifier\n",
      "정확도 : 0.7868852459016393\n",
      "auc :  0.7548611111111111\n",
      "====================================================================================================\n",
      "GradientBoostingClassifier\n",
      "정확도 : 0.7950819672131147\n",
      "auc :  0.7604166666666666\n",
      "====================================================================================================\n",
      "XGBClassifier\n",
      "정확도 : 0.8032786885245902\n",
      "auc :  0.7760416666666667\n",
      "====================================================================================================\n",
      "XGBRFClassifier\n",
      "정확도 : 0.8032786885245902\n",
      "auc :  0.7559027777777778\n",
      "====================================================================================================\n"
     ]
    }
   ],
   "source": [
    "for model in models:\n",
    "    model.fit(X_tr, y_tr)\n",
    "    pred = model.predict(X_val)\n",
    "    pred_proba = model.predict_proba(X_val)[:,1]\n",
    "    \n",
    "    name = str(model).split('(')[0]\n",
    "    \n",
    "    print(name)\n",
    "    print('정확도 :', accuracy_score(y_val, pred))\n",
    "    print('auc : ', roc_auc_score(y_val, pred))\n",
    "    print('='*100)"
   ]
  },
  {
   "cell_type": "code",
   "execution_count": 17,
   "metadata": {},
   "outputs": [],
   "source": [
    "gb = GradientBoostingClassifier(random_state=156)\n",
    "\n",
    "gb.fit(x_train, y_train['Outcome'])\n",
    "pred = gb.predict(x_test)\n",
    "pred_proba = gb.predict_proba(x_test)[:,1]"
   ]
  },
  {
   "cell_type": "code",
   "execution_count": 18,
   "metadata": {},
   "outputs": [
    {
     "name": "stdout",
     "output_type": "stream",
     "text": [
      "0.7597402597402597\n",
      "0.8415626695604992\n"
     ]
    }
   ],
   "source": [
    "# 가채점\n",
    "print(accuracy_score(y_test['Outcome'], pred))\n",
    "print(roc_auc_score(y_test['Outcome'], pred_proba))"
   ]
  },
  {
   "cell_type": "code",
   "execution_count": 19,
   "metadata": {},
   "outputs": [
    {
     "data": {
      "text/html": [
       "<div>\n",
       "<style scoped>\n",
       "    .dataframe tbody tr th:only-of-type {\n",
       "        vertical-align: middle;\n",
       "    }\n",
       "\n",
       "    .dataframe tbody tr th {\n",
       "        vertical-align: top;\n",
       "    }\n",
       "\n",
       "    .dataframe thead th {\n",
       "        text-align: right;\n",
       "    }\n",
       "</style>\n",
       "<table border=\"1\" class=\"dataframe\">\n",
       "  <thead>\n",
       "    <tr style=\"text-align: right;\">\n",
       "      <th></th>\n",
       "      <th>idx</th>\n",
       "      <th>Outcome</th>\n",
       "    </tr>\n",
       "  </thead>\n",
       "  <tbody>\n",
       "    <tr>\n",
       "      <th>258</th>\n",
       "      <td>258</td>\n",
       "      <td>1</td>\n",
       "    </tr>\n",
       "    <tr>\n",
       "      <th>220</th>\n",
       "      <td>220</td>\n",
       "      <td>1</td>\n",
       "    </tr>\n",
       "    <tr>\n",
       "      <th>438</th>\n",
       "      <td>438</td>\n",
       "      <td>0</td>\n",
       "    </tr>\n",
       "    <tr>\n",
       "      <th>130</th>\n",
       "      <td>130</td>\n",
       "      <td>1</td>\n",
       "    </tr>\n",
       "    <tr>\n",
       "      <th>730</th>\n",
       "      <td>730</td>\n",
       "      <td>0</td>\n",
       "    </tr>\n",
       "    <tr>\n",
       "      <th>...</th>\n",
       "      <td>...</td>\n",
       "      <td>...</td>\n",
       "    </tr>\n",
       "    <tr>\n",
       "      <th>678</th>\n",
       "      <td>678</td>\n",
       "      <td>0</td>\n",
       "    </tr>\n",
       "    <tr>\n",
       "      <th>500</th>\n",
       "      <td>500</td>\n",
       "      <td>0</td>\n",
       "    </tr>\n",
       "    <tr>\n",
       "      <th>256</th>\n",
       "      <td>256</td>\n",
       "      <td>0</td>\n",
       "    </tr>\n",
       "    <tr>\n",
       "      <th>80</th>\n",
       "      <td>80</td>\n",
       "      <td>0</td>\n",
       "    </tr>\n",
       "    <tr>\n",
       "      <th>174</th>\n",
       "      <td>174</td>\n",
       "      <td>0</td>\n",
       "    </tr>\n",
       "  </tbody>\n",
       "</table>\n",
       "<p>154 rows × 2 columns</p>\n",
       "</div>"
      ],
      "text/plain": [
       "     idx  Outcome\n",
       "258  258        1\n",
       "220  220        1\n",
       "438  438        0\n",
       "130  130        1\n",
       "730  730        0\n",
       "..   ...      ...\n",
       "678  678        0\n",
       "500  500        0\n",
       "256  256        0\n",
       "80    80        0\n",
       "174  174        0\n",
       "\n",
       "[154 rows x 2 columns]"
      ]
     },
     "execution_count": 19,
     "metadata": {},
     "output_type": "execute_result"
    }
   ],
   "source": [
    "outdata = pd.DataFrame({'idx' : X_test['id'], 'Outcome':pred})\n",
    "outdata"
   ]
  },
  {
   "cell_type": "code",
   "execution_count": 20,
   "metadata": {},
   "outputs": [],
   "source": [
    "# out_data.to_csv('123456.csv', index=False)"
   ]
  },
  {
   "cell_type": "markdown",
   "metadata": {},
   "source": [
    "#### 5. 다른 모델 평가"
   ]
  },
  {
   "cell_type": "code",
   "execution_count": 21,
   "metadata": {},
   "outputs": [],
   "source": [
    "lr = LogisticRegression(random_state=156)\n",
    "rf = RandomForestClassifier(random_state=156)\n",
    "gb = GradientBoostingClassifier(random_state=156)\n",
    "xgb = XGBClassifier(random_state=156)\n",
    "xgbrf = XGBRFClassifier(random_state=156)\n",
    "\n",
    "models = [lr, rf, gb, xgb, xgbrf]"
   ]
  },
  {
   "cell_type": "code",
   "execution_count": 22,
   "metadata": {},
   "outputs": [
    {
     "name": "stdout",
     "output_type": "stream",
     "text": [
      "LogisticRegression\n",
      "정확도 : 0.7727272727272727\n",
      "auc :  0.8484355217941761\n",
      "====================================================================================================\n",
      "RandomForestClassifier\n",
      "정확도 : 0.7792207792207793\n",
      "auc :  0.829625610417797\n",
      "====================================================================================================\n",
      "GradientBoostingClassifier\n",
      "정확도 : 0.7597402597402597\n",
      "auc :  0.8415626695604992\n",
      "====================================================================================================\n",
      "XGBClassifier\n",
      "정확도 : 0.7337662337662337\n",
      "auc :  0.7815156447820581\n",
      "====================================================================================================\n",
      "XGBRFClassifier\n",
      "정확도 : 0.7597402597402597\n",
      "auc :  0.8348706818592874\n",
      "====================================================================================================\n"
     ]
    }
   ],
   "source": [
    "for model in models:\n",
    "    model.fit(x_train, y_train['Outcome'])\n",
    "    pred = model.predict(x_test)\n",
    "    pred_proba = model.predict_proba(x_test)[:,1]\n",
    "    \n",
    "    name = str(model).split('(')[0]\n",
    "    \n",
    "    print(name)\n",
    "    print('정확도 :', accuracy_score(y_test['Outcome'], pred))\n",
    "    print('auc : ', roc_auc_score(y_test['Outcome'], pred_proba))\n",
    "    print('='*100)"
   ]
  },
  {
   "cell_type": "code",
   "execution_count": null,
   "metadata": {},
   "outputs": [],
   "source": []
  }
 ],
 "metadata": {
  "kernelspec": {
   "display_name": "ml",
   "language": "python",
   "name": "ml"
  },
  "language_info": {
   "codemirror_mode": {
    "name": "ipython",
    "version": 3
   },
   "file_extension": ".py",
   "mimetype": "text/x-python",
   "name": "python",
   "nbconvert_exporter": "python",
   "pygments_lexer": "ipython3",
   "version": "3.7.0"
  }
 },
 "nbformat": 4,
 "nbformat_minor": 2
}
