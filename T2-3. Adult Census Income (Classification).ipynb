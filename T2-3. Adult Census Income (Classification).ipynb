{
 "cells": [
  {
   "cell_type": "markdown",
   "metadata": {},
   "source": [
    "# 빅데이터 분석기사 실기 준비 놀이터\n",
    "- https://www.kaggle.com/datasets/agileteam/bigdatacertificationkr"
   ]
  },
  {
   "cell_type": "markdown",
   "metadata": {},
   "source": [
    "## T2-3. Adult Census Income (Classification) / 성인 인구소득 예측\n",
    "\n",
    "### 3. 성인 인구조사 소득 예측\n",
    "- 데이터셋 : adult.csv\n",
    "- https://www.kaggle.com/code/agileteam/t2-3-adult-census-income-tutorial/notebook"
   ]
  },
  {
   "cell_type": "markdown",
   "metadata": {},
   "source": [
    "#### 0. 시험 환경 세팅"
   ]
  },
  {
   "cell_type": "code",
   "execution_count": 1,
   "metadata": {},
   "outputs": [
    {
     "data": {
      "text/plain": [
       "((26048, 15), (6513, 15), (26048, 2), (6513, 2))"
      ]
     },
     "execution_count": 1,
     "metadata": {},
     "output_type": "execute_result"
    }
   ],
   "source": [
    "import pandas as pd\n",
    "import numpy as np\n",
    "from sklearn.model_selection import train_test_split\n",
    "\n",
    "def exam_data_load(df, target, id_name=\"\", null_name=\"\"):\n",
    "    if id_name == \"\":\n",
    "        df = df.reset_index().rename(columns={\"index\": \"id\"})\n",
    "        id_name = 'id'\n",
    "    else:\n",
    "        id_name = id_name\n",
    "    \n",
    "    if null_name != \"\":\n",
    "        df[df == null_name] = np.nan\n",
    "    \n",
    "    X_train, X_test = train_test_split(df, test_size=0.2, random_state=2021)\n",
    "    \n",
    "    y_train = X_train[[id_name, target]]\n",
    "    X_train = X_train.drop(columns=[target])\n",
    "\n",
    "    \n",
    "    y_test = X_test[[id_name, target]]\n",
    "    X_test = X_test.drop(columns=[target])\n",
    "    return X_train, X_test, y_train, y_test \n",
    "    \n",
    "df = pd.read_csv(\"./data/adult.csv\")\n",
    "X_train, X_test, y_train, y_test = exam_data_load(df, target='income', null_name='?')\n",
    "\n",
    "X_train.shape, X_test.shape, y_train.shape, y_test.shape"
   ]
  },
  {
   "cell_type": "markdown",
   "metadata": {},
   "source": [
    "#### 1. 라이브러리 및 데이터 호출"
   ]
  },
  {
   "cell_type": "code",
   "execution_count": 2,
   "metadata": {},
   "outputs": [
    {
     "data": {
      "text/plain": [
       "((26048, 15), (6513, 15), (26048, 2))"
      ]
     },
     "execution_count": 2,
     "metadata": {},
     "output_type": "execute_result"
    }
   ],
   "source": [
    "import numpy as np\n",
    "import pandas as pd\n",
    "\n",
    "X_train.shape, X_test.shape, y_train.shape"
   ]
  },
  {
   "cell_type": "code",
   "execution_count": 3,
   "metadata": {},
   "outputs": [],
   "source": [
    "X_train_copy = X_train.copy()\n",
    "X_test_copy = X_test.copy()"
   ]
  },
  {
   "cell_type": "markdown",
   "metadata": {},
   "source": [
    "#### 2. EDA"
   ]
  },
  {
   "cell_type": "markdown",
   "metadata": {},
   "source": [
    "display(X_train.info(), X_train.head(), X_train.isnull().sum())"
   ]
  },
  {
   "cell_type": "markdown",
   "metadata": {},
   "source": [
    "display(X_test.info(), X_test.head(), X_test.isnull().sum())"
   ]
  },
  {
   "cell_type": "markdown",
   "metadata": {},
   "source": [
    "display(y_train.head(), y_train.income.value_counts())"
   ]
  },
  {
   "cell_type": "markdown",
   "metadata": {},
   "source": [
    "#### 3. Preprocessing\n",
    "- 타겟 컬럼 : 수치형으로 변경\n",
    "- 불필요컬럼 제거 : id\n",
    "- 결측치 컬럼 3개 : 최빈값으로 대체\n",
    "- 수치형 컬럼 : 정규화(MinMaxScaler)\n",
    "- 범주형 컬럼 : LabelEncoder"
   ]
  },
  {
   "cell_type": "markdown",
   "metadata": {},
   "source": [
    "> 타겟 컬럼 : 수치형으로 변경"
   ]
  },
  {
   "cell_type": "code",
   "execution_count": 4,
   "metadata": {},
   "outputs": [
    {
     "data": {
      "text/plain": [
       "0    19756\n",
       "1     6292\n",
       "Name: income, dtype: int64"
      ]
     },
     "execution_count": 4,
     "metadata": {},
     "output_type": "execute_result"
    }
   ],
   "source": [
    "y = (y_train['income'] == '>50K').astype(int)\n",
    "y.value_counts()"
   ]
  },
  {
   "cell_type": "markdown",
   "metadata": {},
   "source": [
    "> 불필요컬럼 id 제거"
   ]
  },
  {
   "cell_type": "code",
   "execution_count": 5,
   "metadata": {},
   "outputs": [
    {
     "name": "stdout",
     "output_type": "stream",
     "text": [
      "(26048, 15) (6513, 15)\n",
      "(26048, 14) (6513, 14)\n"
     ]
    }
   ],
   "source": [
    "print(X_train.shape, X_test.shape)\n",
    "\n",
    "X_train.drop('id', axis=1, inplace=True)\n",
    "X_test.drop('id', axis=1, inplace=True)\n",
    "\n",
    "print(X_train.shape, X_test.shape)"
   ]
  },
  {
   "cell_type": "markdown",
   "metadata": {},
   "source": [
    "> 결측치 컬럼 3개 : 최빈값으로 대체"
   ]
  },
  {
   "cell_type": "code",
   "execution_count": 6,
   "metadata": {},
   "outputs": [],
   "source": [
    "train_isnull = X_train.isnull().sum()\n",
    "null_col = list(train_isnull[train_isnull>0].index)"
   ]
  },
  {
   "cell_type": "code",
   "execution_count": 7,
   "metadata": {},
   "outputs": [
    {
     "name": "stdout",
     "output_type": "stream",
     "text": [
      "8\n",
      "['Private' 'State-gov' 'Self-emp-not-inc' 'Self-emp-inc' 'Local-gov'\n",
      " 'Federal-gov' nan 'Never-worked' 'Without-pay']\n",
      "Private\n",
      "====================================================================================================\n",
      "14\n",
      "['Craft-repair' 'Prof-specialty' 'Tech-support' 'Handlers-cleaners'\n",
      " 'Sales' 'Machine-op-inspct' 'Exec-managerial' 'Other-service'\n",
      " 'Adm-clerical' 'Transport-moving' 'Farming-fishing' nan 'Protective-serv'\n",
      " 'Armed-Forces' 'Priv-house-serv']\n",
      "Exec-managerial\n",
      "====================================================================================================\n",
      "41\n",
      "['United-States' nan 'England' 'Mexico' 'Jamaica' 'Philippines'\n",
      " 'El-Salvador' 'Vietnam' 'Poland' 'Canada' 'India' 'Italy' 'Cuba' 'China'\n",
      " 'Ecuador' 'Haiti' 'Portugal' 'Dominican-Republic' 'Japan' 'Germany'\n",
      " 'Columbia' 'Yugoslavia' 'Iran' 'Taiwan' 'Puerto-Rico' 'Peru' 'Nicaragua'\n",
      " 'Ireland' 'France' 'South' 'Guatemala' 'Laos' 'Trinadad&Tobago' 'Greece'\n",
      " 'Thailand' 'Honduras' 'Scotland' 'Hong' 'Outlying-US(Guam-USVI-etc)'\n",
      " 'Cambodia' 'Hungary' 'Holand-Netherlands']\n",
      "United-States\n",
      "====================================================================================================\n"
     ]
    }
   ],
   "source": [
    "for c in null_col:\n",
    "    print(X_train[c].nunique())\n",
    "    print(X_train[c].unique())\n",
    "    print(X_train[c].mode()[0])\n",
    "    print('='*100)"
   ]
  },
  {
   "cell_type": "code",
   "execution_count": 8,
   "metadata": {},
   "outputs": [
    {
     "name": "stdout",
     "output_type": "stream",
     "text": [
      "workclass\n",
      "Private             18160\n",
      "Self-emp-not-inc     2049\n",
      "Local-gov            1648\n",
      "State-gov            1037\n",
      "Self-emp-inc          909\n",
      "Federal-gov           770\n",
      "Without-pay            12\n",
      "Never-worked            7\n",
      "Name: workclass, dtype: int64\n",
      "====================================================================================================\n",
      "occupation\n",
      "Exec-managerial      3323\n",
      "Prof-specialty       3306\n",
      "Craft-repair         3296\n",
      "Adm-clerical         3037\n",
      "Sales                2898\n",
      "Other-service        2624\n",
      "Machine-op-inspct    1584\n",
      "Transport-moving     1257\n",
      "Handlers-cleaners    1080\n",
      "Farming-fishing       786\n",
      "Tech-support          746\n",
      "Protective-serv       521\n",
      "Priv-house-serv       119\n",
      "Armed-Forces            8\n",
      "Name: occupation, dtype: int64\n",
      "====================================================================================================\n",
      "native.country\n",
      "United-States                 23381\n",
      "Mexico                          516\n",
      "Philippines                     158\n",
      "Germany                         108\n",
      "Canada                           88\n",
      "Puerto-Rico                      87\n",
      "El-Salvador                      76\n",
      "India                            73\n",
      "Cuba                             73\n",
      "England                          69\n",
      "Italy                            63\n",
      "South                            62\n",
      "Jamaica                          59\n",
      "China                            57\n",
      "Vietnam                          57\n",
      "Guatemala                        54\n",
      "Dominican-Republic               51\n",
      "Japan                            49\n",
      "Poland                           47\n",
      "Columbia                         44\n",
      "Taiwan                           37\n",
      "Haiti                            37\n",
      "Iran                             34\n",
      "Portugal                         32\n",
      "Peru                             29\n",
      "Nicaragua                        27\n",
      "Ecuador                          25\n",
      "Greece                           24\n",
      "France                           23\n",
      "Ireland                          19\n",
      "Cambodia                         18\n",
      "Hong                             17\n",
      "Trinadad&Tobago                  17\n",
      "Thailand                         16\n",
      "Laos                             13\n",
      "Outlying-US(Guam-USVI-etc)       11\n",
      "Yugoslavia                       11\n",
      "Honduras                          9\n",
      "Hungary                           8\n",
      "Scotland                          7\n",
      "Holand-Netherlands                1\n",
      "Name: native.country, dtype: int64\n",
      "====================================================================================================\n"
     ]
    }
   ],
   "source": [
    "for c in null_col:\n",
    "    print(c)\n",
    "    print(X_train[c].value_counts())\n",
    "    print('='*100)"
   ]
  },
  {
   "cell_type": "code",
   "execution_count": 9,
   "metadata": {},
   "outputs": [
    {
     "data": {
      "text/plain": [
       "(0, 0)"
      ]
     },
     "execution_count": 9,
     "metadata": {},
     "output_type": "execute_result"
    }
   ],
   "source": [
    "for c in null_col:\n",
    "    X_train[c] = X_train[c].fillna(X_train[c].mode()[0])\n",
    "    X_test[c] = X_test[c].fillna(X_test[c].mode()[0])\n",
    "    \n",
    "X_train.isnull().sum().sum(), X_train.isnull().sum().sum()    "
   ]
  },
  {
   "cell_type": "markdown",
   "metadata": {},
   "source": [
    "> 수치형 컬럼 : 정규화"
   ]
  },
  {
   "cell_type": "code",
   "execution_count": 10,
   "metadata": {},
   "outputs": [],
   "source": [
    "int_col = X_train.select_dtypes(exclude='object').columns"
   ]
  },
  {
   "cell_type": "code",
   "execution_count": 11,
   "metadata": {},
   "outputs": [
    {
     "name": "stdout",
     "output_type": "stream",
     "text": [
      "(26048, 14) (6513, 14)\n"
     ]
    }
   ],
   "source": [
    "from sklearn.preprocessing import MinMaxScaler\n",
    "\n",
    "scaler = MinMaxScaler()\n",
    "\n",
    "X_train[int_col] = scaler.fit_transform(X_train[int_col])\n",
    "X_test[int_col] = scaler.transform(X_test[int_col])\n",
    "\n",
    "print(X_train.shape, X_test.shape)"
   ]
  },
  {
   "cell_type": "markdown",
   "metadata": {},
   "source": [
    "> 범주형 컬럼 : LabelEncoder"
   ]
  },
  {
   "cell_type": "code",
   "execution_count": 12,
   "metadata": {},
   "outputs": [],
   "source": [
    "from sklearn.preprocessing import LabelEncoder"
   ]
  },
  {
   "cell_type": "code",
   "execution_count": 13,
   "metadata": {},
   "outputs": [],
   "source": [
    "obj_col = X_train.select_dtypes(include='object').columns"
   ]
  },
  {
   "cell_type": "code",
   "execution_count": 14,
   "metadata": {},
   "outputs": [
    {
     "name": "stdout",
     "output_type": "stream",
     "text": [
      "(26048, 14) (6513, 14)\n"
     ]
    }
   ],
   "source": [
    "le = LabelEncoder()\n",
    "X_train[obj_col] = X_train[obj_col].apply(le.fit_transform)\n",
    "X_test[obj_col] = X_test[obj_col].apply(le.fit_transform)\n",
    "\n",
    "print(X_train.shape, X_test.shape)"
   ]
  },
  {
   "cell_type": "markdown",
   "metadata": {},
   "source": [
    "- 가변수는 X_train과 X_test의 유일값 차이로 컬럼 수가 달라지므로 제외"
   ]
  },
  {
   "cell_type": "code",
   "execution_count": 15,
   "metadata": {},
   "outputs": [
    {
     "data": {
      "text/plain": [
       "'X_train = pd.get_dummies(X_train, columns=obj_col)\\nX_test = pd.get_dummies(X_test, columns=obj_col)\\n\\nprint(X_train.shape, X_test.shape)'"
      ]
     },
     "execution_count": 15,
     "metadata": {},
     "output_type": "execute_result"
    }
   ],
   "source": [
    "'''X_train = pd.get_dummies(X_train, columns=obj_col)\n",
    "X_test = pd.get_dummies(X_test, columns=obj_col)\n",
    "\n",
    "print(X_train.shape, X_test.shape)'''"
   ]
  },
  {
   "cell_type": "markdown",
   "metadata": {},
   "source": [
    "#### 4. Modeling"
   ]
  },
  {
   "cell_type": "code",
   "execution_count": 16,
   "metadata": {},
   "outputs": [],
   "source": [
    "from sklearn.model_selection import train_test_split\n",
    "from sklearn.metrics import accuracy_score, roc_auc_score\n",
    "from sklearn.ensemble import RandomForestClassifier, GradientBoostingClassifier\n",
    "from xgboost import XGBClassifier, XGBRFClassifier"
   ]
  },
  {
   "cell_type": "code",
   "execution_count": 17,
   "metadata": {},
   "outputs": [
    {
     "data": {
      "text/plain": [
       "((20838, 14), (5210, 14), (20838,), (5210,))"
      ]
     },
     "execution_count": 17,
     "metadata": {},
     "output_type": "execute_result"
    }
   ],
   "source": [
    "X_tr, X_val, y_tr, y_val = train_test_split(X_train, y, test_size=0.2, shuffle=True, random_state=156)\n",
    "X_tr.shape, X_val.shape, y_tr.shape, y_val.shape"
   ]
  },
  {
   "cell_type": "code",
   "execution_count": 18,
   "metadata": {},
   "outputs": [],
   "source": [
    "rf = RandomForestClassifier(random_state=156)\n",
    "gb = GradientBoostingClassifier(random_state=156)\n",
    "xgb = XGBClassifier(random_state=156)\n",
    "xgbrf = XGBRFClassifier(random_state=156)\n",
    "\n",
    "models = [rf, gb, xgb, xgbrf]"
   ]
  },
  {
   "cell_type": "code",
   "execution_count": 19,
   "metadata": {},
   "outputs": [
    {
     "name": "stdout",
     "output_type": "stream",
     "text": [
      "RandomForestClassifier\n",
      "정확도 : 0.8510556621880998\n",
      "auc : 0.9003071391237654\n",
      "====================================================================================================\n",
      "GradientBoostingClassifier\n",
      "정확도 : 0.8658349328214971\n",
      "auc : 0.9155316427120175\n",
      "====================================================================================================\n",
      "XGBClassifier\n",
      "정확도 : 0.8690978886756238\n",
      "auc : 0.9212403599692556\n",
      "====================================================================================================\n",
      "XGBRFClassifier\n",
      "정확도 : 0.8585412667946257\n",
      "auc : 0.8999598461632897\n",
      "====================================================================================================\n"
     ]
    }
   ],
   "source": [
    "for model in models:\n",
    "    model.fit(X_tr, y_tr)\n",
    "    pred = model.predict(X_val)\n",
    "    pred_proba = model.predict_proba(X_val)[:,1]\n",
    "    \n",
    "    name = str(model).split('(')[0]\n",
    "    print(name)\n",
    "    print('정확도 :', accuracy_score(y_val, pred))\n",
    "    print('auc :', roc_auc_score(y_val, pred_proba))\n",
    "    print('='*100)"
   ]
  },
  {
   "cell_type": "code",
   "execution_count": 20,
   "metadata": {
    "scrolled": true
   },
   "outputs": [],
   "source": [
    "xgb = XGBClassifier(random_state=156)\n",
    "\n",
    "xgb.fit(X_train, y)\n",
    "pred = xgb.predict(X_test)"
   ]
  },
  {
   "cell_type": "code",
   "execution_count": 21,
   "metadata": {},
   "outputs": [],
   "source": [
    "out_data = pd.DataFrame({'id' : X_test_copy.id,\n",
    "                         'income' : pred})"
   ]
  },
  {
   "cell_type": "code",
   "execution_count": 22,
   "metadata": {},
   "outputs": [],
   "source": [
    "# out_data.to_csv('123456.csv', index=False)"
   ]
  },
  {
   "cell_type": "code",
   "execution_count": 23,
   "metadata": {},
   "outputs": [
    {
     "name": "stdout",
     "output_type": "stream",
     "text": [
      "정확도 : 0.8691847075080608\n",
      "auc :  0.9216985926820298\n"
     ]
    }
   ],
   "source": [
    "# 가채점\n",
    "y_test = (y_test['income'] == '>50K').astype(int)\n",
    "pred_proba = xgb.predict_proba(X_test)[:,1]\n",
    "\n",
    "print('정확도 :', accuracy_score(y_test, pred))\n",
    "print('auc : ', roc_auc_score(y_test, pred_proba))"
   ]
  },
  {
   "cell_type": "markdown",
   "metadata": {},
   "source": [
    "#### 5. 다른 모델 평가"
   ]
  },
  {
   "cell_type": "code",
   "execution_count": 24,
   "metadata": {},
   "outputs": [
    {
     "name": "stdout",
     "output_type": "stream",
     "text": [
      "RandomForestClassifier\n",
      "정확도 : 0.8564409642253954\n",
      "auc :  0.9055850282134663\n",
      "====================================================================================================\n",
      "GradientBoostingClassifier\n",
      "정확도 : 0.8651926915399969\n",
      "auc :  0.9185953584985557\n",
      "====================================================================================================\n",
      "XGBClassifier\n",
      "정확도 : 0.8691847075080608\n",
      "auc :  0.9216985926820298\n",
      "====================================================================================================\n",
      "XGBRFClassifier\n",
      "정확도 : 0.8541378780899739\n",
      "auc :  0.9044136504589013\n",
      "====================================================================================================\n"
     ]
    }
   ],
   "source": [
    "for model in models:\n",
    "    model.fit(X_train, y)\n",
    "    pred = model.predict(X_test)\n",
    "    pred_proba = model.predict_proba(X_test)[:,1]\n",
    "    \n",
    "    name = str(model).split('(')[0]\n",
    "    \n",
    "    print(name)\n",
    "    print('정확도 :', accuracy_score(y_test, pred))\n",
    "    print('auc : ', roc_auc_score(y_test, pred_proba))\n",
    "    print('='*100)"
   ]
  },
  {
   "cell_type": "code",
   "execution_count": null,
   "metadata": {},
   "outputs": [],
   "source": []
  }
 ],
 "metadata": {
  "kernelspec": {
   "display_name": "ml",
   "language": "python",
   "name": "ml"
  },
  "language_info": {
   "codemirror_mode": {
    "name": "ipython",
    "version": 3
   },
   "file_extension": ".py",
   "mimetype": "text/x-python",
   "name": "python",
   "nbconvert_exporter": "python",
   "pygments_lexer": "ipython3",
   "version": "3.7.0"
  }
 },
 "nbformat": 4,
 "nbformat_minor": 2
}
