{
 "cells": [
  {
   "cell_type": "markdown",
   "metadata": {},
   "source": [
    "# 작업 2유형\n",
    "- https://www.datamanim.com/dataset/03_dataq/typetwo.html#id3"
   ]
  },
  {
   "cell_type": "markdown",
   "metadata": {},
   "source": [
    "# 5. 중고차 가격 예측 데이터(Regression)\n",
    "\n",
    "> Attention\n",
    "- 데이터 설명 : 중고차 가격 예측 데이터 (종속변수 :G3)\n",
    "- 데이터 출처 : https://www.kaggle.com/datasets/adityadesai13/used-car-dataset-ford-and-mercedes?select=vw.csv (참고, 데이터 수정)    \n",
    "- x_train : https://raw.githubusercontent.com/Datamanim/datarepo/main/carsprice/X_train.csv\n",
    "- y_train : https://raw.githubusercontent.com/Datamanim/datarepo/main/carsprice/y_train.csv\n",
    "- x_test: https://raw.githubusercontent.com/Datamanim/datarepo/main/carsprice/X_test.csv\n",
    "- y_test(평가용) : https://raw.githubusercontent.com/Datamanim/datarepo/main/carsprice/y_test.csv"
   ]
  },
  {
   "cell_type": "markdown",
   "metadata": {},
   "source": [
    "#### 0. 시험 환경 세팅"
   ]
  },
  {
   "cell_type": "code",
   "execution_count": 1,
   "metadata": {},
   "outputs": [
    {
     "data": {
      "text/plain": [
       "((4960, 10), (4960, 2), (2672, 10), (2672, 2))"
      ]
     },
     "execution_count": 1,
     "metadata": {},
     "output_type": "execute_result"
    }
   ],
   "source": [
    "import pandas as pd\n",
    "\n",
    "X_train = pd.read_csv(\"https://raw.githubusercontent.com/Datamanim/datarepo/main/carsprice/X_train.csv\")\n",
    "y_train = pd.read_csv(\"https://raw.githubusercontent.com/Datamanim/datarepo/main/carsprice/y_train.csv\")\n",
    "X_test = pd.read_csv(\"https://raw.githubusercontent.com/Datamanim/datarepo/main/carsprice/X_test.csv\")\n",
    "y_test = pd.read_csv(\"https://raw.githubusercontent.com/Datamanim/datarepo/main/carsprice/y_test.csv\")\n",
    "\n",
    "X_train.shape, y_train.shape, X_test.shape, y_test.shape"
   ]
  },
  {
   "cell_type": "markdown",
   "metadata": {},
   "source": [
    "#### 1. 라이브러리 및 데이터 호출"
   ]
  },
  {
   "cell_type": "code",
   "execution_count": 2,
   "metadata": {},
   "outputs": [],
   "source": [
    "import numpy as np\n",
    "import pandas as pd"
   ]
  },
  {
   "cell_type": "code",
   "execution_count": 3,
   "metadata": {},
   "outputs": [
    {
     "data": {
      "text/plain": [
       "((4960, 9), (2672, 9), (4960,))"
      ]
     },
     "execution_count": 3,
     "metadata": {},
     "output_type": "execute_result"
    }
   ],
   "source": [
    "X_train.drop('carID', axis=1, inplace=True)\n",
    "carID = X_test.pop('carID')\n",
    "\n",
    "y = y_train['price']\n",
    "\n",
    "X_train.shape, X_test.shape, y.shape"
   ]
  },
  {
   "cell_type": "markdown",
   "metadata": {},
   "source": [
    "#### 2. EDA"
   ]
  },
  {
   "cell_type": "code",
   "execution_count": 4,
   "metadata": {},
   "outputs": [
    {
     "name": "stdout",
     "output_type": "stream",
     "text": [
      "<class 'pandas.core.frame.DataFrame'>\n",
      "RangeIndex: 4960 entries, 0 to 4959\n",
      "Data columns (total 9 columns):\n",
      " #   Column        Non-Null Count  Dtype  \n",
      "---  ------        --------------  -----  \n",
      " 0   brand         4960 non-null   object \n",
      " 1   model         4960 non-null   object \n",
      " 2   year          4960 non-null   int64  \n",
      " 3   transmission  4960 non-null   object \n",
      " 4   mileage       4960 non-null   int64  \n",
      " 5   fuelType      4960 non-null   object \n",
      " 6   tax           4960 non-null   float64\n",
      " 7   mpg           4960 non-null   float64\n",
      " 8   engineSize    4960 non-null   float64\n",
      "dtypes: float64(3), int64(2), object(4)\n",
      "memory usage: 348.9+ KB\n",
      "None\n",
      "==================================================\n",
      "brand           0\n",
      "model           0\n",
      "year            0\n",
      "transmission    0\n",
      "mileage         0\n",
      "fuelType        0\n",
      "tax             0\n",
      "mpg             0\n",
      "engineSize      0\n",
      "dtype: int64\n"
     ]
    }
   ],
   "source": [
    "print(X_train.info())\n",
    "print('='*50)\n",
    "print(X_train.isnull().sum())"
   ]
  },
  {
   "cell_type": "code",
   "execution_count": 5,
   "metadata": {},
   "outputs": [
    {
     "name": "stdout",
     "output_type": "stream",
     "text": [
      "<class 'pandas.core.frame.DataFrame'>\n",
      "RangeIndex: 2672 entries, 0 to 2671\n",
      "Data columns (total 9 columns):\n",
      " #   Column        Non-Null Count  Dtype  \n",
      "---  ------        --------------  -----  \n",
      " 0   brand         2672 non-null   object \n",
      " 1   model         2672 non-null   object \n",
      " 2   year          2672 non-null   int64  \n",
      " 3   transmission  2672 non-null   object \n",
      " 4   mileage       2672 non-null   int64  \n",
      " 5   fuelType      2672 non-null   object \n",
      " 6   tax           2672 non-null   float64\n",
      " 7   mpg           2672 non-null   float64\n",
      " 8   engineSize    2672 non-null   float64\n",
      "dtypes: float64(3), int64(2), object(4)\n",
      "memory usage: 188.0+ KB\n",
      "None\n",
      "==================================================\n",
      "brand           0\n",
      "model           0\n",
      "year            0\n",
      "transmission    0\n",
      "mileage         0\n",
      "fuelType        0\n",
      "tax             0\n",
      "mpg             0\n",
      "engineSize      0\n",
      "dtype: int64\n"
     ]
    }
   ],
   "source": [
    "print(X_test.info())\n",
    "print('='*50)\n",
    "print(X_test.isnull().sum())"
   ]
  },
  {
   "cell_type": "code",
   "execution_count": 6,
   "metadata": {
    "scrolled": false
   },
   "outputs": [
    {
     "name": "stdout",
     "output_type": "stream",
     "text": [
      "year 24\n",
      "[1997 1998 1999 2000 2001 2002 2003 2004 2005 2006 2007 2008 2009 2010\n",
      " 2011 2012 2013 2014 2015 2016 2017 2018 2019 2020]\n",
      "2019    1359\n",
      "2017     816\n",
      "2016     743\n",
      "2018     534\n",
      "2015     461\n",
      "2020     337\n",
      "2014     254\n",
      "2013     181\n",
      "2012      56\n",
      "2011      51\n",
      "2009      26\n",
      "2010      25\n",
      "2008      20\n",
      "2007      18\n",
      "2004      18\n",
      "2006      15\n",
      "2005      12\n",
      "2003      10\n",
      "2001       9\n",
      "2002       6\n",
      "1999       3\n",
      "1998       2\n",
      "1997       2\n",
      "2000       2\n",
      "Name: year, dtype: int64\n",
      "==================================================\n",
      "mileage 3900\n",
      "[     1      3      4 ... 185000 212000 259000]\n",
      "1000     51\n",
      "10       45\n",
      "5000     37\n",
      "3000     32\n",
      "6000     25\n",
      "         ..\n",
      "56501     1\n",
      "62308     1\n",
      "95408     1\n",
      "48297     1\n",
      "26625     1\n",
      "Name: mileage, Length: 3900, dtype: int64\n",
      "==================================================\n",
      "tax 41\n",
      "[  0.  10.  20.  30. 115. 125. 135. 140. 145. 150. 155. 160. 165. 185.\n",
      " 190. 195. 200. 205. 220. 230. 235. 240. 245. 250. 260. 265. 270. 280.\n",
      " 290. 300. 305. 315. 325. 330. 515. 535. 540. 555. 565. 570. 580.]\n",
      "145.0    2236\n",
      "150.0     428\n",
      "30.0      419\n",
      "125.0     315\n",
      "200.0     258\n",
      "260.0     197\n",
      "160.0     195\n",
      "20.0      130\n",
      "0.0       117\n",
      "325.0      80\n",
      "205.0      79\n",
      "300.0      73\n",
      "135.0      70\n",
      "235.0      61\n",
      "265.0      53\n",
      "165.0      53\n",
      "555.0      31\n",
      "330.0      24\n",
      "570.0      24\n",
      "305.0      23\n",
      "140.0      21\n",
      "240.0      18\n",
      "10.0       15\n",
      "565.0       6\n",
      "580.0       5\n",
      "315.0       3\n",
      "540.0       3\n",
      "270.0       3\n",
      "250.0       3\n",
      "190.0       2\n",
      "230.0       2\n",
      "280.0       2\n",
      "195.0       2\n",
      "220.0       2\n",
      "185.0       1\n",
      "155.0       1\n",
      "115.0       1\n",
      "515.0       1\n",
      "290.0       1\n",
      "535.0       1\n",
      "245.0       1\n",
      "Name: tax, dtype: int64\n",
      "==================================================\n",
      "mpg 125\n",
      "[  2.8  11.   17.8  18.9  19.1  19.5  19.6  20.   20.3  20.5  20.8  20.9\n",
      "  21.   21.1  21.4  21.6  21.9  22.1  22.4  22.6  22.8  23.   23.3  23.5\n",
      "  23.7  23.9  24.1  24.4  24.6  24.8  25.2  25.4  26.4  26.7  26.9  27.2\n",
      "  27.4  27.7  28.   28.2  28.3  28.5  28.8  29.1  29.4  29.7  30.   30.1\n",
      "  30.4  30.7  31.   31.4  31.7  32.1  32.5  32.8  33.2  33.6  34.   34.4\n",
      "  34.5  34.9  35.3  35.8  36.2  36.7  37.2  37.7  38.2  38.7  39.2  39.8\n",
      "  40.4  40.9  41.5  42.2  42.4  42.8  43.   43.5  43.6  44.1  44.6  44.8\n",
      "  45.6  46.3  47.1  47.9  48.   48.7  49.6  50.4  51.4  52.3  53.3  54.3\n",
      "  55.   55.4  56.5  56.6  57.6  57.7  58.9  60.1  61.4  62.7  62.8  64.2\n",
      "  65.7  67.3  68.9  70.6  72.4  74.3  78.5  85.6  94.1 100.9 122.9 128.4\n",
      " 134.5 141.2 217.3 235.  470.8]\n",
      "50.4    236\n",
      "47.1    213\n",
      "57.7    169\n",
      "53.3    164\n",
      "47.9    159\n",
      "       ... \n",
      "27.7      1\n",
      "28.2      1\n",
      "21.0      1\n",
      "42.4      1\n",
      "20.5      1\n",
      "Name: mpg, Length: 125, dtype: int64\n",
      "==================================================\n",
      "engineSize 37\n",
      "[0.  0.6 1.  1.1 1.2 1.3 1.4 1.5 1.6 1.7 1.8 1.9 2.  2.1 2.2 2.3 2.4 2.5\n",
      " 2.7 2.8 2.9 3.  3.2 3.5 3.7 4.  4.2 4.3 4.4 4.5 4.7 5.  5.2 5.5 6.  6.2\n",
      " 6.6]\n",
      "2.0    1291\n",
      "3.0     937\n",
      "1.5     327\n",
      "1.6     284\n",
      "1.2     283\n",
      "1.0     268\n",
      "2.1     245\n",
      "1.8     231\n",
      "2.2     210\n",
      "1.4     200\n",
      "2.5     112\n",
      "1.7     111\n",
      "2.9      84\n",
      "2.3      60\n",
      "4.0      56\n",
      "4.4      40\n",
      "2.4      35\n",
      "0.0      34\n",
      "5.0      30\n",
      "2.8      24\n",
      "5.2      17\n",
      "4.2      17\n",
      "3.2      11\n",
      "1.3      11\n",
      "5.5      11\n",
      "0.6       6\n",
      "3.5       6\n",
      "1.9       4\n",
      "4.7       3\n",
      "2.7       2\n",
      "6.6       2\n",
      "6.0       2\n",
      "1.1       2\n",
      "4.5       1\n",
      "3.7       1\n",
      "4.3       1\n",
      "6.2       1\n",
      "Name: engineSize, dtype: int64\n",
      "==================================================\n"
     ]
    }
   ],
   "source": [
    "int_col = X_train.select_dtypes(exclude='object').columns\n",
    "\n",
    "for c in int_col:\n",
    "    print(c, X_train[c].nunique())\n",
    "    print(np.sort(X_train[c].unique()))\n",
    "    print(X_train[c].value_counts())\n",
    "    print('='*50)"
   ]
  },
  {
   "cell_type": "code",
   "execution_count": 7,
   "metadata": {},
   "outputs": [
    {
     "name": "stdout",
     "output_type": "stream",
     "text": [
      "brand 9\n",
      "['audi' 'bmw' 'ford' 'hyundi' 'merc' 'skoda' 'toyota' 'vauxhall' 'vw']\n",
      "merc        790\n",
      "vw          768\n",
      "ford        766\n",
      "bmw         638\n",
      "hyundi      511\n",
      "toyota      446\n",
      "skoda       425\n",
      "audi        343\n",
      "vauxhall    273\n",
      "Name: brand, dtype: int64\n",
      "==================================================\n",
      "model 90\n",
      "[' 6 Series' ' 7 Series' ' 8 Series' ' A7' ' A8' ' Agila' ' Amarok'\n",
      " ' Antara' ' Arteon' ' Avensis' ' Beetle' ' CC' ' CLA Class' ' CLK'\n",
      " ' CLS Class' ' Caddy' ' Caddy Life' ' Caddy Maxi Life' ' California'\n",
      " ' Camry' ' Caravelle' ' Combo Life' ' Edge' ' Eos' ' Fusion' ' G Class'\n",
      " ' GL Class' ' GLB Class' ' GLS Class' ' GT86' ' GTC' ' Galaxy' ' Getz'\n",
      " ' Grand C-MAX' ' Grand Tourneo Connect' ' Hilux' ' I40' ' I800' ' IQ'\n",
      " ' IX20' ' IX35' ' Jetta' ' KA' ' Kamiq' ' Land Cruiser' ' M Class' ' M2'\n",
      " ' M3' ' M4' ' M5' ' M6' ' Mustang' ' PROACE VERSO' ' Prius' ' Puma' ' Q8'\n",
      " ' R8' ' RS3' ' RS4' ' RS5' ' RS6' ' Rapid' ' Roomster' ' S Class' ' S3'\n",
      " ' S4' ' SLK' ' SQ5' ' SQ7' ' Santa Fe' ' Scala' ' Scirocco' ' Shuttle'\n",
      " ' Supra' ' Tiguan Allspace' ' Tourneo Connect' ' Tourneo Custom'\n",
      " ' V Class' ' Verso' ' Vivaro' ' X-CLASS' ' X4' ' X6' ' X7' ' Yeti' ' Z3'\n",
      " ' Z4' ' Zafira Tourer' ' i3' ' i8']\n",
      " Arteon         167\n",
      " Grand C-MAX    164\n",
      " Scirocco       163\n",
      " Prius          154\n",
      " Santa Fe       150\n",
      "               ... \n",
      " Eos              5\n",
      " Z3               5\n",
      " Getz             4\n",
      " CLK              4\n",
      " IQ               2\n",
      "Name: model, Length: 90, dtype: int64\n",
      "==================================================\n",
      "transmission 4\n",
      "['Automatic' 'Manual' 'Other' 'Semi-Auto']\n",
      "Manual       1948\n",
      "Automatic    1660\n",
      "Semi-Auto    1351\n",
      "Other           1\n",
      "Name: transmission, dtype: int64\n",
      "==================================================\n",
      "fuelType 5\n",
      "['Diesel' 'Electric' 'Hybrid' 'Other' 'Petrol']\n",
      "Diesel      2989\n",
      "Petrol      1754\n",
      "Hybrid       189\n",
      "Other         26\n",
      "Electric       2\n",
      "Name: fuelType, dtype: int64\n",
      "==================================================\n"
     ]
    }
   ],
   "source": [
    "obj_col = X_train.select_dtypes(include='object').columns\n",
    "\n",
    "for c in obj_col:\n",
    "    print(c, X_train[c].nunique())\n",
    "    print(np.sort(X_train[c].unique()))\n",
    "    print(X_train[c].value_counts())\n",
    "    print('='*50)"
   ]
  },
  {
   "cell_type": "markdown",
   "metadata": {},
   "source": [
    "#### 3. Preprocessing"
   ]
  },
  {
   "cell_type": "markdown",
   "metadata": {},
   "source": [
    "> tax 컬럼 제거"
   ]
  },
  {
   "cell_type": "code",
   "execution_count": 8,
   "metadata": {},
   "outputs": [],
   "source": [
    "X_train.drop(['tax'], axis=1, inplace=True)\n",
    "X_test.drop(['tax'], axis=1, inplace=True)\n",
    "\n",
    "int_col = X_train.select_dtypes(exclude='object').columns\n",
    "obj_col = X_train.select_dtypes(include='object').columns"
   ]
  },
  {
   "cell_type": "markdown",
   "metadata": {},
   "source": [
    "> 인코딩 및 표준화\n",
    "- 범주형 컬럼 : LabelEncoder\n",
    "- 전체 컬럼 : 표준화"
   ]
  },
  {
   "cell_type": "code",
   "execution_count": 9,
   "metadata": {},
   "outputs": [],
   "source": [
    "from sklearn.preprocessing import LabelEncoder, StandardScaler\n",
    "\n",
    "le = LabelEncoder()\n",
    "X_train[obj_col] = X_train[obj_col].apply(le.fit_transform)\n",
    "X_test[obj_col] = X_test[obj_col].apply(le.fit_transform)\n",
    "\n",
    "scaler = StandardScaler()\n",
    "X_train = scaler.fit_transform(X_train)\n",
    "X_test = scaler.transform(X_test)"
   ]
  },
  {
   "cell_type": "markdown",
   "metadata": {},
   "source": [
    "#### 4. Modeling"
   ]
  },
  {
   "cell_type": "code",
   "execution_count": 10,
   "metadata": {},
   "outputs": [],
   "source": [
    "from sklearn.model_selection import train_test_split\n",
    "from sklearn.ensemble import RandomForestRegressor, GradientBoostingRegressor\n",
    "from xgboost import XGBRegressor, XGBRFRegressor\n",
    "from sklearn.metrics import mean_squared_error, r2_score"
   ]
  },
  {
   "cell_type": "code",
   "execution_count": 11,
   "metadata": {},
   "outputs": [],
   "source": [
    "X_tr, X_val, y_tr, y_val = train_test_split(X_train, y, test_size=0.3, shuffle=True, random_state=156)"
   ]
  },
  {
   "cell_type": "code",
   "execution_count": 12,
   "metadata": {},
   "outputs": [],
   "source": [
    "rf = RandomForestRegressor(random_state=156)\n",
    "gb = GradientBoostingRegressor(random_state=156)\n",
    "xgb = XGBRegressor(random_state=156)\n",
    "xgbrf = XGBRFRegressor(random_state=156)\n",
    "\n",
    "models = [rf, gb, xgb, xgbrf]"
   ]
  },
  {
   "cell_type": "code",
   "execution_count": 13,
   "metadata": {
    "scrolled": false
   },
   "outputs": [
    {
     "name": "stdout",
     "output_type": "stream",
     "text": [
      "RandomForestRegressor\n",
      "rmse : 3185.6473698089794\n",
      "r2 : 0.9557165213459863\n",
      "==========\n",
      "GradientBoostingRegressor\n",
      "rmse : 4529.1002009808335\n",
      "r2 : 0.9104902825704562\n",
      "==========\n",
      "XGBRegressor\n",
      "rmse : 3134.132289494261\n",
      "r2 : 0.9571371567906148\n",
      "==========\n",
      "XGBRFRegressor\n",
      "rmse : 5131.194093714522\n",
      "r2 : 0.8851097396947452\n",
      "==========\n"
     ]
    }
   ],
   "source": [
    "for model in models:\n",
    "    model.fit(X_tr, y_tr)\n",
    "    pred = model.predict(X_val)\n",
    "    \n",
    "    print(str(model).split('(')[0])\n",
    "    print('rmse :', np.sqrt(mean_squared_error(y_val, pred)) )\n",
    "    print('r2 :', r2_score(y_val, pred))\n",
    "    print('='*10)"
   ]
  },
  {
   "cell_type": "code",
   "execution_count": 14,
   "metadata": {},
   "outputs": [],
   "source": [
    "xgb = XGBRegressor(random_state=156)\n",
    "\n",
    "xgb.fit(X_train, y)\n",
    "pred = xgb.predict(X_test)"
   ]
  },
  {
   "cell_type": "code",
   "execution_count": 15,
   "metadata": {},
   "outputs": [
    {
     "data": {
      "text/html": [
       "<div>\n",
       "<style scoped>\n",
       "    .dataframe tbody tr th:only-of-type {\n",
       "        vertical-align: middle;\n",
       "    }\n",
       "\n",
       "    .dataframe tbody tr th {\n",
       "        vertical-align: top;\n",
       "    }\n",
       "\n",
       "    .dataframe thead th {\n",
       "        text-align: right;\n",
       "    }\n",
       "</style>\n",
       "<table border=\"1\" class=\"dataframe\">\n",
       "  <thead>\n",
       "    <tr style=\"text-align: right;\">\n",
       "      <th></th>\n",
       "      <th>carID</th>\n",
       "      <th>price</th>\n",
       "    </tr>\n",
       "  </thead>\n",
       "  <tbody>\n",
       "    <tr>\n",
       "      <th>0</th>\n",
       "      <td>12000</td>\n",
       "      <td>39778.835938</td>\n",
       "    </tr>\n",
       "    <tr>\n",
       "      <th>1</th>\n",
       "      <td>12001</td>\n",
       "      <td>24770.234375</td>\n",
       "    </tr>\n",
       "    <tr>\n",
       "      <th>2</th>\n",
       "      <td>12004</td>\n",
       "      <td>58415.011719</td>\n",
       "    </tr>\n",
       "    <tr>\n",
       "      <th>3</th>\n",
       "      <td>12013</td>\n",
       "      <td>15132.341797</td>\n",
       "    </tr>\n",
       "    <tr>\n",
       "      <th>4</th>\n",
       "      <td>12017</td>\n",
       "      <td>49248.867188</td>\n",
       "    </tr>\n",
       "    <tr>\n",
       "      <th>...</th>\n",
       "      <td>...</td>\n",
       "      <td>...</td>\n",
       "    </tr>\n",
       "    <tr>\n",
       "      <th>2667</th>\n",
       "      <td>19618</td>\n",
       "      <td>33220.523438</td>\n",
       "    </tr>\n",
       "    <tr>\n",
       "      <th>2668</th>\n",
       "      <td>19620</td>\n",
       "      <td>17011.599609</td>\n",
       "    </tr>\n",
       "    <tr>\n",
       "      <th>2669</th>\n",
       "      <td>19626</td>\n",
       "      <td>21037.207031</td>\n",
       "    </tr>\n",
       "    <tr>\n",
       "      <th>2670</th>\n",
       "      <td>19630</td>\n",
       "      <td>23786.392578</td>\n",
       "    </tr>\n",
       "    <tr>\n",
       "      <th>2671</th>\n",
       "      <td>19631</td>\n",
       "      <td>-847.218689</td>\n",
       "    </tr>\n",
       "  </tbody>\n",
       "</table>\n",
       "<p>2672 rows × 2 columns</p>\n",
       "</div>"
      ],
      "text/plain": [
       "      carID         price\n",
       "0     12000  39778.835938\n",
       "1     12001  24770.234375\n",
       "2     12004  58415.011719\n",
       "3     12013  15132.341797\n",
       "4     12017  49248.867188\n",
       "...     ...           ...\n",
       "2667  19618  33220.523438\n",
       "2668  19620  17011.599609\n",
       "2669  19626  21037.207031\n",
       "2670  19630  23786.392578\n",
       "2671  19631   -847.218689\n",
       "\n",
       "[2672 rows x 2 columns]"
      ]
     },
     "execution_count": 15,
     "metadata": {},
     "output_type": "execute_result"
    }
   ],
   "source": [
    "out_data = pd.DataFrame({'carID':carID, 'price':pred})\n",
    "out_data"
   ]
  },
  {
   "cell_type": "code",
   "execution_count": 16,
   "metadata": {},
   "outputs": [],
   "source": [
    "# out_data.to_csv('123456.csv', index=False)"
   ]
  },
  {
   "cell_type": "code",
   "execution_count": 17,
   "metadata": {},
   "outputs": [
    {
     "name": "stdout",
     "output_type": "stream",
     "text": [
      "rmse : 3705.527094014697\n",
      "r2 : 0.9501565797805308\n"
     ]
    }
   ],
   "source": [
    "# 가채점\n",
    "print('rmse :', np.sqrt(mean_squared_error(y_test['price'], pred)))\n",
    "print('r2 :', r2_score(y_test['price'], pred))"
   ]
  },
  {
   "cell_type": "markdown",
   "metadata": {},
   "source": [
    "#### 5. 다른 모델 평가"
   ]
  },
  {
   "cell_type": "code",
   "execution_count": 18,
   "metadata": {},
   "outputs": [],
   "source": [
    "rf = RandomForestRegressor(random_state=156)\n",
    "gb = GradientBoostingRegressor(random_state=156)\n",
    "xgb = XGBRegressor(random_state=156)\n",
    "xgbrf = XGBRFRegressor(random_state=156)\n",
    "\n",
    "models = [rf, gb, xgb, xgbrf]"
   ]
  },
  {
   "cell_type": "code",
   "execution_count": 19,
   "metadata": {},
   "outputs": [
    {
     "name": "stdout",
     "output_type": "stream",
     "text": [
      "RandomForestRegressor\n",
      "rmse : 3937.503360512337\n",
      "r2 : 0.9437205655743645\n",
      "==========\n",
      "GradientBoostingRegressor\n",
      "rmse : 5114.6415422941345\n",
      "r2 : 0.9050405363469172\n",
      "==========\n",
      "XGBRegressor\n",
      "rmse : 3705.527094014697\n",
      "r2 : 0.9501565797805308\n",
      "==========\n",
      "XGBRFRegressor\n",
      "rmse : 5631.521735865332\n",
      "r2 : 0.8848777208921194\n",
      "==========\n"
     ]
    }
   ],
   "source": [
    "for model in models:\n",
    "    model.fit(X_train, y)\n",
    "    pred = model.predict(X_test)\n",
    "    \n",
    "    print(str(model).split('(')[0])\n",
    "    print('rmse :', np.sqrt(mean_squared_error(y_test['price'], pred)))\n",
    "    print('r2 :', r2_score(y_test['price'], pred))\n",
    "    print('='*10)"
   ]
  },
  {
   "cell_type": "markdown",
   "metadata": {},
   "source": [
    "#### 6. pd.get_dummies만 활용\n",
    "- https://www.kaggle.com/code/yuyuyuyuy/rf-test-r2-score-0-956"
   ]
  },
  {
   "cell_type": "code",
   "execution_count": 20,
   "metadata": {},
   "outputs": [
    {
     "data": {
      "text/plain": [
       "((4960, 10), (4960, 2), (2672, 10), (2672, 2))"
      ]
     },
     "execution_count": 20,
     "metadata": {},
     "output_type": "execute_result"
    }
   ],
   "source": [
    "import pandas as pd\n",
    "\n",
    "X_train = pd.read_csv(\"https://raw.githubusercontent.com/Datamanim/datarepo/main/carsprice/X_train.csv\")\n",
    "y_train = pd.read_csv(\"https://raw.githubusercontent.com/Datamanim/datarepo/main/carsprice/y_train.csv\")\n",
    "X_test = pd.read_csv(\"https://raw.githubusercontent.com/Datamanim/datarepo/main/carsprice/X_test.csv\")\n",
    "y_test = pd.read_csv(\"https://raw.githubusercontent.com/Datamanim/datarepo/main/carsprice/y_test.csv\")\n",
    "\n",
    "X_train.shape, y_train.shape, X_test.shape, y_test.shape"
   ]
  },
  {
   "cell_type": "code",
   "execution_count": 21,
   "metadata": {},
   "outputs": [],
   "source": [
    "y = y_train['price']\n",
    "\n",
    "X_train_dum = pd.get_dummies(X_train.iloc[:, 1:])\n",
    "X_test_dum = pd.get_dummies(X_test.iloc[:, 1:])"
   ]
  },
  {
   "cell_type": "code",
   "execution_count": 22,
   "metadata": {
    "scrolled": true
   },
   "outputs": [],
   "source": [
    "miss_col = list(set(X_train_dum) - set(X_test_dum))\n",
    "X_test_dum[miss_col] = 0\n",
    "\n",
    "X_test_dum = X_test_dum[X_train_dum.columns] # train에만 있는 컬럼 추가한다음에, 컬럼 순서를 맞추기 위해 사용"
   ]
  },
  {
   "cell_type": "code",
   "execution_count": 23,
   "metadata": {},
   "outputs": [],
   "source": [
    "X_tr, X_val, y_tr, y_val = train_test_split(X_train_dum, y, test_size=0.3, shuffle=True, random_state=156)"
   ]
  },
  {
   "cell_type": "code",
   "execution_count": 24,
   "metadata": {},
   "outputs": [],
   "source": [
    "rf = RandomForestRegressor(random_state=156)\n",
    "gb = GradientBoostingRegressor(random_state=156)\n",
    "xgb = XGBRegressor(random_state=156)\n",
    "xgbrf = XGBRFRegressor(random_state=156)\n",
    "\n",
    "models = [rf, gb, xgb, xgbrf]"
   ]
  },
  {
   "cell_type": "code",
   "execution_count": 25,
   "metadata": {},
   "outputs": [
    {
     "name": "stdout",
     "output_type": "stream",
     "text": [
      "RandomForestRegressor\n",
      "rmse : 3223.5831092802546\n",
      "r2 : 0.9546555570443112\n",
      "==========\n",
      "GradientBoostingRegressor\n",
      "rmse : 4134.144876727065\n",
      "r2 : 0.9254208014602556\n",
      "==========\n",
      "XGBRegressor\n",
      "rmse : 3023.0158656652625\n",
      "r2 : 0.9601225681949662\n",
      "==========\n",
      "XGBRFRegressor\n",
      "rmse : 5130.054311383956\n",
      "r2 : 0.885160774733543\n",
      "==========\n"
     ]
    }
   ],
   "source": [
    "for model in models:\n",
    "    model.fit(X_tr, y_tr)\n",
    "    pred = model.predict(X_val)\n",
    "    \n",
    "    print(str(model).split('(')[0])\n",
    "    print('rmse :', np.sqrt(mean_squared_error(y_val, pred)) )\n",
    "    print('r2 :', r2_score(y_val, pred))\n",
    "    print('='*10)"
   ]
  },
  {
   "cell_type": "code",
   "execution_count": 26,
   "metadata": {},
   "outputs": [
    {
     "name": "stdout",
     "output_type": "stream",
     "text": [
      "RandomForestRegressor\n",
      "rmse : 3260.023863646698\n",
      "r2 : 0.9614211384338495\n",
      "==========\n",
      "GradientBoostingRegressor\n",
      "rmse : 4528.807235393141\n",
      "r2 : 0.9255481453307018\n",
      "==========\n",
      "XGBRegressor\n",
      "rmse : 3472.578620915547\n",
      "r2 : 0.9562264243145023\n",
      "==========\n",
      "XGBRFRegressor\n",
      "rmse : 5327.248700782491\n",
      "r2 : 0.8969818387981147\n",
      "==========\n"
     ]
    }
   ],
   "source": [
    "for model in models:\n",
    "    model.fit(X_train_dum, y)\n",
    "    pred = model.predict(X_test_dum)\n",
    "    \n",
    "    print(str(model).split('(')[0])\n",
    "    print('rmse :', np.sqrt(mean_squared_error(y_test['price'], pred)))\n",
    "    print('r2 :', r2_score(y_test['price'], pred))\n",
    "    print('='*10)"
   ]
  },
  {
   "cell_type": "code",
   "execution_count": null,
   "metadata": {},
   "outputs": [],
   "source": []
  }
 ],
 "metadata": {
  "kernelspec": {
   "display_name": "ml",
   "language": "python",
   "name": "ml"
  },
  "language_info": {
   "codemirror_mode": {
    "name": "ipython",
    "version": 3
   },
   "file_extension": ".py",
   "mimetype": "text/x-python",
   "name": "python",
   "nbconvert_exporter": "python",
   "pygments_lexer": "ipython3",
   "version": "3.7.0"
  }
 },
 "nbformat": 4,
 "nbformat_minor": 2
}
